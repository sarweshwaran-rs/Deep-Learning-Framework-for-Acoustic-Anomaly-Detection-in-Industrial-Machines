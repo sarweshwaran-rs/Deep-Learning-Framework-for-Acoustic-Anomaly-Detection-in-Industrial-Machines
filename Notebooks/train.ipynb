{
 "cells": [
  {
   "cell_type": "markdown",
   "id": "bda58e11",
   "metadata": {},
   "source": [
    "Necessary Standard Imports"
   ]
  },
  {
   "cell_type": "code",
   "execution_count": 1,
   "id": "8f73ee97",
   "metadata": {},
   "outputs": [],
   "source": [
    "import os\n",
    "import sys\n",
    "import pandas as pd\n",
    "import numpy as np\n",
    "import torch\n",
    "import torch.nn as nn\n",
    "import torch.nn.functional as F\n",
    "import torch.optim as optim\n",
    "import matplotlib.pyplot as plt\n",
    "from collections import Counter, defaultdict\n",
    "from torch.utils.data import DataLoader, Subset\n",
    "from sklearn.model_selection import train_test_split\n",
    "from sklearn.metrics import roc_auc_score, accuracy_score, balanced_accuracy_score, roc_curve, auc, f1_score, confusion_matrix\n",
    "from tqdm import tqdm\n",
    "import seaborn as sns"
   ]
  },
  {
   "cell_type": "markdown",
   "id": "996d091b",
   "metadata": {},
   "source": [
    "Importing the Custom "
   ]
  },
  {
   "cell_type": "code",
   "execution_count": 2,
   "id": "12d71e8c",
   "metadata": {},
   "outputs": [
    {
     "name": "stderr",
     "output_type": "stream",
     "text": [
      "f:\\CapStone\\DFCA\\capstone\\Lib\\site-packages\\tqdm\\auto.py:21: TqdmWarning: IProgress not found. Please update jupyter and ipywidgets. See https://ipywidgets.readthedocs.io/en/stable/user_install.html\n",
      "  from .autonotebook import tqdm as notebook_tqdm\n"
     ]
    }
   ],
   "source": [
    "custom_modules_path = os.path.abspath(r'F:\\Capstone\\DFCA')\n",
    "\n",
    "# Add the path to sys.path\n",
    "if custom_modules_path not in sys.path:\n",
    "    sys.path.append(custom_modules_path)\n",
    "\n",
    "from scripts.pretrain_pipeline import FusedModel\n",
    "from utils.augmentations import ComposeT, ToTensor, SpecTimePitchWarp, SpecAugment, GradCAM\n",
    "from models.heads import AnomalyScorer, SimpleAnomalyMLP, EmbeddingMLP,ComplexAnomalyMLP\n",
    "from models.losses import ContrastiveLoss\n",
    "from utils.datasets import PairedSpectrogramDataset, PairedSpectrogramDatasetCS"
   ]
  },
  {
   "cell_type": "markdown",
   "id": "adc1b470",
   "metadata": {},
   "source": [
    "Metrics and GradCam Utilities"
   ]
  },
  {
   "cell_type": "code",
   "execution_count": 3,
   "id": "c18967f4",
   "metadata": {},
   "outputs": [],
   "source": [
    "def calculate_pAUC(labels, preds, max_fpr = 0.1):\n",
    "    \"\"\"\n",
    "    Calculates Partial AUC (pAUC) for a given FPR range.\n",
    "    Args:\n",
    "        labels (array): True binary labels.\n",
    "        preds (array): Predicted probabilities for the positive class.\n",
    "        max_fpr (float): Maximum False Positive Rate for pAUC calculation.\n",
    "    Returns:\n",
    "        float: pAUC score.\n",
    "    \"\"\"\n",
    "    if len(np.unique(labels)) < 2:\n",
    "        return float('nan')\n",
    "    \n",
    "    fpr, tpr, _ = roc_curve(labels, preds)\n",
    "    #filter for FPR <= max_fpr\n",
    "    mask = fpr <= max_fpr\n",
    "    fpr_filtered, tpr_filtered = fpr[mask], tpr[mask] \n",
    "      \n",
    "    if fpr_filtered.size == 0:\n",
    "        return 0.0\n",
    "\n",
    "    if fpr_filtered.max() < max_fpr:\n",
    "        idx = np.where(fpr <= max_fpr)[0][-1]\n",
    "        if idx + 1 < len(fpr):\n",
    "            x1, y1 = fpr[idx], tpr[idx]\n",
    "            x2, y2 = fpr[idx + 1], tpr[idx + 1]\n",
    "            tpr_interp = y1 + (y2 - y1) * (max_fpr - x1) / (x2 - x1) if (x2 - x1) > 0 else y1\n",
    "            fpr_filtered = np.append(fpr_filtered, max_fpr)\n",
    "            tpr_filtered = np.append(tpr_filtered, tpr_interp)\n",
    "            sort_idx = np.argsort(fpr_filtered)\n",
    "            fpr_filtered = fpr_filtered[sort_idx]\n",
    "            tpr_filtered = tpr_filtered[sort_idx]\n",
    "\n",
    "    return auc(fpr_filtered, tpr_filtered) / max_fpr if len(fpr_filtered) >= 2 else 0.0\n",
    "\n",
    "def plot_confusion_matrix(y_true, y_pred, labels, save_path, title=\"Confusion Matrix\"):\n",
    "    \"\"\"\n",
    "        Plots a confusion matrix for model evaluation\n",
    "    Args:\n",
    "        y_true (list or np.array): Ground truth labels.\n",
    "        y_pred (list or np.array): Predicted labels.\n",
    "        labels (list): A list of labels for the matrix axes (['Normal', 'Abnormal'])\n",
    "        title (str): Title for the plot\n",
    "    \"\"\"\n",
    "    cm = confusion_matrix(y_true, y_pred)\n",
    "    tn, fp, fn, tp = cm.ravel()\n",
    "\n",
    "    precision = tp / (tp + fp) if (tp + fp) > 0 else 0\n",
    "    recall = tp / (tp+fn) if (tp + fn) > 0 else 0\n",
    "    specificity = tn / (tn + fp) if (tn + fp) > 0 else 0\n",
    "\n",
    "    print(f\"TP: {tp} | TN: {tn} | FP: {fp} | FN: {fn} | Precision: {precision:.4f} | Recall: {recall:.4f} | Specificity: {specificity:.4f}\")\n",
    "    plt.figure(figsize=(8,8))\n",
    "    sns.heatmap(cm, annot=True, fmt='d', cmap='Blues', xticklabels=labels, yticklabels=labels)\n",
    "    plt.xlabel('Predicted Label')\n",
    "    plt.ylabel('True Label')\n",
    "    plt.title(title)\n",
    "    os.makedirs(save_path, exist_ok=True)\n",
    "    plt.savefig(os.path.join(save_path, \"Confusion Matrix.png\"))\n",
    "    plt.show()\n",
    "    plt.close()\n",
    "    \n",
    "def find_last_conv(module, name_contains=None):\n",
    "    \"\"\"\n",
    "    Returns (module_ref, full_name) of the last nn.Conv2d found in module.\n",
    "    If name_contains is provided, prefer conv modules whose name includes that substring.\n",
    "    \"\"\"\n",
    "    last = (None, None)\n",
    "    for n,m in module.named_modules():\n",
    "        if isinstance(m, nn.Conv2d):\n",
    "            last = (m,n)\n",
    "        \n",
    "    if name_contains:\n",
    "        # Try to find last conv with name containing substring\n",
    "        cand = (None, None)\n",
    "        for n, m in module.named_modules():\n",
    "            if isinstance(m,nn.Conv2d) and name_contains in n.lower():\n",
    "                cand = (m,n)\n",
    "        \n",
    "        if cand[0] is not None:\n",
    "            return cand\n",
    "    \n",
    "    return last\n",
    "\n",
    "# -------------------------------\n",
    "# GradCAM Utilities\n",
    "# -------------------------------\n",
    "def prepare_gradcam_targets(model, device):\n",
    "    \"\"\"\n",
    "    Heuristic: try to find conv layers for stft and cqt branches by name\n",
    "    Fallback: the last conv in the model\n",
    "    Return dict {'stft':module, 'cqt':module}\n",
    "    \"\"\"\n",
    "    targets = {}\n",
    "    stft_conv = find_last_conv(model, name_contains='stft')\n",
    "    cqt_conv = find_last_conv(model, name_contains='cqt')\n",
    "\n",
    "    if stft_conv[0] is None:\n",
    "        stft_conv = find_last_conv(model, name_contains=None)\n",
    "    if cqt_conv[0] is None:\n",
    "        cqt_conv = find_last_conv(model, name_contains=None)\n",
    "    \n",
    "    targets['stft'] = stft_conv[0]\n",
    "    targets['cqt'] = cqt_conv[0]\n",
    "    \n",
    "    return targets\n",
    "\n",
    "def build_gradcam_for_model(model, device):\n",
    "    targets = prepare_gradcam_targets(model, device)\n",
    "    cams = {}\n",
    "    if targets['stft'] is not None:\n",
    "        cams['stft'] = GradCAM(model, targets['stft'])\n",
    "    if targets['cqt'] is not None:\n",
    "        cams['cqt'] = GradCAM(model, targets['cqt'])\n",
    "    return cams\n",
    "\n",
    "def run_and_save_gradcams(model, cams, dataset, device, out_dir=\"gradcam_outputs\", n_samples=8):\n",
    "    os.makedirs(out_dir, exist_ok=True)\n",
    "    model.eval()\n",
    "    saved = 0\n",
    "    for i in range(len(dataset)):\n",
    "        item = dataset[i]\n",
    "        stft = item['stft'].unsqueeze(0).to(device)\n",
    "        cqt = item['cqt'].unsqueeze(0).to(device)\n",
    "        label = int(item['label'])\n",
    "\n",
    "        #forward pass to get logtis\n",
    "        logits = model(stft, cqt)\n",
    "        #Pick scalar to backprop\n",
    "        if logits.ndim == 2 and logits.shape[1] == 2:\n",
    "            target_score = logits[:,1].squeeze()\n",
    "        else:\n",
    "            if logits.ndim == 2 and logits.shape[1] == 1:\n",
    "                target_score = logits.squeeze(1)\n",
    "            else:\n",
    "                target_score = logits\n",
    "        \n",
    "        #stft gradcam\n",
    "        for branch, cam in cams.items():\n",
    "            try:\n",
    "                scalar = target_score.sum()\n",
    "                heat = cam.heatmap(stft if branch =='stft' else cqt, scalar, device)\n",
    "            except Exception as e:\n",
    "                print(f\"GradCAM failed for sample {i} branch {branch}: {e}\")\n",
    "                heat = None\n",
    "            \n",
    "            # save overlay\n",
    "            base = (stft.squeeze(0).cpu().numpy() if branch =='stft' else cqt.squeeze(0).cpu().numpy())\n",
    "            if base.ndim == 3:\n",
    "                base_img = base[0]\n",
    "            else:\n",
    "                base_img = base\n",
    "            \n",
    "            # normalize base_img to 0..1\n",
    "            base_img = base_img - base_img.min()\n",
    "            if base_img.max() > 0:\n",
    "                base_img = base_img / base_img.max()\n",
    "            # Save figure\n",
    "            plt.figure(figsize=(6,4))\n",
    "            plt.imshow(base_img, aspect='auto', origin='lower')\n",
    "            if heat is not None:\n",
    "                cmap = plt.get_cmap('jet')\n",
    "                heat_resized = np.flipud(heat)\n",
    "                plt.imshow(heat_resized, cmap=cmap, alpha=0.5, extent=(0,base_img.shape[1], 0, base_img.shape[0]))\n",
    "            plt.title(f\"GradCAM {branch.upper()} - label:{label} idx:{i}\")\n",
    "            fname = os.path.join(out_dir, f\"gradcam_{branch}_idx_{i}_label{label}.png\")\n",
    "            plt.colorbar()\n",
    "            plt.tight_layout()\n",
    "            plt.savefig(fname)\n",
    "            plt.close()\n",
    "        saved +=1\n",
    "        if saved >= n_samples:\n",
    "            break\n",
    "\n",
    "    # remove hooks\n",
    "    for cam in cams.values():\n",
    "        cam.remove_hooks()\n",
    "    print(f\"Saved {saved} GradCAM images to {out_dir}\")"
   ]
  },
  {
   "cell_type": "markdown",
   "id": "dec54f2b",
   "metadata": {},
   "source": [
    "Configurations"
   ]
  },
  {
   "cell_type": "code",
   "execution_count": 4,
   "id": "b3cbb12b",
   "metadata": {},
   "outputs": [
    {
     "name": "stdout",
     "output_type": "stream",
     "text": [
      "Using Device: cuda - NVIDIA GeForce MX450\n"
     ]
    }
   ],
   "source": [
    "device = torch.device(\"cuda\" if torch.cuda.is_available() else \"cpu\")\n",
    "print(f\"Using Device: {device} - {torch.cuda.get_device_name(0)}\")\n",
    "\n",
    "FEATURES_DIR = os.path.abspath(r'F:\\Capstone\\DFCA\\data\\features')\n",
    "BATCH_SIZE = 32\n",
    "NUM_EPOCHS = 50\n",
    "LR = 5e-5\n",
    "WEIGHT_DECAY = 1e-2\n",
    "CHECKPOINT_DIR = os.path.abspath(r'F:\\Capstone\\DFCA\\checkpoints')\n",
    "CONTRASTIVE_MARGIN = 0.5\n",
    "os.makedirs(CHECKPOINT_DIR, exist_ok=True)\n",
    "HEAD_MODE = 'mlp'\n",
    "EMB_DIM = 64\n",
    "\n",
    "save_path = os.path.join(CHECKPOINT_DIR,'DFCA', '[Anomaly-With-Transformations-dropout=0.4]_MLP(5e-5)','ComplexMLP-75')\n",
    "os.makedirs(os.path.dirname(save_path), exist_ok=True)"
   ]
  },
  {
   "cell_type": "markdown",
   "id": "789b63b5",
   "metadata": {},
   "source": [
    "Train & Evaluate Functions"
   ]
  },
  {
   "cell_type": "code",
   "execution_count": 5,
   "id": "1a27f8a6",
   "metadata": {},
   "outputs": [],
   "source": [
    "def evaluate_model(model, data_loader, criterion, phase=\"Evaluation\", device=device, head_mode='classifier', sample_count=10, threshold=0.5):\n",
    "    \"\"\"\n",
    "    Evaluate a model on a given dataset.\n",
    "    \n",
    "    Args:\n",
    "        model: PyTorch model to evaluate.\n",
    "        data_loader: DataLoader for the dataset to evaluate on.\n",
    "        criterion: Loss function.\n",
    "        phase (str): Label for the evaluation phase (e.g., \"Train\", \"Validation\", \"Test\").\n",
    "        device: Torch device ('cuda' or 'cpu').\n",
    "        head_mode (str): Type of model head ('classifier', 'mlp', 'prototype', 'embedding').\n",
    "        sample_count (int): Number of sample predictions to print for inspection.\n",
    "        threshold (float): The classification threshold to use for binary predictions.\n",
    "\n",
    "    Returns:\n",
    "        avg_loss: Average loss over the dataset.\n",
    "        auc_score: ROC AUC score.\n",
    "        acc_score: Accuracy.\n",
    "        bacc_score: Balanced accuracy.\n",
    "        f1_score: F1-score.\n",
    "        all_labels: List of all ground truth labels.\n",
    "        all_probs: List of all predicted probabilities/scores for the positive class.\n",
    "        best_threshold: The optimal threshold found, or the provided threshold.\n",
    "    \"\"\"\n",
    "    model.eval()\n",
    "    running_loss = 0.0\n",
    "    all_labels, all_probs = [], []\n",
    "    \n",
    "    best_threshold = threshold\n",
    "    f1 = 0.0\n",
    "    # [DEBUG]\n",
    "    class_counts = {0: 0, 1: 0}\n",
    "\n",
    "    with torch.no_grad():\n",
    "        for batch in tqdm(data_loader, desc=phase):\n",
    "            stft = batch['stft'].to(device)\n",
    "            cqt = batch['cqt'].to(device)\n",
    "            labels = batch['label'].to(device).long()\n",
    "            \n",
    "            for lbl in labels.cpu().numpy():\n",
    "                class_counts[int(lbl)] += 1\n",
    "            \n",
    "            loss = None\n",
    "            if head_mode == \"prototype\":\n",
    "                embeddings, prototype = model(stft, cqt)\n",
    "                embeddings = F.normalize(embeddings, dim=1)\n",
    "                prototype = F.normalize(prototype, dim=0)\n",
    "                if prototype.dim() == 1:\n",
    "                    prototype = prototype.unsqueeze(0)\n",
    "                prototype = prototype.expand_as(embeddings)\n",
    "                cos_sim = torch.sum(embeddings * prototype, dim=1)\n",
    "                probs = 1 - cos_sim\n",
    "                loss = criterion(embeddings, prototype, labels.float())\n",
    "            \n",
    "            elif head_mode in [\"classifier\", \"mlp\"]:\n",
    "                logits = model(stft, cqt)\n",
    "                if logits.ndim == 2 and logits.shape[1] == 2:\n",
    "                    probs = torch.softmax(logits, dim=1)[:, 1]\n",
    "                    loss = criterion(logits, labels.long())\n",
    "                else:\n",
    "                    if logits.ndim == 2 and logits.shape[1] == 1:\n",
    "                        logits = logits.squeeze(1)\n",
    "                    probs = torch.sigmoid(logits)\n",
    "                    loss = criterion(logits, labels.float())\n",
    "            \n",
    "            elif head_mode == \"embedding\":\n",
    "                embeddings = model(stft, cqt)\n",
    "                normal_proto = model.head.normal_prototype\n",
    "                embeddings = F.normalize(embeddings, dim=1)\n",
    "                normal_proto = F.normalize(normal_proto, dim=0)\n",
    "                cos_sim = torch.sum(embeddings * normal_proto.unsqueeze(0).expand_as(embeddings), dim=1)\n",
    "                probs = 1 - cos_sim\n",
    "                if isinstance(criterion, ContrastiveLoss):\n",
    "                    loss = criterion(embeddings, normal_proto, labels)\n",
    "                else:\n",
    "                    loss = criterion(probs, labels.float())\n",
    "            elif head_mode == 'classifier-1':\n",
    "                logits = model(stft,cqt)\n",
    "                if logits.ndim == 2 and logits.shape[1] ==1:\n",
    "                    logits = logits.squeeze(1)\n",
    "                probs = torch.sigmoid(logits)\n",
    "                loss = criterion(logits, labels.float())\n",
    "            \n",
    "            else:\n",
    "                raise ValueError(f\"Unsupported head_mode:{head_mode}\")\n",
    "            \n",
    "            running_loss += loss.item() * stft.size(0)\n",
    "            all_labels.extend(labels.cpu().numpy())\n",
    "            all_probs.extend(probs.cpu().numpy())\n",
    "    \n",
    "    print(f\"[DEBUG] {phase} label counts: {class_counts}\")\n",
    "    \n",
    "    # Logic for finding optimal threshold on Validation set\n",
    "    f1 = 0.0 # Initialize f1\n",
    "    if phase == \"Validation\":\n",
    "        best_f1 = 0\n",
    "        current_optimal_threshold = 0.5\n",
    "        for thresh in np.arange(0.01, 1.0, 0.01):\n",
    "            predictions_thresh = (np.array(all_probs) > thresh).astype(int)\n",
    "            f1_candidate = f1_score(all_labels, predictions_thresh)\n",
    "            if f1_candidate > best_f1:\n",
    "                best_f1 = f1_candidate\n",
    "                current_optimal_threshold = thresh\n",
    "\n",
    "        best_threshold = current_optimal_threshold\n",
    "        f1 = best_f1\n",
    "        print(f\"Optimal Threshold (F1-score): {best_threshold:.2f}\")\n",
    "        print(f\"Best F1-score on Validation Set: {best_f1:.4f}\")\n",
    "    \n",
    "    # Calculate all metrics using the selected or optimal threshold\n",
    "    all_preds = (np.array(all_probs) > best_threshold).astype(int)\n",
    "    if phase != \"Validation\":\n",
    "        if len(np.unique(all_labels)) > 1:\n",
    "            f1 = f1_score(all_labels, all_preds)\n",
    "        else:\n",
    "            f1 = 0.0\n",
    "    \n",
    "    avg_loss = running_loss / len(data_loader.dataset)\n",
    "    auc_score = roc_auc_score(all_labels, all_probs) if len(np.unique(all_labels)) > 1 else float('nan')\n",
    "    acc_score = accuracy_score(all_labels, all_preds)\n",
    "    bacc_score = balanced_accuracy_score(all_labels, all_preds)\n",
    "    \n",
    "    print(f\"{phase} Loss: {avg_loss:.4f}, {phase} AUC: {auc_score:.4f}, {phase} ACC: {acc_score:.4f}, {phase} BACC: {bacc_score:.4f}\")\n",
    "    print(f\"[DEBUG] {phase} Prediction Distribution: {dict(Counter(all_preds))}\")\n",
    "    print(f\"[DEBUG] {phase} Label Distribution: {dict(Counter(all_labels))}\")\n",
    "    print(\"==================== Misclassification & Samples ====================\")\n",
    "    errors = [(i, p, pr, l) for i, (p, pr, l) in enumerate(zip(all_preds, all_probs, all_labels)) if p != l]\n",
    "    print(f\"{phase} Misclassified Samples: {len(errors)} / {len(all_labels)}\")\n",
    "    # for idx, pred, prob, label in errors[:10]:\n",
    "    #     print(f\"Idx {idx}: Pred = {pred}, Prob = {prob:.4f}, True = {label}\")\n",
    "    print(\"\\nSample Predictions vs Labels:\")\n",
    "    for i in range(min(sample_count, len(all_labels))):\n",
    "        print(f\"Sample {i+1}: Pred = {all_preds[i]}, Prob = {all_probs[i]:.4f}, True = {all_labels[i]}\")\n",
    "    print(\"=====================================================================\")\n",
    "    \n",
    "    return avg_loss, auc_score, acc_score, bacc_score, f1, all_labels, all_probs, best_threshold\n",
    "\n",
    "# ---------------------------------\n",
    "# Training\n",
    "# ---------------------------------\n",
    "def train_model(model, train_loader, val_loader, criterion, optimizer, head_mode, schedular=None, num_epochs=5, model_save_path=\"best_model.pth\", device=device, save_plots=True):\n",
    "    best_val_auc = -np.inf\n",
    "    best_val_loss = np.inf\n",
    "    current_threshold = 0.5\n",
    "    best_threshold = 0.5\n",
    "\n",
    "    train_losses, val_losses = [], []\n",
    "    train_aucs, val_aucs = [], []\n",
    "    train_accs, val_accs = [], []\n",
    "    train_baccs, val_baccs = [], []\n",
    "\n",
    "    model.to(device)\n",
    "\n",
    "    for epoch in range(num_epochs):\n",
    "        model.train()\n",
    "        running_loss = 0.0\n",
    "        all_labels, all_probs, all_preds = [], [], []\n",
    "\n",
    "        #DEBUG\n",
    "        class_counts_train = {0:0, 1:0}\n",
    "        epoch_stats = defaultdict(list)\n",
    "\n",
    "        print(f\"Epoch {epoch+1}/{num_epochs}\")\n",
    "        for batch in tqdm(train_loader, desc=\"Train\"):\n",
    "            stft = batch['stft'].to(device)\n",
    "            cqt = batch['cqt'].to(device)\n",
    "            labels = batch['label'].to(device).long()\n",
    "\n",
    "            #DEBUG\n",
    "            for lbl in labels.cpu().numpy():\n",
    "                class_counts_train[int(lbl)] +=1\n",
    "\n",
    "            optimizer.zero_grad()\n",
    "            outputs = model(stft, cqt)\n",
    "\n",
    "            if head_mode in [\"classifier\", \"mlp\"]:\n",
    "                # Binary classification\n",
    "                if outputs.ndim == 2 and outputs.shape[1] == 2:\n",
    "                    probs = torch.softmax(outputs, dim=1)[:, 1]\n",
    "                    preds = torch.argmax(outputs.detach().cpu(), dim=1)\n",
    "                    loss = criterion(outputs, labels)\n",
    "                else:\n",
    "                    probs = torch.sigmoid(outputs.squeeze())\n",
    "                    preds = (probs > current_threshold ).long()\n",
    "                    loss = criterion(outputs.squeeze(), labels.float())\n",
    "            elif head_mode == \"prototype\":\n",
    "                embeddings, prototype = outputs\n",
    "                #DEBUG STARTS\n",
    "                #Cosine SIM LOGGING\n",
    "                embeddings = F.normalize(embeddings, dim=1)\n",
    "                prototype = F.normalize(prototype,dim=0)\n",
    "                if prototype.dim() == 1:\n",
    "                    prototype = prototype.unsqueeze(0)\n",
    "                prototype = prototype.expand_as(embeddings)\n",
    "                cos_sim = torch.sum(embeddings * prototype, dim=1)\n",
    "\n",
    "                normal_sim = cos_sim[labels == 0].mean().item() if (labels == 0).any() else None\n",
    "                anomaly_sim = cos_sim[labels ==1].mean().item() if (labels == 1).any() else None\n",
    "                if normal_sim is not None:\n",
    "                    epoch_stats['normal_sim'].append(normal_sim)\n",
    "                if anomaly_sim is not None:\n",
    "                    epoch_stats['anomaly_sim'].append(anomaly_sim)\n",
    "                \n",
    "                #DEBUG ENDS\n",
    "                anomaly_scores = 1 - cos_sim \n",
    "                probs = anomaly_scores\n",
    "                preds = (anomaly_scores > current_threshold).long()\n",
    "                loss = criterion(embeddings, prototype, labels.float())\n",
    "\n",
    "            elif head_mode == \"embedding\":\n",
    "                embeddings = outputs\n",
    "                normal_proto = model.head.normal_prototype\n",
    "                \n",
    "                #DEBUG STARTS\n",
    "                embeddings = F.normalize(embeddings, dim=1)\n",
    "                normal_proto = F.normalize(normal_proto, dim=0)\n",
    "                cos_sim = torch.sum(embeddings * normal_proto.unsqueeze(0).expand_as(embeddings), dim=1)\n",
    "\n",
    "                normal_sim = cos_sim[labels == 0].mean().item() if (labels == 0).any() else None\n",
    "                anomaly_sim = cos_sim[labels == 1].mean().item() if (labels == 1).any() else None\n",
    "                if normal_sim is not None:\n",
    "                    epoch_stats['normal_sim'].append(normal_sim)\n",
    "                if anomaly_sim is not None:\n",
    "                    epoch_stats['anomaly_sim'].append(anomaly_sim)\n",
    "                #DEBUG ENDS\n",
    "                \n",
    "                anomaly_scores = 1 - cos_sim \n",
    "                probs = anomaly_scores\n",
    "                preds = (anomaly_scores > current_threshold).long()\n",
    "                loss = criterion(embeddings,normal_proto, labels)\n",
    "            \n",
    "            elif head_mode == 'classifier-1':\n",
    "                outputs = model(stft, cqt)\n",
    "                probs = torch.sigmoid(outputs.squeeze())\n",
    "                preds = (probs > current_threshold).long()\n",
    "                loss = criterion(outputs.squeeze(), labels.float())\n",
    "            else:\n",
    "                raise ValueError(f\"Unsupported head_mode: {head_mode}\")\n",
    "            \n",
    "            loss.backward()\n",
    "            optimizer.step()\n",
    "\n",
    "            running_loss += loss.item() * stft.size(0)\n",
    "            all_labels.extend(labels.cpu().numpy())\n",
    "            all_probs.extend(probs.detach().cpu().numpy())\n",
    "            all_preds.extend(preds.detach().cpu().numpy())\n",
    "        #DEBUG\n",
    "        print(f\"[DEBUG] Train label counts (epoch {epoch+1}): {class_counts_train}\") \n",
    "        if epoch_stats['normal_sim']:\n",
    "            avg_normal_sim = sum(epoch_stats['normal_sim']) / len(epoch_stats['normal_sim'])\n",
    "            avg_anomaly_sim = sum(epoch_stats['anomaly_sim']) / len(epoch_stats['anomaly_sim'])\n",
    "            print(f\"[DEBUG] Avg Normal CosSim: {avg_normal_sim:.4f}, Avg Anomaly CosSim: {avg_anomaly_sim:.4f}\")\n",
    "        \n",
    "        epoch_loss = running_loss / len(train_loader.dataset)\n",
    "        train_losses.append(epoch_loss)\n",
    "        train_auc = roc_auc_score(all_labels, all_probs) if len(np.unique(all_labels))> 1 else float('nan')\n",
    "        train_acc = accuracy_score(all_labels, all_preds)\n",
    "        train_bacc = balanced_accuracy_score(all_labels, all_preds)\n",
    "        train_aucs.append(train_auc)\n",
    "        train_accs.append(train_acc)\n",
    "        train_baccs.append(train_bacc)\n",
    "\n",
    "        print(f\"Train Loss: {epoch_loss:.4f} | Train AUC: {train_auc:.4f} | Train Acc: {train_acc:.4f}, | Train BAcc: {train_bacc:.4f}\")\n",
    "\n",
    "        # Validation\n",
    "        val_loss, val_auc, val_acc, val_bacc, _, _, _, current_optimal_threshold = evaluate_model(model, val_loader, criterion, phase=\"Validation\", device=device, head_mode=head_mode,sample_count=5)\n",
    "        val_losses.append(val_loss)\n",
    "        val_aucs.append(val_auc)\n",
    "        val_accs.append(val_acc)\n",
    "        val_baccs.append(val_bacc)\n",
    "\n",
    "        # scheduler step (per epoch)\n",
    "        if schedular is not None:\n",
    "            try:\n",
    "                schedular.step()\n",
    "            except Exception:\n",
    "                pass\n",
    "        print(f\"Epoch {epoch+1}: Learning Rate = {optimizer.param_groups[0]['lr']:.6f}\")\n",
    "\n",
    "        if val_loss < best_val_loss:\n",
    "            best_val_loss = val_loss\n",
    "            loss_path = model_save_path.replace(\".pth\", \"_best_loss.pth\")\n",
    "            torch.save(model.state_dict(), loss_path)\n",
    "            print(f\"Saved Best-Loss model to {loss_path} (val_loss improved to {best_val_loss:.4f})\")\n",
    "\n",
    "        # Save by best AUC\n",
    "        if not np.isnan(val_auc) and val_auc > best_val_auc:\n",
    "            best_val_auc = val_auc\n",
    "            best_threshold = current_optimal_threshold\n",
    "            torch.save(model.state_dict(), model_save_path)\n",
    "            print(f\"Saved Best-AUC model to {model_save_path} (val_auc improved to {best_val_auc:.4f})\")\n",
    "        else:\n",
    "            print(f\"Val AUC {val_auc:.4f} did not improved from best {best_val_auc:.4f}\")\n",
    "    \n",
    "    if save_plots:\n",
    "        epochs = range(1, num_epochs+1)\n",
    "        plt.figure(figsize=(18,4))\n",
    "        plt.subplot(1,4,1)\n",
    "        plt.plot(epochs, train_losses, label='Train Loss')\n",
    "        plt.plot(epochs, val_losses, label='Val Loss')\n",
    "        plt.legend()\n",
    "        plt.grid(True)\n",
    "        plt.title(\"Train/Validation Loss\")\n",
    "\n",
    "        plt.subplot(1, 4, 2)\n",
    "        plt.plot(epochs, train_aucs, label='Train AUC')\n",
    "        plt.plot(epochs, val_aucs, label='Val AUC')\n",
    "        plt.legend()\n",
    "        plt.grid(True)\n",
    "        plt.title(\"Train/Validation AUC\")\n",
    "\n",
    "        plt.subplot(1, 4, 3)\n",
    "        plt.plot(epochs, train_accs, label='Train Acc')\n",
    "        plt.plot(epochs, val_accs, label='Val Acc')\n",
    "        plt.legend()\n",
    "        plt.grid(True)\n",
    "        plt.title(\"Train/Validation Accuracy\")\n",
    "\n",
    "        plt.subplot(1, 4, 4)\n",
    "        plt.plot(epochs, train_baccs, label='Train BAcc')\n",
    "        plt.plot(epochs, val_baccs, label='Val BAcc')\n",
    "        plt.legend()\n",
    "        plt.grid(True)\n",
    "        plt.title(\"Train/Validation Balanced Acc\")\n",
    "\n",
    "        plt.tight_layout()\n",
    "        plt.savefig(os.path.join(save_path, \"training_summary.png\"))\n",
    "        # plt.show()\n",
    "\n",
    "    return best_threshold"
   ]
  },
  {
   "cell_type": "markdown",
   "id": "c669e74e",
   "metadata": {},
   "source": [
    "Main Pine Line"
   ]
  },
  {
   "cell_type": "code",
   "execution_count": 7,
   "id": "667e62fb",
   "metadata": {},
   "outputs": [
    {
     "name": "stdout",
     "output_type": "stream",
     "text": [
      "Split sizes => Train: 2943, Val: 631, Test: 631\n",
      "Label Distribution (Train): Counter({0: 2624, 1: 319})\n",
      "Label Distribution (Validation): Counter({0: 562, 1: 69})\n",
      "Label Distribution (Test): Counter({0: 563, 1: 68})\n",
      "Epoch 1/50\n"
     ]
    },
    {
     "name": "stderr",
     "output_type": "stream",
     "text": [
      "Train: 100%|██████████| 91/91 [00:59<00:00,  1.54it/s]\n"
     ]
    },
    {
     "name": "stdout",
     "output_type": "stream",
     "text": [
      "[DEBUG] Train label counts (epoch 1): {0: 2595, 1: 317}\n",
      "Train Loss: 1.2032 | Train AUC: 0.6274 | Train Acc: 0.4698, | Train BAcc: 0.5931\n"
     ]
    },
    {
     "name": "stderr",
     "output_type": "stream",
     "text": [
      "Validation: 100%|██████████| 20/20 [00:03<00:00,  5.85it/s]\n"
     ]
    },
    {
     "name": "stdout",
     "output_type": "stream",
     "text": [
      "[DEBUG] Validation label counts: {0: 562, 1: 69}\n",
      "Optimal Threshold (F1-score): 0.75\n",
      "Best F1-score on Validation Set: 0.4079\n",
      "Validation Loss: 1.0811, Validation AUC: 0.7602, Validation ACC: 0.8574, Validation BACC: 0.6784\n",
      "[DEBUG] Validation Prediction Distribution: {np.int64(0): 548, np.int64(1): 83}\n",
      "[DEBUG] Validation Label Distribution: {np.int64(0): 562, np.int64(1): 69}\n",
      "==================== Misclassification & Samples ====================\n",
      "Validation Misclassified Samples: 90 / 631\n",
      "\n",
      "Sample Predictions vs Labels:\n",
      "Sample 1: Pred = 0, Prob = 0.4018, True = 0\n",
      "Sample 2: Pred = 0, Prob = 0.4103, True = 0\n",
      "Sample 3: Pred = 1, Prob = 0.7572, True = 1\n",
      "Sample 4: Pred = 0, Prob = 0.4041, True = 0\n",
      "Sample 5: Pred = 0, Prob = 0.3778, True = 0\n",
      "=====================================================================\n",
      "Epoch 1: Learning Rate = 0.000050\n",
      "Saved Best-Loss model to F:\\Capstone\\DFCA\\checkpoints\\DFCA\\[Anomaly-With-Transformations-dropout=0.4]_MLP(5e-5)\\ComplexMLP-75\\best_model_best_loss.pth (val_loss improved to 1.0811)\n",
      "Saved Best-AUC model to F:\\Capstone\\DFCA\\checkpoints\\DFCA\\[Anomaly-With-Transformations-dropout=0.4]_MLP(5e-5)\\ComplexMLP-75\\best_model.pth (val_auc improved to 0.7602)\n",
      "Epoch 2/50\n"
     ]
    },
    {
     "name": "stderr",
     "output_type": "stream",
     "text": [
      "Train: 100%|██████████| 91/91 [00:59<00:00,  1.53it/s]\n"
     ]
    },
    {
     "name": "stdout",
     "output_type": "stream",
     "text": [
      "[DEBUG] Train label counts (epoch 2): {0: 2595, 1: 317}\n",
      "Train Loss: 1.1064 | Train AUC: 0.7140 | Train Acc: 0.6367, | Train BAcc: 0.6591\n"
     ]
    },
    {
     "name": "stderr",
     "output_type": "stream",
     "text": [
      "Validation: 100%|██████████| 20/20 [00:03<00:00,  5.79it/s]\n"
     ]
    },
    {
     "name": "stdout",
     "output_type": "stream",
     "text": [
      "[DEBUG] Validation label counts: {0: 562, 1: 69}\n",
      "Optimal Threshold (F1-score): 0.80\n",
      "Best F1-score on Validation Set: 0.4530\n",
      "Validation Loss: 1.0745, Validation AUC: 0.8020, Validation ACC: 0.8431, Validation BACC: 0.7339\n",
      "[DEBUG] Validation Prediction Distribution: {np.int64(0): 519, np.int64(1): 112}\n",
      "[DEBUG] Validation Label Distribution: {np.int64(0): 562, np.int64(1): 69}\n",
      "==================== Misclassification & Samples ====================\n",
      "Validation Misclassified Samples: 99 / 631\n",
      "\n",
      "Sample Predictions vs Labels:\n",
      "Sample 1: Pred = 0, Prob = 0.5430, True = 0\n",
      "Sample 2: Pred = 0, Prob = 0.6008, True = 0\n",
      "Sample 3: Pred = 1, Prob = 0.8707, True = 1\n",
      "Sample 4: Pred = 0, Prob = 0.2513, True = 0\n",
      "Sample 5: Pred = 0, Prob = 0.3206, True = 0\n",
      "=====================================================================\n",
      "Epoch 2: Learning Rate = 0.000050\n",
      "Saved Best-Loss model to F:\\Capstone\\DFCA\\checkpoints\\DFCA\\[Anomaly-With-Transformations-dropout=0.4]_MLP(5e-5)\\ComplexMLP-75\\best_model_best_loss.pth (val_loss improved to 1.0745)\n",
      "Saved Best-AUC model to F:\\Capstone\\DFCA\\checkpoints\\DFCA\\[Anomaly-With-Transformations-dropout=0.4]_MLP(5e-5)\\ComplexMLP-75\\best_model.pth (val_auc improved to 0.8020)\n",
      "Epoch 3/50\n"
     ]
    },
    {
     "name": "stderr",
     "output_type": "stream",
     "text": [
      "Train: 100%|██████████| 91/91 [01:04<00:00,  1.41it/s]\n"
     ]
    },
    {
     "name": "stdout",
     "output_type": "stream",
     "text": [
      "[DEBUG] Train label counts (epoch 3): {0: 2596, 1: 316}\n",
      "Train Loss: 1.0574 | Train AUC: 0.7407 | Train Acc: 0.6490, | Train BAcc: 0.6948\n"
     ]
    },
    {
     "name": "stderr",
     "output_type": "stream",
     "text": [
      "Validation: 100%|██████████| 20/20 [00:03<00:00,  5.20it/s]\n"
     ]
    },
    {
     "name": "stdout",
     "output_type": "stream",
     "text": [
      "[DEBUG] Validation label counts: {0: 562, 1: 69}\n",
      "Optimal Threshold (F1-score): 0.59\n",
      "Best F1-score on Validation Set: 0.5027\n",
      "Validation Loss: 0.8842, Validation AUC: 0.8552, Validation ACC: 0.8526, Validation BACC: 0.7774\n",
      "[DEBUG] Validation Prediction Distribution: {np.int64(0): 513, np.int64(1): 118}\n",
      "[DEBUG] Validation Label Distribution: {np.int64(0): 562, np.int64(1): 69}\n",
      "==================== Misclassification & Samples ====================\n",
      "Validation Misclassified Samples: 93 / 631\n",
      "\n",
      "Sample Predictions vs Labels:\n",
      "Sample 1: Pred = 0, Prob = 0.3551, True = 0\n",
      "Sample 2: Pred = 0, Prob = 0.2352, True = 0\n",
      "Sample 3: Pred = 0, Prob = 0.2896, True = 1\n",
      "Sample 4: Pred = 0, Prob = 0.2140, True = 0\n",
      "Sample 5: Pred = 0, Prob = 0.0718, True = 0\n",
      "=====================================================================\n",
      "Epoch 3: Learning Rate = 0.000050\n",
      "Saved Best-Loss model to F:\\Capstone\\DFCA\\checkpoints\\DFCA\\[Anomaly-With-Transformations-dropout=0.4]_MLP(5e-5)\\ComplexMLP-75\\best_model_best_loss.pth (val_loss improved to 0.8842)\n",
      "Saved Best-AUC model to F:\\Capstone\\DFCA\\checkpoints\\DFCA\\[Anomaly-With-Transformations-dropout=0.4]_MLP(5e-5)\\ComplexMLP-75\\best_model.pth (val_auc improved to 0.8552)\n",
      "Epoch 4/50\n"
     ]
    },
    {
     "name": "stderr",
     "output_type": "stream",
     "text": [
      "Train: 100%|██████████| 91/91 [01:08<00:00,  1.33it/s]\n"
     ]
    },
    {
     "name": "stdout",
     "output_type": "stream",
     "text": [
      "[DEBUG] Train label counts (epoch 4): {0: 2594, 1: 318}\n",
      "Train Loss: 1.0235 | Train AUC: 0.7759 | Train Acc: 0.6734, | Train BAcc: 0.7146\n"
     ]
    },
    {
     "name": "stderr",
     "output_type": "stream",
     "text": [
      "Validation: 100%|██████████| 20/20 [00:03<00:00,  5.23it/s]\n"
     ]
    },
    {
     "name": "stdout",
     "output_type": "stream",
     "text": [
      "[DEBUG] Validation label counts: {0: 562, 1: 69}\n",
      "Optimal Threshold (F1-score): 0.64\n",
      "Best F1-score on Validation Set: 0.5750\n",
      "Validation Loss: 0.8480, Validation AUC: 0.8763, Validation ACC: 0.8922, Validation BACC: 0.7933\n",
      "[DEBUG] Validation Prediction Distribution: {np.int64(0): 540, np.int64(1): 91}\n",
      "[DEBUG] Validation Label Distribution: {np.int64(0): 562, np.int64(1): 69}\n",
      "==================== Misclassification & Samples ====================\n",
      "Validation Misclassified Samples: 68 / 631\n",
      "\n",
      "Sample Predictions vs Labels:\n",
      "Sample 1: Pred = 0, Prob = 0.3035, True = 0\n",
      "Sample 2: Pred = 0, Prob = 0.3119, True = 0\n",
      "Sample 3: Pred = 0, Prob = 0.5442, True = 1\n",
      "Sample 4: Pred = 0, Prob = 0.1581, True = 0\n",
      "Sample 5: Pred = 0, Prob = 0.0882, True = 0\n",
      "=====================================================================\n",
      "Epoch 4: Learning Rate = 0.000049\n",
      "Saved Best-Loss model to F:\\Capstone\\DFCA\\checkpoints\\DFCA\\[Anomaly-With-Transformations-dropout=0.4]_MLP(5e-5)\\ComplexMLP-75\\best_model_best_loss.pth (val_loss improved to 0.8480)\n",
      "Saved Best-AUC model to F:\\Capstone\\DFCA\\checkpoints\\DFCA\\[Anomaly-With-Transformations-dropout=0.4]_MLP(5e-5)\\ComplexMLP-75\\best_model.pth (val_auc improved to 0.8763)\n",
      "Epoch 5/50\n"
     ]
    },
    {
     "name": "stderr",
     "output_type": "stream",
     "text": [
      "Train: 100%|██████████| 91/91 [01:08<00:00,  1.33it/s]\n"
     ]
    },
    {
     "name": "stdout",
     "output_type": "stream",
     "text": [
      "[DEBUG] Train label counts (epoch 5): {0: 2596, 1: 316}\n",
      "Train Loss: 0.9760 | Train AUC: 0.7910 | Train Acc: 0.6624, | Train BAcc: 0.7203\n"
     ]
    },
    {
     "name": "stderr",
     "output_type": "stream",
     "text": [
      "Validation: 100%|██████████| 20/20 [00:03<00:00,  5.22it/s]\n"
     ]
    },
    {
     "name": "stdout",
     "output_type": "stream",
     "text": [
      "[DEBUG] Validation label counts: {0: 562, 1: 69}\n",
      "Optimal Threshold (F1-score): 0.73\n",
      "Best F1-score on Validation Set: 0.5698\n",
      "Validation Loss: 0.8183, Validation AUC: 0.8778, Validation ACC: 0.8780, Validation BACC: 0.8171\n",
      "[DEBUG] Validation Prediction Distribution: {np.int64(0): 521, np.int64(1): 110}\n",
      "[DEBUG] Validation Label Distribution: {np.int64(0): 562, np.int64(1): 69}\n",
      "==================== Misclassification & Samples ====================\n",
      "Validation Misclassified Samples: 77 / 631\n",
      "\n",
      "Sample Predictions vs Labels:\n",
      "Sample 1: Pred = 0, Prob = 0.3568, True = 0\n",
      "Sample 2: Pred = 0, Prob = 0.2768, True = 0\n",
      "Sample 3: Pred = 1, Prob = 0.8059, True = 1\n",
      "Sample 4: Pred = 0, Prob = 0.1443, True = 0\n",
      "Sample 5: Pred = 0, Prob = 0.0651, True = 0\n",
      "=====================================================================\n",
      "Epoch 5: Learning Rate = 0.000049\n",
      "Saved Best-Loss model to F:\\Capstone\\DFCA\\checkpoints\\DFCA\\[Anomaly-With-Transformations-dropout=0.4]_MLP(5e-5)\\ComplexMLP-75\\best_model_best_loss.pth (val_loss improved to 0.8183)\n",
      "Saved Best-AUC model to F:\\Capstone\\DFCA\\checkpoints\\DFCA\\[Anomaly-With-Transformations-dropout=0.4]_MLP(5e-5)\\ComplexMLP-75\\best_model.pth (val_auc improved to 0.8778)\n",
      "Epoch 6/50\n"
     ]
    },
    {
     "name": "stderr",
     "output_type": "stream",
     "text": [
      "Train: 100%|██████████| 91/91 [01:08<00:00,  1.32it/s]\n"
     ]
    },
    {
     "name": "stdout",
     "output_type": "stream",
     "text": [
      "[DEBUG] Train label counts (epoch 6): {0: 2596, 1: 316}\n",
      "Train Loss: 0.9538 | Train AUC: 0.8006 | Train Acc: 0.6944, | Train BAcc: 0.7271\n"
     ]
    },
    {
     "name": "stderr",
     "output_type": "stream",
     "text": [
      "Validation: 100%|██████████| 20/20 [00:03<00:00,  5.12it/s]\n"
     ]
    },
    {
     "name": "stdout",
     "output_type": "stream",
     "text": [
      "[DEBUG] Validation label counts: {0: 562, 1: 69}\n",
      "Optimal Threshold (F1-score): 0.73\n",
      "Best F1-score on Validation Set: 0.5556\n",
      "Validation Loss: 0.7563, Validation AUC: 0.8857, Validation ACC: 0.8859, Validation BACC: 0.7834\n",
      "[DEBUG] Validation Prediction Distribution: {np.int64(0): 538, np.int64(1): 93}\n",
      "[DEBUG] Validation Label Distribution: {np.int64(0): 562, np.int64(1): 69}\n",
      "==================== Misclassification & Samples ====================\n",
      "Validation Misclassified Samples: 72 / 631\n",
      "\n",
      "Sample Predictions vs Labels:\n",
      "Sample 1: Pred = 0, Prob = 0.1744, True = 0\n",
      "Sample 2: Pred = 0, Prob = 0.3485, True = 0\n",
      "Sample 3: Pred = 1, Prob = 0.7794, True = 1\n",
      "Sample 4: Pred = 0, Prob = 0.2017, True = 0\n",
      "Sample 5: Pred = 0, Prob = 0.0018, True = 0\n",
      "=====================================================================\n",
      "Epoch 6: Learning Rate = 0.000048\n",
      "Saved Best-Loss model to F:\\Capstone\\DFCA\\checkpoints\\DFCA\\[Anomaly-With-Transformations-dropout=0.4]_MLP(5e-5)\\ComplexMLP-75\\best_model_best_loss.pth (val_loss improved to 0.7563)\n",
      "Saved Best-AUC model to F:\\Capstone\\DFCA\\checkpoints\\DFCA\\[Anomaly-With-Transformations-dropout=0.4]_MLP(5e-5)\\ComplexMLP-75\\best_model.pth (val_auc improved to 0.8857)\n",
      "Epoch 7/50\n"
     ]
    },
    {
     "name": "stderr",
     "output_type": "stream",
     "text": [
      "Train: 100%|██████████| 91/91 [01:09<00:00,  1.31it/s]\n"
     ]
    },
    {
     "name": "stdout",
     "output_type": "stream",
     "text": [
      "[DEBUG] Train label counts (epoch 7): {0: 2597, 1: 315}\n",
      "Train Loss: 0.9178 | Train AUC: 0.8222 | Train Acc: 0.7249, | Train BAcc: 0.7440\n"
     ]
    },
    {
     "name": "stderr",
     "output_type": "stream",
     "text": [
      "Validation: 100%|██████████| 20/20 [00:04<00:00,  4.71it/s]\n"
     ]
    },
    {
     "name": "stdout",
     "output_type": "stream",
     "text": [
      "[DEBUG] Validation label counts: {0: 562, 1: 69}\n",
      "Optimal Threshold (F1-score): 0.71\n",
      "Best F1-score on Validation Set: 0.5909\n",
      "Validation Loss: 0.7740, Validation AUC: 0.8819, Validation ACC: 0.8859, Validation BACC: 0.8279\n",
      "[DEBUG] Validation Prediction Distribution: {np.int64(0): 524, np.int64(1): 107}\n",
      "[DEBUG] Validation Label Distribution: {np.int64(0): 562, np.int64(1): 69}\n",
      "==================== Misclassification & Samples ====================\n",
      "Validation Misclassified Samples: 72 / 631\n",
      "\n",
      "Sample Predictions vs Labels:\n",
      "Sample 1: Pred = 0, Prob = 0.2703, True = 0\n",
      "Sample 2: Pred = 0, Prob = 0.1640, True = 0\n",
      "Sample 3: Pred = 1, Prob = 0.7113, True = 1\n",
      "Sample 4: Pred = 0, Prob = 0.0212, True = 0\n",
      "Sample 5: Pred = 0, Prob = 0.0014, True = 0\n",
      "=====================================================================\n",
      "Epoch 7: Learning Rate = 0.000048\n",
      "Val AUC 0.8819 did not improved from best 0.8857\n",
      "Epoch 8/50\n"
     ]
    },
    {
     "name": "stderr",
     "output_type": "stream",
     "text": [
      "Train: 100%|██████████| 91/91 [01:10<00:00,  1.29it/s]\n"
     ]
    },
    {
     "name": "stdout",
     "output_type": "stream",
     "text": [
      "[DEBUG] Train label counts (epoch 8): {0: 2599, 1: 313}\n",
      "Train Loss: 0.9035 | Train AUC: 0.8254 | Train Acc: 0.7431, | Train BAcc: 0.7493\n"
     ]
    },
    {
     "name": "stderr",
     "output_type": "stream",
     "text": [
      "Validation: 100%|██████████| 20/20 [00:04<00:00,  4.97it/s]\n"
     ]
    },
    {
     "name": "stdout",
     "output_type": "stream",
     "text": [
      "[DEBUG] Validation label counts: {0: 562, 1: 69}\n",
      "Optimal Threshold (F1-score): 0.81\n",
      "Best F1-score on Validation Set: 0.6081\n",
      "Validation Loss: 0.7618, Validation AUC: 0.8975, Validation ACC: 0.9081, Validation BACC: 0.7958\n",
      "[DEBUG] Validation Prediction Distribution: {np.int64(0): 552, np.int64(1): 79}\n",
      "[DEBUG] Validation Label Distribution: {np.int64(0): 562, np.int64(1): 69}\n",
      "==================== Misclassification & Samples ====================\n",
      "Validation Misclassified Samples: 58 / 631\n",
      "\n",
      "Sample Predictions vs Labels:\n",
      "Sample 1: Pred = 0, Prob = 0.3802, True = 0\n",
      "Sample 2: Pred = 0, Prob = 0.2457, True = 0\n",
      "Sample 3: Pred = 1, Prob = 0.8845, True = 1\n",
      "Sample 4: Pred = 0, Prob = 0.1498, True = 0\n",
      "Sample 5: Pred = 0, Prob = 0.0148, True = 0\n",
      "=====================================================================\n",
      "Epoch 8: Learning Rate = 0.000047\n",
      "Saved Best-AUC model to F:\\Capstone\\DFCA\\checkpoints\\DFCA\\[Anomaly-With-Transformations-dropout=0.4]_MLP(5e-5)\\ComplexMLP-75\\best_model.pth (val_auc improved to 0.8975)\n",
      "Epoch 9/50\n"
     ]
    },
    {
     "name": "stderr",
     "output_type": "stream",
     "text": [
      "Train: 100%|██████████| 91/91 [01:07<00:00,  1.34it/s]\n"
     ]
    },
    {
     "name": "stdout",
     "output_type": "stream",
     "text": [
      "[DEBUG] Train label counts (epoch 9): {0: 2597, 1: 315}\n",
      "Train Loss: 0.8431 | Train AUC: 0.8539 | Train Acc: 0.7634, | Train BAcc: 0.7781\n"
     ]
    },
    {
     "name": "stderr",
     "output_type": "stream",
     "text": [
      "Validation: 100%|██████████| 20/20 [00:03<00:00,  5.29it/s]\n"
     ]
    },
    {
     "name": "stdout",
     "output_type": "stream",
     "text": [
      "[DEBUG] Validation label counts: {0: 562, 1: 69}\n",
      "Optimal Threshold (F1-score): 0.83\n",
      "Best F1-score on Validation Set: 0.5963\n",
      "Validation Loss: 0.6996, Validation AUC: 0.9139, Validation ACC: 0.8970, Validation BACC: 0.8087\n",
      "[DEBUG] Validation Prediction Distribution: {np.int64(0): 539, np.int64(1): 92}\n",
      "[DEBUG] Validation Label Distribution: {np.int64(0): 562, np.int64(1): 69}\n",
      "==================== Misclassification & Samples ====================\n",
      "Validation Misclassified Samples: 65 / 631\n",
      "\n",
      "Sample Predictions vs Labels:\n",
      "Sample 1: Pred = 0, Prob = 0.1637, True = 0\n",
      "Sample 2: Pred = 0, Prob = 0.1805, True = 0\n",
      "Sample 3: Pred = 1, Prob = 0.8863, True = 1\n",
      "Sample 4: Pred = 0, Prob = 0.0287, True = 0\n",
      "Sample 5: Pred = 0, Prob = 0.0156, True = 0\n",
      "=====================================================================\n",
      "Epoch 9: Learning Rate = 0.000046\n",
      "Saved Best-Loss model to F:\\Capstone\\DFCA\\checkpoints\\DFCA\\[Anomaly-With-Transformations-dropout=0.4]_MLP(5e-5)\\ComplexMLP-75\\best_model_best_loss.pth (val_loss improved to 0.6996)\n",
      "Saved Best-AUC model to F:\\Capstone\\DFCA\\checkpoints\\DFCA\\[Anomaly-With-Transformations-dropout=0.4]_MLP(5e-5)\\ComplexMLP-75\\best_model.pth (val_auc improved to 0.9139)\n",
      "Epoch 10/50\n"
     ]
    },
    {
     "name": "stderr",
     "output_type": "stream",
     "text": [
      "Train: 100%|██████████| 91/91 [01:04<00:00,  1.41it/s]\n"
     ]
    },
    {
     "name": "stdout",
     "output_type": "stream",
     "text": [
      "[DEBUG] Train label counts (epoch 10): {0: 2598, 1: 314}\n",
      "Train Loss: 0.8320 | Train AUC: 0.8586 | Train Acc: 0.7479, | Train BAcc: 0.7803\n"
     ]
    },
    {
     "name": "stderr",
     "output_type": "stream",
     "text": [
      "Validation: 100%|██████████| 20/20 [00:03<00:00,  5.32it/s]\n"
     ]
    },
    {
     "name": "stdout",
     "output_type": "stream",
     "text": [
      "[DEBUG] Validation label counts: {0: 562, 1: 69}\n",
      "Optimal Threshold (F1-score): 0.78\n",
      "Best F1-score on Validation Set: 0.6173\n",
      "Validation Loss: 0.6787, Validation AUC: 0.9160, Validation ACC: 0.9017, Validation BACC: 0.8241\n",
      "[DEBUG] Validation Prediction Distribution: {np.int64(0): 538, np.int64(1): 93}\n",
      "[DEBUG] Validation Label Distribution: {np.int64(0): 562, np.int64(1): 69}\n",
      "==================== Misclassification & Samples ====================\n",
      "Validation Misclassified Samples: 62 / 631\n",
      "\n",
      "Sample Predictions vs Labels:\n",
      "Sample 1: Pred = 0, Prob = 0.1679, True = 0\n",
      "Sample 2: Pred = 0, Prob = 0.1322, True = 0\n",
      "Sample 3: Pred = 1, Prob = 0.7819, True = 1\n",
      "Sample 4: Pred = 0, Prob = 0.0276, True = 0\n",
      "Sample 5: Pred = 0, Prob = 0.0040, True = 0\n",
      "=====================================================================\n",
      "Epoch 10: Learning Rate = 0.000045\n",
      "Saved Best-Loss model to F:\\Capstone\\DFCA\\checkpoints\\DFCA\\[Anomaly-With-Transformations-dropout=0.4]_MLP(5e-5)\\ComplexMLP-75\\best_model_best_loss.pth (val_loss improved to 0.6787)\n",
      "Saved Best-AUC model to F:\\Capstone\\DFCA\\checkpoints\\DFCA\\[Anomaly-With-Transformations-dropout=0.4]_MLP(5e-5)\\ComplexMLP-75\\best_model.pth (val_auc improved to 0.9160)\n",
      "Epoch 11/50\n"
     ]
    },
    {
     "name": "stderr",
     "output_type": "stream",
     "text": [
      "Train: 100%|██████████| 91/91 [01:03<00:00,  1.43it/s]\n"
     ]
    },
    {
     "name": "stdout",
     "output_type": "stream",
     "text": [
      "[DEBUG] Train label counts (epoch 11): {0: 2599, 1: 313}\n",
      "Train Loss: 0.7983 | Train AUC: 0.8681 | Train Acc: 0.7572, | Train BAcc: 0.7769\n"
     ]
    },
    {
     "name": "stderr",
     "output_type": "stream",
     "text": [
      "Validation: 100%|██████████| 20/20 [00:03<00:00,  5.44it/s]\n"
     ]
    },
    {
     "name": "stdout",
     "output_type": "stream",
     "text": [
      "[DEBUG] Validation label counts: {0: 562, 1: 69}\n",
      "Optimal Threshold (F1-score): 0.76\n",
      "Best F1-score on Validation Set: 0.6389\n",
      "Validation Loss: 0.6564, Validation AUC: 0.9180, Validation ACC: 0.9176, Validation BACC: 0.8075\n",
      "[DEBUG] Validation Prediction Distribution: {np.int64(0): 556, np.int64(1): 75}\n",
      "[DEBUG] Validation Label Distribution: {np.int64(0): 562, np.int64(1): 69}\n",
      "==================== Misclassification & Samples ====================\n",
      "Validation Misclassified Samples: 52 / 631\n",
      "\n",
      "Sample Predictions vs Labels:\n",
      "Sample 1: Pred = 0, Prob = 0.1667, True = 0\n",
      "Sample 2: Pred = 0, Prob = 0.3698, True = 0\n",
      "Sample 3: Pred = 0, Prob = 0.6274, True = 1\n",
      "Sample 4: Pred = 0, Prob = 0.0144, True = 0\n",
      "Sample 5: Pred = 0, Prob = 0.0003, True = 0\n",
      "=====================================================================\n",
      "Epoch 11: Learning Rate = 0.000044\n",
      "Saved Best-Loss model to F:\\Capstone\\DFCA\\checkpoints\\DFCA\\[Anomaly-With-Transformations-dropout=0.4]_MLP(5e-5)\\ComplexMLP-75\\best_model_best_loss.pth (val_loss improved to 0.6564)\n",
      "Saved Best-AUC model to F:\\Capstone\\DFCA\\checkpoints\\DFCA\\[Anomaly-With-Transformations-dropout=0.4]_MLP(5e-5)\\ComplexMLP-75\\best_model.pth (val_auc improved to 0.9180)\n",
      "Epoch 12/50\n"
     ]
    },
    {
     "name": "stderr",
     "output_type": "stream",
     "text": [
      "Train: 100%|██████████| 91/91 [01:03<00:00,  1.43it/s]\n"
     ]
    },
    {
     "name": "stdout",
     "output_type": "stream",
     "text": [
      "[DEBUG] Train label counts (epoch 12): {0: 2598, 1: 314}\n",
      "Train Loss: 0.7732 | Train AUC: 0.8801 | Train Acc: 0.7970, | Train BAcc: 0.8051\n"
     ]
    },
    {
     "name": "stderr",
     "output_type": "stream",
     "text": [
      "Validation: 100%|██████████| 20/20 [00:03<00:00,  5.41it/s]\n"
     ]
    },
    {
     "name": "stdout",
     "output_type": "stream",
     "text": [
      "[DEBUG] Validation label counts: {0: 562, 1: 69}\n",
      "Optimal Threshold (F1-score): 0.88\n",
      "Best F1-score on Validation Set: 0.5736\n",
      "Validation Loss: 0.7786, Validation AUC: 0.8893, Validation ACC: 0.9128, Validation BACC: 0.7477\n",
      "[DEBUG] Validation Prediction Distribution: {np.int64(0): 571, np.int64(1): 60}\n",
      "[DEBUG] Validation Label Distribution: {np.int64(0): 562, np.int64(1): 69}\n",
      "==================== Misclassification & Samples ====================\n",
      "Validation Misclassified Samples: 55 / 631\n",
      "\n",
      "Sample Predictions vs Labels:\n",
      "Sample 1: Pred = 0, Prob = 0.2211, True = 0\n",
      "Sample 2: Pred = 0, Prob = 0.2272, True = 0\n",
      "Sample 3: Pred = 0, Prob = 0.7923, True = 1\n",
      "Sample 4: Pred = 0, Prob = 0.0472, True = 0\n",
      "Sample 5: Pred = 0, Prob = 0.0302, True = 0\n",
      "=====================================================================\n",
      "Epoch 12: Learning Rate = 0.000043\n",
      "Val AUC 0.8893 did not improved from best 0.9180\n",
      "Epoch 13/50\n"
     ]
    },
    {
     "name": "stderr",
     "output_type": "stream",
     "text": [
      "Train: 100%|██████████| 91/91 [01:03<00:00,  1.44it/s]\n"
     ]
    },
    {
     "name": "stdout",
     "output_type": "stream",
     "text": [
      "[DEBUG] Train label counts (epoch 13): {0: 2596, 1: 316}\n",
      "Train Loss: 0.8109 | Train AUC: 0.8658 | Train Acc: 0.7661, | Train BAcc: 0.8035\n"
     ]
    },
    {
     "name": "stderr",
     "output_type": "stream",
     "text": [
      "Validation: 100%|██████████| 20/20 [00:03<00:00,  5.39it/s]\n"
     ]
    },
    {
     "name": "stdout",
     "output_type": "stream",
     "text": [
      "[DEBUG] Validation label counts: {0: 562, 1: 69}\n",
      "Optimal Threshold (F1-score): 0.73\n",
      "Best F1-score on Validation Set: 0.6667\n",
      "Validation Loss: 0.6465, Validation AUC: 0.9237, Validation ACC: 0.9223, Validation BACC: 0.8293\n",
      "[DEBUG] Validation Prediction Distribution: {np.int64(0): 553, np.int64(1): 78}\n",
      "[DEBUG] Validation Label Distribution: {np.int64(0): 562, np.int64(1): 69}\n",
      "==================== Misclassification & Samples ====================\n",
      "Validation Misclassified Samples: 49 / 631\n",
      "\n",
      "Sample Predictions vs Labels:\n",
      "Sample 1: Pred = 0, Prob = 0.1185, True = 0\n",
      "Sample 2: Pred = 0, Prob = 0.1911, True = 0\n",
      "Sample 3: Pred = 0, Prob = 0.6713, True = 1\n",
      "Sample 4: Pred = 0, Prob = 0.0396, True = 0\n",
      "Sample 5: Pred = 0, Prob = 0.0018, True = 0\n",
      "=====================================================================\n",
      "Epoch 13: Learning Rate = 0.000042\n",
      "Saved Best-Loss model to F:\\Capstone\\DFCA\\checkpoints\\DFCA\\[Anomaly-With-Transformations-dropout=0.4]_MLP(5e-5)\\ComplexMLP-75\\best_model_best_loss.pth (val_loss improved to 0.6465)\n",
      "Saved Best-AUC model to F:\\Capstone\\DFCA\\checkpoints\\DFCA\\[Anomaly-With-Transformations-dropout=0.4]_MLP(5e-5)\\ComplexMLP-75\\best_model.pth (val_auc improved to 0.9237)\n",
      "Epoch 14/50\n"
     ]
    },
    {
     "name": "stderr",
     "output_type": "stream",
     "text": [
      "Train: 100%|██████████| 91/91 [01:03<00:00,  1.43it/s]\n"
     ]
    },
    {
     "name": "stdout",
     "output_type": "stream",
     "text": [
      "[DEBUG] Train label counts (epoch 14): {0: 2600, 1: 312}\n",
      "Train Loss: 0.7305 | Train AUC: 0.8894 | Train Acc: 0.8015, | Train BAcc: 0.8127\n"
     ]
    },
    {
     "name": "stderr",
     "output_type": "stream",
     "text": [
      "Validation: 100%|██████████| 20/20 [00:03<00:00,  5.32it/s]\n"
     ]
    },
    {
     "name": "stdout",
     "output_type": "stream",
     "text": [
      "[DEBUG] Validation label counts: {0: 562, 1: 69}\n",
      "Optimal Threshold (F1-score): 0.63\n",
      "Best F1-score on Validation Set: 0.6667\n",
      "Validation Loss: 0.6567, Validation AUC: 0.9280, Validation ACC: 0.9192, Validation BACC: 0.8402\n",
      "[DEBUG] Validation Prediction Distribution: {np.int64(0): 547, np.int64(1): 84}\n",
      "[DEBUG] Validation Label Distribution: {np.int64(0): 562, np.int64(1): 69}\n",
      "==================== Misclassification & Samples ====================\n",
      "Validation Misclassified Samples: 51 / 631\n",
      "\n",
      "Sample Predictions vs Labels:\n",
      "Sample 1: Pred = 0, Prob = 0.0812, True = 0\n",
      "Sample 2: Pred = 0, Prob = 0.0816, True = 0\n",
      "Sample 3: Pred = 0, Prob = 0.2914, True = 1\n",
      "Sample 4: Pred = 0, Prob = 0.0061, True = 0\n",
      "Sample 5: Pred = 0, Prob = 0.0007, True = 0\n",
      "=====================================================================\n",
      "Epoch 14: Learning Rate = 0.000041\n",
      "Saved Best-AUC model to F:\\Capstone\\DFCA\\checkpoints\\DFCA\\[Anomaly-With-Transformations-dropout=0.4]_MLP(5e-5)\\ComplexMLP-75\\best_model.pth (val_auc improved to 0.9280)\n",
      "Epoch 15/50\n"
     ]
    },
    {
     "name": "stderr",
     "output_type": "stream",
     "text": [
      "Train: 100%|██████████| 91/91 [01:03<00:00,  1.43it/s]\n"
     ]
    },
    {
     "name": "stdout",
     "output_type": "stream",
     "text": [
      "[DEBUG] Train label counts (epoch 15): {0: 2594, 1: 318}\n",
      "Train Loss: 0.7390 | Train AUC: 0.8927 | Train Acc: 0.7974, | Train BAcc: 0.8145\n"
     ]
    },
    {
     "name": "stderr",
     "output_type": "stream",
     "text": [
      "Validation: 100%|██████████| 20/20 [00:03<00:00,  5.37it/s]\n"
     ]
    },
    {
     "name": "stdout",
     "output_type": "stream",
     "text": [
      "[DEBUG] Validation label counts: {0: 562, 1: 69}\n",
      "Optimal Threshold (F1-score): 0.90\n",
      "Best F1-score on Validation Set: 0.6917\n",
      "Validation Loss: 0.6365, Validation AUC: 0.9270, Validation ACC: 0.9350, Validation BACC: 0.8173\n",
      "[DEBUG] Validation Prediction Distribution: {np.int64(0): 567, np.int64(1): 64}\n",
      "[DEBUG] Validation Label Distribution: {np.int64(0): 562, np.int64(1): 69}\n",
      "==================== Misclassification & Samples ====================\n",
      "Validation Misclassified Samples: 41 / 631\n",
      "\n",
      "Sample Predictions vs Labels:\n",
      "Sample 1: Pred = 0, Prob = 0.1572, True = 0\n",
      "Sample 2: Pred = 0, Prob = 0.1792, True = 0\n",
      "Sample 3: Pred = 0, Prob = 0.5214, True = 1\n",
      "Sample 4: Pred = 0, Prob = 0.0051, True = 0\n",
      "Sample 5: Pred = 0, Prob = 0.0017, True = 0\n",
      "=====================================================================\n",
      "Epoch 15: Learning Rate = 0.000040\n",
      "Saved Best-Loss model to F:\\Capstone\\DFCA\\checkpoints\\DFCA\\[Anomaly-With-Transformations-dropout=0.4]_MLP(5e-5)\\ComplexMLP-75\\best_model_best_loss.pth (val_loss improved to 0.6365)\n",
      "Val AUC 0.9270 did not improved from best 0.9280\n",
      "Epoch 16/50\n"
     ]
    },
    {
     "name": "stderr",
     "output_type": "stream",
     "text": [
      "Train: 100%|██████████| 91/91 [01:04<00:00,  1.42it/s]\n"
     ]
    },
    {
     "name": "stdout",
     "output_type": "stream",
     "text": [
      "[DEBUG] Train label counts (epoch 16): {0: 2597, 1: 315}\n",
      "Train Loss: 0.7189 | Train AUC: 0.8950 | Train Acc: 0.8098, | Train BAcc: 0.8138\n"
     ]
    },
    {
     "name": "stderr",
     "output_type": "stream",
     "text": [
      "Validation: 100%|██████████| 20/20 [00:03<00:00,  5.42it/s]\n"
     ]
    },
    {
     "name": "stdout",
     "output_type": "stream",
     "text": [
      "[DEBUG] Validation label counts: {0: 562, 1: 69}\n",
      "Optimal Threshold (F1-score): 0.83\n",
      "Best F1-score on Validation Set: 0.6950\n",
      "Validation Loss: 0.6194, Validation AUC: 0.9292, Validation ACC: 0.9319, Validation BACC: 0.8346\n",
      "[DEBUG] Validation Prediction Distribution: {np.int64(0): 559, np.int64(1): 72}\n",
      "[DEBUG] Validation Label Distribution: {np.int64(0): 562, np.int64(1): 69}\n",
      "==================== Misclassification & Samples ====================\n",
      "Validation Misclassified Samples: 43 / 631\n",
      "\n",
      "Sample Predictions vs Labels:\n",
      "Sample 1: Pred = 0, Prob = 0.1678, True = 0\n",
      "Sample 2: Pred = 0, Prob = 0.0746, True = 0\n",
      "Sample 3: Pred = 0, Prob = 0.5973, True = 1\n",
      "Sample 4: Pred = 0, Prob = 0.0010, True = 0\n",
      "Sample 5: Pred = 0, Prob = 0.0003, True = 0\n",
      "=====================================================================\n",
      "Epoch 16: Learning Rate = 0.000039\n",
      "Saved Best-Loss model to F:\\Capstone\\DFCA\\checkpoints\\DFCA\\[Anomaly-With-Transformations-dropout=0.4]_MLP(5e-5)\\ComplexMLP-75\\best_model_best_loss.pth (val_loss improved to 0.6194)\n",
      "Saved Best-AUC model to F:\\Capstone\\DFCA\\checkpoints\\DFCA\\[Anomaly-With-Transformations-dropout=0.4]_MLP(5e-5)\\ComplexMLP-75\\best_model.pth (val_auc improved to 0.9292)\n",
      "Epoch 17/50\n"
     ]
    },
    {
     "name": "stderr",
     "output_type": "stream",
     "text": [
      "Train: 100%|██████████| 91/91 [01:02<00:00,  1.46it/s]\n"
     ]
    },
    {
     "name": "stdout",
     "output_type": "stream",
     "text": [
      "[DEBUG] Train label counts (epoch 17): {0: 2595, 1: 317}\n",
      "Train Loss: 0.6641 | Train AUC: 0.9127 | Train Acc: 0.8400, | Train BAcc: 0.8534\n"
     ]
    },
    {
     "name": "stderr",
     "output_type": "stream",
     "text": [
      "Validation: 100%|██████████| 20/20 [00:03<00:00,  5.39it/s]\n"
     ]
    },
    {
     "name": "stdout",
     "output_type": "stream",
     "text": [
      "[DEBUG] Validation label counts: {0: 562, 1: 69}\n",
      "Optimal Threshold (F1-score): 0.81\n",
      "Best F1-score on Validation Set: 0.6667\n",
      "Validation Loss: 0.6670, Validation AUC: 0.9168, Validation ACC: 0.9208, Validation BACC: 0.8347\n",
      "[DEBUG] Validation Prediction Distribution: {np.int64(0): 550, np.int64(1): 81}\n",
      "[DEBUG] Validation Label Distribution: {np.int64(0): 562, np.int64(1): 69}\n",
      "==================== Misclassification & Samples ====================\n",
      "Validation Misclassified Samples: 50 / 631\n",
      "\n",
      "Sample Predictions vs Labels:\n",
      "Sample 1: Pred = 0, Prob = 0.0909, True = 0\n",
      "Sample 2: Pred = 0, Prob = 0.1053, True = 0\n",
      "Sample 3: Pred = 0, Prob = 0.1854, True = 1\n",
      "Sample 4: Pred = 0, Prob = 0.0107, True = 0\n",
      "Sample 5: Pred = 0, Prob = 0.0011, True = 0\n",
      "=====================================================================\n",
      "Epoch 17: Learning Rate = 0.000037\n",
      "Val AUC 0.9168 did not improved from best 0.9292\n",
      "Epoch 18/50\n"
     ]
    },
    {
     "name": "stderr",
     "output_type": "stream",
     "text": [
      "Train: 100%|██████████| 91/91 [01:02<00:00,  1.45it/s]\n"
     ]
    },
    {
     "name": "stdout",
     "output_type": "stream",
     "text": [
      "[DEBUG] Train label counts (epoch 18): {0: 2596, 1: 316}\n",
      "Train Loss: 0.7468 | Train AUC: 0.8880 | Train Acc: 0.8132, | Train BAcc: 0.8035\n"
     ]
    },
    {
     "name": "stderr",
     "output_type": "stream",
     "text": [
      "Validation: 100%|██████████| 20/20 [00:03<00:00,  5.42it/s]\n"
     ]
    },
    {
     "name": "stdout",
     "output_type": "stream",
     "text": [
      "[DEBUG] Validation label counts: {0: 562, 1: 69}\n",
      "Optimal Threshold (F1-score): 0.86\n",
      "Best F1-score on Validation Set: 0.7143\n",
      "Validation Loss: 0.6104, Validation AUC: 0.9278, Validation ACC: 0.9429, Validation BACC: 0.8154\n",
      "[DEBUG] Validation Prediction Distribution: {np.int64(0): 574, np.int64(1): 57}\n",
      "[DEBUG] Validation Label Distribution: {np.int64(0): 562, np.int64(1): 69}\n",
      "==================== Misclassification & Samples ====================\n",
      "Validation Misclassified Samples: 36 / 631\n",
      "\n",
      "Sample Predictions vs Labels:\n",
      "Sample 1: Pred = 0, Prob = 0.1072, True = 0\n",
      "Sample 2: Pred = 0, Prob = 0.0478, True = 0\n",
      "Sample 3: Pred = 0, Prob = 0.5274, True = 1\n",
      "Sample 4: Pred = 0, Prob = 0.0027, True = 0\n",
      "Sample 5: Pred = 0, Prob = 0.0002, True = 0\n",
      "=====================================================================\n",
      "Epoch 18: Learning Rate = 0.000036\n",
      "Saved Best-Loss model to F:\\Capstone\\DFCA\\checkpoints\\DFCA\\[Anomaly-With-Transformations-dropout=0.4]_MLP(5e-5)\\ComplexMLP-75\\best_model_best_loss.pth (val_loss improved to 0.6104)\n",
      "Val AUC 0.9278 did not improved from best 0.9292\n",
      "Epoch 19/50\n"
     ]
    },
    {
     "name": "stderr",
     "output_type": "stream",
     "text": [
      "Train: 100%|██████████| 91/91 [01:03<00:00,  1.44it/s]\n"
     ]
    },
    {
     "name": "stdout",
     "output_type": "stream",
     "text": [
      "[DEBUG] Train label counts (epoch 19): {0: 2598, 1: 314}\n",
      "Train Loss: 0.6662 | Train AUC: 0.9115 | Train Acc: 0.8341, | Train BAcc: 0.8482\n"
     ]
    },
    {
     "name": "stderr",
     "output_type": "stream",
     "text": [
      "Validation: 100%|██████████| 20/20 [00:03<00:00,  5.42it/s]\n"
     ]
    },
    {
     "name": "stdout",
     "output_type": "stream",
     "text": [
      "[DEBUG] Validation label counts: {0: 562, 1: 69}\n",
      "Optimal Threshold (F1-score): 0.75\n",
      "Best F1-score on Validation Set: 0.7413\n",
      "Validation Loss: 0.5638, Validation AUC: 0.9399, Validation ACC: 0.9414, Validation BACC: 0.8654\n",
      "[DEBUG] Validation Prediction Distribution: {np.int64(0): 557, np.int64(1): 74}\n",
      "[DEBUG] Validation Label Distribution: {np.int64(0): 562, np.int64(1): 69}\n",
      "==================== Misclassification & Samples ====================\n",
      "Validation Misclassified Samples: 37 / 631\n",
      "\n",
      "Sample Predictions vs Labels:\n",
      "Sample 1: Pred = 0, Prob = 0.1377, True = 0\n",
      "Sample 2: Pred = 0, Prob = 0.0681, True = 0\n",
      "Sample 3: Pred = 0, Prob = 0.2133, True = 1\n",
      "Sample 4: Pred = 0, Prob = 0.0060, True = 0\n",
      "Sample 5: Pred = 0, Prob = 0.0001, True = 0\n",
      "=====================================================================\n",
      "Epoch 19: Learning Rate = 0.000035\n",
      "Saved Best-Loss model to F:\\Capstone\\DFCA\\checkpoints\\DFCA\\[Anomaly-With-Transformations-dropout=0.4]_MLP(5e-5)\\ComplexMLP-75\\best_model_best_loss.pth (val_loss improved to 0.5638)\n",
      "Saved Best-AUC model to F:\\Capstone\\DFCA\\checkpoints\\DFCA\\[Anomaly-With-Transformations-dropout=0.4]_MLP(5e-5)\\ComplexMLP-75\\best_model.pth (val_auc improved to 0.9399)\n",
      "Epoch 20/50\n"
     ]
    },
    {
     "name": "stderr",
     "output_type": "stream",
     "text": [
      "Train: 100%|██████████| 91/91 [01:03<00:00,  1.44it/s]\n"
     ]
    },
    {
     "name": "stdout",
     "output_type": "stream",
     "text": [
      "[DEBUG] Train label counts (epoch 20): {0: 2596, 1: 316}\n",
      "Train Loss: 0.6510 | Train AUC: 0.9151 | Train Acc: 0.8492, | Train BAcc: 0.8446\n"
     ]
    },
    {
     "name": "stderr",
     "output_type": "stream",
     "text": [
      "Validation: 100%|██████████| 20/20 [00:03<00:00,  5.33it/s]\n"
     ]
    },
    {
     "name": "stdout",
     "output_type": "stream",
     "text": [
      "[DEBUG] Validation label counts: {0: 562, 1: 69}\n",
      "Optimal Threshold (F1-score): 0.82\n",
      "Best F1-score on Validation Set: 0.6906\n",
      "Validation Loss: 0.6397, Validation AUC: 0.9302, Validation ACC: 0.9319, Validation BACC: 0.8283\n",
      "[DEBUG] Validation Prediction Distribution: {np.int64(0): 561, np.int64(1): 70}\n",
      "[DEBUG] Validation Label Distribution: {np.int64(0): 562, np.int64(1): 69}\n",
      "==================== Misclassification & Samples ====================\n",
      "Validation Misclassified Samples: 43 / 631\n",
      "\n",
      "Sample Predictions vs Labels:\n",
      "Sample 1: Pred = 0, Prob = 0.1550, True = 0\n",
      "Sample 2: Pred = 0, Prob = 0.1127, True = 0\n",
      "Sample 3: Pred = 0, Prob = 0.6141, True = 1\n",
      "Sample 4: Pred = 0, Prob = 0.0048, True = 0\n",
      "Sample 5: Pred = 0, Prob = 0.0002, True = 0\n",
      "=====================================================================\n",
      "Epoch 20: Learning Rate = 0.000033\n",
      "Val AUC 0.9302 did not improved from best 0.9399\n",
      "Epoch 21/50\n"
     ]
    },
    {
     "name": "stderr",
     "output_type": "stream",
     "text": [
      "Train: 100%|██████████| 91/91 [01:03<00:00,  1.42it/s]\n"
     ]
    },
    {
     "name": "stdout",
     "output_type": "stream",
     "text": [
      "[DEBUG] Train label counts (epoch 21): {0: 2594, 1: 318}\n",
      "Train Loss: 0.6837 | Train AUC: 0.9074 | Train Acc: 0.8396, | Train BAcc: 0.8410\n"
     ]
    },
    {
     "name": "stderr",
     "output_type": "stream",
     "text": [
      "Validation: 100%|██████████| 20/20 [00:03<00:00,  5.39it/s]\n"
     ]
    },
    {
     "name": "stdout",
     "output_type": "stream",
     "text": [
      "[DEBUG] Validation label counts: {0: 562, 1: 69}\n",
      "Optimal Threshold (F1-score): 0.90\n",
      "Best F1-score on Validation Set: 0.7077\n",
      "Validation Loss: 0.5704, Validation AUC: 0.9360, Validation ACC: 0.9398, Validation BACC: 0.8200\n",
      "[DEBUG] Validation Prediction Distribution: {np.int64(0): 570, np.int64(1): 61}\n",
      "[DEBUG] Validation Label Distribution: {np.int64(0): 562, np.int64(1): 69}\n",
      "==================== Misclassification & Samples ====================\n",
      "Validation Misclassified Samples: 38 / 631\n",
      "\n",
      "Sample Predictions vs Labels:\n",
      "Sample 1: Pred = 0, Prob = 0.1030, True = 0\n",
      "Sample 2: Pred = 0, Prob = 0.0651, True = 0\n",
      "Sample 3: Pred = 0, Prob = 0.6256, True = 1\n",
      "Sample 4: Pred = 0, Prob = 0.0063, True = 0\n",
      "Sample 5: Pred = 0, Prob = 0.0008, True = 0\n",
      "=====================================================================\n",
      "Epoch 21: Learning Rate = 0.000032\n",
      "Val AUC 0.9360 did not improved from best 0.9399\n",
      "Epoch 22/50\n"
     ]
    },
    {
     "name": "stderr",
     "output_type": "stream",
     "text": [
      "Train: 100%|██████████| 91/91 [01:03<00:00,  1.43it/s]\n"
     ]
    },
    {
     "name": "stdout",
     "output_type": "stream",
     "text": [
      "[DEBUG] Train label counts (epoch 22): {0: 2595, 1: 317}\n",
      "Train Loss: 0.6530 | Train AUC: 0.9143 | Train Acc: 0.8448, | Train BAcc: 0.8520\n"
     ]
    },
    {
     "name": "stderr",
     "output_type": "stream",
     "text": [
      "Validation: 100%|██████████| 20/20 [00:03<00:00,  5.26it/s]\n"
     ]
    },
    {
     "name": "stdout",
     "output_type": "stream",
     "text": [
      "[DEBUG] Validation label counts: {0: 562, 1: 69}\n",
      "Optimal Threshold (F1-score): 0.86\n",
      "Best F1-score on Validation Set: 0.6986\n",
      "Validation Loss: 0.5882, Validation AUC: 0.9390, Validation ACC: 0.9303, Validation BACC: 0.8464\n",
      "[DEBUG] Validation Prediction Distribution: {np.int64(0): 554, np.int64(1): 77}\n",
      "[DEBUG] Validation Label Distribution: {np.int64(0): 562, np.int64(1): 69}\n",
      "==================== Misclassification & Samples ====================\n",
      "Validation Misclassified Samples: 44 / 631\n",
      "\n",
      "Sample Predictions vs Labels:\n",
      "Sample 1: Pred = 0, Prob = 0.1393, True = 0\n",
      "Sample 2: Pred = 0, Prob = 0.0350, True = 0\n",
      "Sample 3: Pred = 0, Prob = 0.7128, True = 1\n",
      "Sample 4: Pred = 0, Prob = 0.0006, True = 0\n",
      "Sample 5: Pred = 0, Prob = 0.0004, True = 0\n",
      "=====================================================================\n",
      "Epoch 22: Learning Rate = 0.000030\n",
      "Val AUC 0.9390 did not improved from best 0.9399\n",
      "Epoch 23/50\n"
     ]
    },
    {
     "name": "stderr",
     "output_type": "stream",
     "text": [
      "Train: 100%|██████████| 91/91 [01:03<00:00,  1.43it/s]\n"
     ]
    },
    {
     "name": "stdout",
     "output_type": "stream",
     "text": [
      "[DEBUG] Train label counts (epoch 23): {0: 2597, 1: 315}\n",
      "Train Loss: 0.6454 | Train AUC: 0.9174 | Train Acc: 0.8503, | Train BAcc: 0.8352\n"
     ]
    },
    {
     "name": "stderr",
     "output_type": "stream",
     "text": [
      "Validation: 100%|██████████| 20/20 [00:03<00:00,  5.48it/s]\n"
     ]
    },
    {
     "name": "stdout",
     "output_type": "stream",
     "text": [
      "[DEBUG] Validation label counts: {0: 562, 1: 69}\n",
      "Optimal Threshold (F1-score): 0.90\n",
      "Best F1-score on Validation Set: 0.6912\n",
      "Validation Loss: 0.6122, Validation AUC: 0.9316, Validation ACC: 0.9334, Validation BACC: 0.8228\n",
      "[DEBUG] Validation Prediction Distribution: {np.int64(0): 564, np.int64(1): 67}\n",
      "[DEBUG] Validation Label Distribution: {np.int64(0): 562, np.int64(1): 69}\n",
      "==================== Misclassification & Samples ====================\n",
      "Validation Misclassified Samples: 42 / 631\n",
      "\n",
      "Sample Predictions vs Labels:\n",
      "Sample 1: Pred = 0, Prob = 0.1075, True = 0\n",
      "Sample 2: Pred = 0, Prob = 0.0140, True = 0\n",
      "Sample 3: Pred = 0, Prob = 0.6023, True = 1\n",
      "Sample 4: Pred = 0, Prob = 0.0001, True = 0\n",
      "Sample 5: Pred = 0, Prob = 0.0000, True = 0\n",
      "=====================================================================\n",
      "Epoch 23: Learning Rate = 0.000029\n",
      "Val AUC 0.9316 did not improved from best 0.9399\n",
      "Epoch 24/50\n"
     ]
    },
    {
     "name": "stderr",
     "output_type": "stream",
     "text": [
      "Train: 100%|██████████| 91/91 [01:02<00:00,  1.46it/s]\n"
     ]
    },
    {
     "name": "stdout",
     "output_type": "stream",
     "text": [
      "[DEBUG] Train label counts (epoch 24): {0: 2597, 1: 315}\n",
      "Train Loss: 0.6372 | Train AUC: 0.9201 | Train Acc: 0.8506, | Train BAcc: 0.8479\n"
     ]
    },
    {
     "name": "stderr",
     "output_type": "stream",
     "text": [
      "Validation: 100%|██████████| 20/20 [00:03<00:00,  5.46it/s]\n"
     ]
    },
    {
     "name": "stdout",
     "output_type": "stream",
     "text": [
      "[DEBUG] Validation label counts: {0: 562, 1: 69}\n",
      "Optimal Threshold (F1-score): 0.87\n",
      "Best F1-score on Validation Set: 0.6667\n",
      "Validation Loss: 0.6343, Validation AUC: 0.9372, Validation ACC: 0.9176, Validation BACC: 0.8457\n",
      "[DEBUG] Validation Prediction Distribution: {np.int64(0): 544, np.int64(1): 87}\n",
      "[DEBUG] Validation Label Distribution: {np.int64(0): 562, np.int64(1): 69}\n",
      "==================== Misclassification & Samples ====================\n",
      "Validation Misclassified Samples: 52 / 631\n",
      "\n",
      "Sample Predictions vs Labels:\n",
      "Sample 1: Pred = 0, Prob = 0.1332, True = 0\n",
      "Sample 2: Pred = 0, Prob = 0.0076, True = 0\n",
      "Sample 3: Pred = 0, Prob = 0.6562, True = 1\n",
      "Sample 4: Pred = 0, Prob = 0.0007, True = 0\n",
      "Sample 5: Pred = 0, Prob = 0.0006, True = 0\n",
      "=====================================================================\n",
      "Epoch 24: Learning Rate = 0.000027\n",
      "Val AUC 0.9372 did not improved from best 0.9399\n",
      "Epoch 25/50\n"
     ]
    },
    {
     "name": "stderr",
     "output_type": "stream",
     "text": [
      "Train: 100%|██████████| 91/91 [01:02<00:00,  1.45it/s]\n"
     ]
    },
    {
     "name": "stdout",
     "output_type": "stream",
     "text": [
      "[DEBUG] Train label counts (epoch 25): {0: 2595, 1: 317}\n",
      "Train Loss: 0.5894 | Train AUC: 0.9315 | Train Acc: 0.8547, | Train BAcc: 0.8479\n"
     ]
    },
    {
     "name": "stderr",
     "output_type": "stream",
     "text": [
      "Validation: 100%|██████████| 20/20 [00:03<00:00,  5.37it/s]\n"
     ]
    },
    {
     "name": "stdout",
     "output_type": "stream",
     "text": [
      "[DEBUG] Validation label counts: {0: 562, 1: 69}\n",
      "Optimal Threshold (F1-score): 0.92\n",
      "Best F1-score on Validation Set: 0.7481\n",
      "Validation Loss: 0.5571, Validation AUC: 0.9432, Validation ACC: 0.9477, Validation BACC: 0.8435\n",
      "[DEBUG] Validation Prediction Distribution: {np.int64(0): 569, np.int64(1): 62}\n",
      "[DEBUG] Validation Label Distribution: {np.int64(0): 562, np.int64(1): 69}\n",
      "==================== Misclassification & Samples ====================\n",
      "Validation Misclassified Samples: 33 / 631\n",
      "\n",
      "Sample Predictions vs Labels:\n",
      "Sample 1: Pred = 0, Prob = 0.1184, True = 0\n",
      "Sample 2: Pred = 0, Prob = 0.0212, True = 0\n",
      "Sample 3: Pred = 0, Prob = 0.6402, True = 1\n",
      "Sample 4: Pred = 0, Prob = 0.0010, True = 0\n",
      "Sample 5: Pred = 0, Prob = 0.0002, True = 0\n",
      "=====================================================================\n",
      "Epoch 25: Learning Rate = 0.000026\n",
      "Saved Best-Loss model to F:\\Capstone\\DFCA\\checkpoints\\DFCA\\[Anomaly-With-Transformations-dropout=0.4]_MLP(5e-5)\\ComplexMLP-75\\best_model_best_loss.pth (val_loss improved to 0.5571)\n",
      "Saved Best-AUC model to F:\\Capstone\\DFCA\\checkpoints\\DFCA\\[Anomaly-With-Transformations-dropout=0.4]_MLP(5e-5)\\ComplexMLP-75\\best_model.pth (val_auc improved to 0.9432)\n",
      "Epoch 26/50\n"
     ]
    },
    {
     "name": "stderr",
     "output_type": "stream",
     "text": [
      "Train: 100%|██████████| 91/91 [01:03<00:00,  1.44it/s]\n"
     ]
    },
    {
     "name": "stdout",
     "output_type": "stream",
     "text": [
      "[DEBUG] Train label counts (epoch 26): {0: 2594, 1: 318}\n",
      "Train Loss: 0.5662 | Train AUC: 0.9362 | Train Acc: 0.8565, | Train BAcc: 0.8711\n"
     ]
    },
    {
     "name": "stderr",
     "output_type": "stream",
     "text": [
      "Validation: 100%|██████████| 20/20 [00:03<00:00,  5.38it/s]\n"
     ]
    },
    {
     "name": "stdout",
     "output_type": "stream",
     "text": [
      "[DEBUG] Validation label counts: {0: 562, 1: 69}\n",
      "Optimal Threshold (F1-score): 0.90\n",
      "Best F1-score on Validation Set: 0.6892\n",
      "Validation Loss: 0.6217, Validation AUC: 0.9378, Validation ACC: 0.9271, Validation BACC: 0.8447\n",
      "[DEBUG] Validation Prediction Distribution: {np.int64(0): 552, np.int64(1): 79}\n",
      "[DEBUG] Validation Label Distribution: {np.int64(0): 562, np.int64(1): 69}\n",
      "==================== Misclassification & Samples ====================\n",
      "Validation Misclassified Samples: 46 / 631\n",
      "\n",
      "Sample Predictions vs Labels:\n",
      "Sample 1: Pred = 0, Prob = 0.1241, True = 0\n",
      "Sample 2: Pred = 0, Prob = 0.0165, True = 0\n",
      "Sample 3: Pred = 0, Prob = 0.7636, True = 1\n",
      "Sample 4: Pred = 0, Prob = 0.0030, True = 0\n",
      "Sample 5: Pred = 0, Prob = 0.0013, True = 0\n",
      "=====================================================================\n",
      "Epoch 26: Learning Rate = 0.000024\n",
      "Val AUC 0.9378 did not improved from best 0.9432\n",
      "Epoch 27/50\n"
     ]
    },
    {
     "name": "stderr",
     "output_type": "stream",
     "text": [
      "Train: 100%|██████████| 91/91 [01:03<00:00,  1.44it/s]\n"
     ]
    },
    {
     "name": "stdout",
     "output_type": "stream",
     "text": [
      "[DEBUG] Train label counts (epoch 27): {0: 2596, 1: 316}\n",
      "Train Loss: 0.5452 | Train AUC: 0.9406 | Train Acc: 0.8674, | Train BAcc: 0.8701\n"
     ]
    },
    {
     "name": "stderr",
     "output_type": "stream",
     "text": [
      "Validation: 100%|██████████| 20/20 [00:03<00:00,  5.28it/s]\n"
     ]
    },
    {
     "name": "stdout",
     "output_type": "stream",
     "text": [
      "[DEBUG] Validation label counts: {0: 562, 1: 69}\n",
      "Optimal Threshold (F1-score): 0.93\n",
      "Best F1-score on Validation Set: 0.6957\n",
      "Validation Loss: 0.6403, Validation AUC: 0.9367, Validation ACC: 0.9334, Validation BACC: 0.8291\n",
      "[DEBUG] Validation Prediction Distribution: {np.int64(0): 562, np.int64(1): 69}\n",
      "[DEBUG] Validation Label Distribution: {np.int64(0): 562, np.int64(1): 69}\n",
      "==================== Misclassification & Samples ====================\n",
      "Validation Misclassified Samples: 42 / 631\n",
      "\n",
      "Sample Predictions vs Labels:\n",
      "Sample 1: Pred = 0, Prob = 0.0995, True = 0\n",
      "Sample 2: Pred = 0, Prob = 0.0069, True = 0\n",
      "Sample 3: Pred = 0, Prob = 0.5928, True = 1\n",
      "Sample 4: Pred = 0, Prob = 0.0013, True = 0\n",
      "Sample 5: Pred = 0, Prob = 0.0007, True = 0\n",
      "=====================================================================\n",
      "Epoch 27: Learning Rate = 0.000022\n",
      "Val AUC 0.9367 did not improved from best 0.9432\n",
      "Epoch 28/50\n"
     ]
    },
    {
     "name": "stderr",
     "output_type": "stream",
     "text": [
      "Train: 100%|██████████| 91/91 [01:03<00:00,  1.43it/s]\n"
     ]
    },
    {
     "name": "stdout",
     "output_type": "stream",
     "text": [
      "[DEBUG] Train label counts (epoch 28): {0: 2598, 1: 314}\n",
      "Train Loss: 0.5985 | Train AUC: 0.9281 | Train Acc: 0.8503, | Train BAcc: 0.8503\n"
     ]
    },
    {
     "name": "stderr",
     "output_type": "stream",
     "text": [
      "Validation: 100%|██████████| 20/20 [00:03<00:00,  5.34it/s]\n"
     ]
    },
    {
     "name": "stdout",
     "output_type": "stream",
     "text": [
      "[DEBUG] Validation label counts: {0: 562, 1: 69}\n",
      "Optimal Threshold (F1-score): 0.90\n",
      "Best F1-score on Validation Set: 0.7000\n",
      "Validation Loss: 0.5695, Validation AUC: 0.9433, Validation ACC: 0.9334, Validation BACC: 0.8355\n",
      "[DEBUG] Validation Prediction Distribution: {np.int64(0): 560, np.int64(1): 71}\n",
      "[DEBUG] Validation Label Distribution: {np.int64(0): 562, np.int64(1): 69}\n",
      "==================== Misclassification & Samples ====================\n",
      "Validation Misclassified Samples: 42 / 631\n",
      "\n",
      "Sample Predictions vs Labels:\n",
      "Sample 1: Pred = 0, Prob = 0.1491, True = 0\n",
      "Sample 2: Pred = 0, Prob = 0.0057, True = 0\n",
      "Sample 3: Pred = 0, Prob = 0.6408, True = 1\n",
      "Sample 4: Pred = 0, Prob = 0.0007, True = 0\n",
      "Sample 5: Pred = 0, Prob = 0.0002, True = 0\n",
      "=====================================================================\n",
      "Epoch 28: Learning Rate = 0.000021\n",
      "Saved Best-AUC model to F:\\Capstone\\DFCA\\checkpoints\\DFCA\\[Anomaly-With-Transformations-dropout=0.4]_MLP(5e-5)\\ComplexMLP-75\\best_model.pth (val_auc improved to 0.9433)\n",
      "Epoch 29/50\n"
     ]
    },
    {
     "name": "stderr",
     "output_type": "stream",
     "text": [
      "Train: 100%|██████████| 91/91 [01:03<00:00,  1.43it/s]\n"
     ]
    },
    {
     "name": "stdout",
     "output_type": "stream",
     "text": [
      "[DEBUG] Train label counts (epoch 29): {0: 2595, 1: 317}\n",
      "Train Loss: 0.5870 | Train AUC: 0.9326 | Train Acc: 0.8541, | Train BAcc: 0.8627\n"
     ]
    },
    {
     "name": "stderr",
     "output_type": "stream",
     "text": [
      "Validation: 100%|██████████| 20/20 [00:03<00:00,  5.37it/s]\n"
     ]
    },
    {
     "name": "stdout",
     "output_type": "stream",
     "text": [
      "[DEBUG] Validation label counts: {0: 562, 1: 69}\n",
      "Optimal Threshold (F1-score): 0.91\n",
      "Best F1-score on Validation Set: 0.7353\n",
      "Validation Loss: 0.5749, Validation AUC: 0.9431, Validation ACC: 0.9429, Validation BACC: 0.8472\n",
      "[DEBUG] Validation Prediction Distribution: {np.int64(0): 564, np.int64(1): 67}\n",
      "[DEBUG] Validation Label Distribution: {np.int64(0): 562, np.int64(1): 69}\n",
      "==================== Misclassification & Samples ====================\n",
      "Validation Misclassified Samples: 36 / 631\n",
      "\n",
      "Sample Predictions vs Labels:\n",
      "Sample 1: Pred = 0, Prob = 0.0932, True = 0\n",
      "Sample 2: Pred = 0, Prob = 0.0142, True = 0\n",
      "Sample 3: Pred = 0, Prob = 0.6491, True = 1\n",
      "Sample 4: Pred = 0, Prob = 0.0014, True = 0\n",
      "Sample 5: Pred = 0, Prob = 0.0001, True = 0\n",
      "=====================================================================\n",
      "Epoch 29: Learning Rate = 0.000019\n",
      "Val AUC 0.9431 did not improved from best 0.9433\n",
      "Epoch 30/50\n"
     ]
    },
    {
     "name": "stderr",
     "output_type": "stream",
     "text": [
      "Train: 100%|██████████| 91/91 [01:02<00:00,  1.46it/s]\n"
     ]
    },
    {
     "name": "stdout",
     "output_type": "stream",
     "text": [
      "[DEBUG] Train label counts (epoch 30): {0: 2598, 1: 314}\n",
      "Train Loss: 0.5305 | Train AUC: 0.9447 | Train Acc: 0.8681, | Train BAcc: 0.8673\n"
     ]
    },
    {
     "name": "stderr",
     "output_type": "stream",
     "text": [
      "Validation: 100%|██████████| 20/20 [00:03<00:00,  5.46it/s]\n"
     ]
    },
    {
     "name": "stdout",
     "output_type": "stream",
     "text": [
      "[DEBUG] Validation label counts: {0: 562, 1: 69}\n",
      "Optimal Threshold (F1-score): 0.84\n",
      "Best F1-score on Validation Set: 0.7133\n",
      "Validation Loss: 0.5756, Validation AUC: 0.9402, Validation ACC: 0.9350, Validation BACC: 0.8491\n",
      "[DEBUG] Validation Prediction Distribution: {np.int64(0): 557, np.int64(1): 74}\n",
      "[DEBUG] Validation Label Distribution: {np.int64(0): 562, np.int64(1): 69}\n",
      "==================== Misclassification & Samples ====================\n",
      "Validation Misclassified Samples: 41 / 631\n",
      "\n",
      "Sample Predictions vs Labels:\n",
      "Sample 1: Pred = 0, Prob = 0.0890, True = 0\n",
      "Sample 2: Pred = 0, Prob = 0.0032, True = 0\n",
      "Sample 3: Pred = 1, Prob = 0.8503, True = 1\n",
      "Sample 4: Pred = 0, Prob = 0.0006, True = 0\n",
      "Sample 5: Pred = 0, Prob = 0.0002, True = 0\n",
      "=====================================================================\n",
      "Epoch 30: Learning Rate = 0.000018\n",
      "Val AUC 0.9402 did not improved from best 0.9433\n",
      "Epoch 31/50\n"
     ]
    },
    {
     "name": "stderr",
     "output_type": "stream",
     "text": [
      "Train: 100%|██████████| 91/91 [01:02<00:00,  1.45it/s]\n"
     ]
    },
    {
     "name": "stdout",
     "output_type": "stream",
     "text": [
      "[DEBUG] Train label counts (epoch 31): {0: 2596, 1: 316}\n",
      "Train Loss: 0.5791 | Train AUC: 0.9334 | Train Acc: 0.8599, | Train BAcc: 0.8561\n"
     ]
    },
    {
     "name": "stderr",
     "output_type": "stream",
     "text": [
      "Validation: 100%|██████████| 20/20 [00:03<00:00,  5.41it/s]\n"
     ]
    },
    {
     "name": "stdout",
     "output_type": "stream",
     "text": [
      "[DEBUG] Validation label counts: {0: 562, 1: 69}\n",
      "Optimal Threshold (F1-score): 0.84\n",
      "Best F1-score on Validation Set: 0.7353\n",
      "Validation Loss: 0.5287, Validation AUC: 0.9471, Validation ACC: 0.9429, Validation BACC: 0.8472\n",
      "[DEBUG] Validation Prediction Distribution: {np.int64(0): 564, np.int64(1): 67}\n",
      "[DEBUG] Validation Label Distribution: {np.int64(0): 562, np.int64(1): 69}\n",
      "==================== Misclassification & Samples ====================\n",
      "Validation Misclassified Samples: 36 / 631\n",
      "\n",
      "Sample Predictions vs Labels:\n",
      "Sample 1: Pred = 0, Prob = 0.0762, True = 0\n",
      "Sample 2: Pred = 0, Prob = 0.0033, True = 0\n",
      "Sample 3: Pred = 0, Prob = 0.5400, True = 1\n",
      "Sample 4: Pred = 0, Prob = 0.0006, True = 0\n",
      "Sample 5: Pred = 0, Prob = 0.0005, True = 0\n",
      "=====================================================================\n",
      "Epoch 31: Learning Rate = 0.000016\n",
      "Saved Best-Loss model to F:\\Capstone\\DFCA\\checkpoints\\DFCA\\[Anomaly-With-Transformations-dropout=0.4]_MLP(5e-5)\\ComplexMLP-75\\best_model_best_loss.pth (val_loss improved to 0.5287)\n",
      "Saved Best-AUC model to F:\\Capstone\\DFCA\\checkpoints\\DFCA\\[Anomaly-With-Transformations-dropout=0.4]_MLP(5e-5)\\ComplexMLP-75\\best_model.pth (val_auc improved to 0.9471)\n",
      "Epoch 32/50\n"
     ]
    },
    {
     "name": "stderr",
     "output_type": "stream",
     "text": [
      "Train: 100%|██████████| 91/91 [01:02<00:00,  1.45it/s]\n"
     ]
    },
    {
     "name": "stdout",
     "output_type": "stream",
     "text": [
      "[DEBUG] Train label counts (epoch 32): {0: 2595, 1: 317}\n",
      "Train Loss: 0.5436 | Train AUC: 0.9418 | Train Acc: 0.8808, | Train BAcc: 0.8764\n"
     ]
    },
    {
     "name": "stderr",
     "output_type": "stream",
     "text": [
      "Validation: 100%|██████████| 20/20 [00:03<00:00,  5.37it/s]\n"
     ]
    },
    {
     "name": "stdout",
     "output_type": "stream",
     "text": [
      "[DEBUG] Validation label counts: {0: 562, 1: 69}\n",
      "Optimal Threshold (F1-score): 0.90\n",
      "Best F1-score on Validation Set: 0.7313\n",
      "Validation Loss: 0.5195, Validation AUC: 0.9501, Validation ACC: 0.9429, Validation BACC: 0.8408\n",
      "[DEBUG] Validation Prediction Distribution: {np.int64(0): 566, np.int64(1): 65}\n",
      "[DEBUG] Validation Label Distribution: {np.int64(0): 562, np.int64(1): 69}\n",
      "==================== Misclassification & Samples ====================\n",
      "Validation Misclassified Samples: 36 / 631\n",
      "\n",
      "Sample Predictions vs Labels:\n",
      "Sample 1: Pred = 0, Prob = 0.0901, True = 0\n",
      "Sample 2: Pred = 0, Prob = 0.0149, True = 0\n",
      "Sample 3: Pred = 0, Prob = 0.5767, True = 1\n",
      "Sample 4: Pred = 0, Prob = 0.0038, True = 0\n",
      "Sample 5: Pred = 0, Prob = 0.0009, True = 0\n",
      "=====================================================================\n",
      "Epoch 32: Learning Rate = 0.000015\n",
      "Saved Best-Loss model to F:\\Capstone\\DFCA\\checkpoints\\DFCA\\[Anomaly-With-Transformations-dropout=0.4]_MLP(5e-5)\\ComplexMLP-75\\best_model_best_loss.pth (val_loss improved to 0.5195)\n",
      "Saved Best-AUC model to F:\\Capstone\\DFCA\\checkpoints\\DFCA\\[Anomaly-With-Transformations-dropout=0.4]_MLP(5e-5)\\ComplexMLP-75\\best_model.pth (val_auc improved to 0.9501)\n",
      "Epoch 33/50\n"
     ]
    },
    {
     "name": "stderr",
     "output_type": "stream",
     "text": [
      "Train: 100%|██████████| 91/91 [01:02<00:00,  1.45it/s]\n"
     ]
    },
    {
     "name": "stdout",
     "output_type": "stream",
     "text": [
      "[DEBUG] Train label counts (epoch 33): {0: 2599, 1: 313}\n",
      "Train Loss: 0.5366 | Train AUC: 0.9430 | Train Acc: 0.8760, | Train BAcc: 0.8701\n"
     ]
    },
    {
     "name": "stderr",
     "output_type": "stream",
     "text": [
      "Validation: 100%|██████████| 20/20 [00:03<00:00,  5.37it/s]\n"
     ]
    },
    {
     "name": "stdout",
     "output_type": "stream",
     "text": [
      "[DEBUG] Validation label counts: {0: 562, 1: 69}\n",
      "Optimal Threshold (F1-score): 0.94\n",
      "Best F1-score on Validation Set: 0.7481\n",
      "Validation Loss: 0.5282, Validation AUC: 0.9508, Validation ACC: 0.9477, Validation BACC: 0.8435\n",
      "[DEBUG] Validation Prediction Distribution: {np.int64(0): 569, np.int64(1): 62}\n",
      "[DEBUG] Validation Label Distribution: {np.int64(0): 562, np.int64(1): 69}\n",
      "==================== Misclassification & Samples ====================\n",
      "Validation Misclassified Samples: 33 / 631\n",
      "\n",
      "Sample Predictions vs Labels:\n",
      "Sample 1: Pred = 0, Prob = 0.1217, True = 0\n",
      "Sample 2: Pred = 0, Prob = 0.0052, True = 0\n",
      "Sample 3: Pred = 0, Prob = 0.7365, True = 1\n",
      "Sample 4: Pred = 0, Prob = 0.0008, True = 0\n",
      "Sample 5: Pred = 0, Prob = 0.0002, True = 0\n",
      "=====================================================================\n",
      "Epoch 33: Learning Rate = 0.000014\n",
      "Saved Best-AUC model to F:\\Capstone\\DFCA\\checkpoints\\DFCA\\[Anomaly-With-Transformations-dropout=0.4]_MLP(5e-5)\\ComplexMLP-75\\best_model.pth (val_auc improved to 0.9508)\n",
      "Epoch 34/50\n"
     ]
    },
    {
     "name": "stderr",
     "output_type": "stream",
     "text": [
      "Train: 100%|██████████| 91/91 [01:04<00:00,  1.40it/s]\n"
     ]
    },
    {
     "name": "stdout",
     "output_type": "stream",
     "text": [
      "[DEBUG] Train label counts (epoch 34): {0: 2595, 1: 317}\n",
      "Train Loss: 0.5176 | Train AUC: 0.9479 | Train Acc: 0.8795, | Train BAcc: 0.8714\n"
     ]
    },
    {
     "name": "stderr",
     "output_type": "stream",
     "text": [
      "Validation: 100%|██████████| 20/20 [00:04<00:00,  4.06it/s]\n"
     ]
    },
    {
     "name": "stdout",
     "output_type": "stream",
     "text": [
      "[DEBUG] Validation label counts: {0: 562, 1: 69}\n",
      "Optimal Threshold (F1-score): 0.88\n",
      "Best F1-score on Validation Set: 0.7429\n",
      "Validation Loss: 0.5089, Validation AUC: 0.9518, Validation ACC: 0.9429, Validation BACC: 0.8599\n",
      "[DEBUG] Validation Prediction Distribution: {np.int64(0): 560, np.int64(1): 71}\n",
      "[DEBUG] Validation Label Distribution: {np.int64(0): 562, np.int64(1): 69}\n",
      "==================== Misclassification & Samples ====================\n",
      "Validation Misclassified Samples: 36 / 631\n",
      "\n",
      "Sample Predictions vs Labels:\n",
      "Sample 1: Pred = 0, Prob = 0.1030, True = 0\n",
      "Sample 2: Pred = 0, Prob = 0.0064, True = 0\n",
      "Sample 3: Pred = 0, Prob = 0.6947, True = 1\n",
      "Sample 4: Pred = 0, Prob = 0.0014, True = 0\n",
      "Sample 5: Pred = 0, Prob = 0.0004, True = 0\n",
      "=====================================================================\n",
      "Epoch 34: Learning Rate = 0.000012\n",
      "Saved Best-Loss model to F:\\Capstone\\DFCA\\checkpoints\\DFCA\\[Anomaly-With-Transformations-dropout=0.4]_MLP(5e-5)\\ComplexMLP-75\\best_model_best_loss.pth (val_loss improved to 0.5089)\n",
      "Saved Best-AUC model to F:\\Capstone\\DFCA\\checkpoints\\DFCA\\[Anomaly-With-Transformations-dropout=0.4]_MLP(5e-5)\\ComplexMLP-75\\best_model.pth (val_auc improved to 0.9518)\n",
      "Epoch 35/50\n"
     ]
    },
    {
     "name": "stderr",
     "output_type": "stream",
     "text": [
      "Train: 100%|██████████| 91/91 [01:04<00:00,  1.42it/s]\n"
     ]
    },
    {
     "name": "stdout",
     "output_type": "stream",
     "text": [
      "[DEBUG] Train label counts (epoch 35): {0: 2602, 1: 310}\n",
      "Train Loss: 0.4804 | Train AUC: 0.9530 | Train Acc: 0.8990, | Train BAcc: 0.8853\n"
     ]
    },
    {
     "name": "stderr",
     "output_type": "stream",
     "text": [
      "Validation: 100%|██████████| 20/20 [00:03<00:00,  5.36it/s]\n"
     ]
    },
    {
     "name": "stdout",
     "output_type": "stream",
     "text": [
      "[DEBUG] Validation label counts: {0: 562, 1: 69}\n",
      "Optimal Threshold (F1-score): 0.85\n",
      "Best F1-score on Validation Set: 0.7714\n",
      "Validation Loss: 0.5177, Validation AUC: 0.9508, Validation ACC: 0.9493, Validation BACC: 0.8762\n",
      "[DEBUG] Validation Prediction Distribution: {np.int64(0): 560, np.int64(1): 71}\n",
      "[DEBUG] Validation Label Distribution: {np.int64(0): 562, np.int64(1): 69}\n",
      "==================== Misclassification & Samples ====================\n",
      "Validation Misclassified Samples: 32 / 631\n",
      "\n",
      "Sample Predictions vs Labels:\n",
      "Sample 1: Pred = 0, Prob = 0.0742, True = 0\n",
      "Sample 2: Pred = 0, Prob = 0.0049, True = 0\n",
      "Sample 3: Pred = 0, Prob = 0.6130, True = 1\n",
      "Sample 4: Pred = 0, Prob = 0.0014, True = 0\n",
      "Sample 5: Pred = 0, Prob = 0.0003, True = 0\n",
      "=====================================================================\n",
      "Epoch 35: Learning Rate = 0.000011\n",
      "Val AUC 0.9508 did not improved from best 0.9518\n",
      "Epoch 36/50\n"
     ]
    },
    {
     "name": "stderr",
     "output_type": "stream",
     "text": [
      "Train: 100%|██████████| 91/91 [01:02<00:00,  1.47it/s]\n"
     ]
    },
    {
     "name": "stdout",
     "output_type": "stream",
     "text": [
      "[DEBUG] Train label counts (epoch 36): {0: 2595, 1: 317}\n",
      "Train Loss: 0.5080 | Train AUC: 0.9486 | Train Acc: 0.8846, | Train BAcc: 0.8854\n"
     ]
    },
    {
     "name": "stderr",
     "output_type": "stream",
     "text": [
      "Validation: 100%|██████████| 20/20 [00:03<00:00,  5.33it/s]\n"
     ]
    },
    {
     "name": "stdout",
     "output_type": "stream",
     "text": [
      "[DEBUG] Validation label counts: {0: 562, 1: 69}\n",
      "Optimal Threshold (F1-score): 0.91\n",
      "Best F1-score on Validation Set: 0.7656\n",
      "Validation Loss: 0.5180, Validation AUC: 0.9484, Validation ACC: 0.9525, Validation BACC: 0.8462\n",
      "[DEBUG] Validation Prediction Distribution: {np.int64(0): 572, np.int64(1): 59}\n",
      "[DEBUG] Validation Label Distribution: {np.int64(0): 562, np.int64(1): 69}\n",
      "==================== Misclassification & Samples ====================\n",
      "Validation Misclassified Samples: 30 / 631\n",
      "\n",
      "Sample Predictions vs Labels:\n",
      "Sample 1: Pred = 0, Prob = 0.1000, True = 0\n",
      "Sample 2: Pred = 0, Prob = 0.0050, True = 0\n",
      "Sample 3: Pred = 0, Prob = 0.6225, True = 1\n",
      "Sample 4: Pred = 0, Prob = 0.0020, True = 0\n",
      "Sample 5: Pred = 0, Prob = 0.0006, True = 0\n",
      "=====================================================================\n",
      "Epoch 36: Learning Rate = 0.000010\n",
      "Val AUC 0.9484 did not improved from best 0.9518\n",
      "Epoch 37/50\n"
     ]
    },
    {
     "name": "stderr",
     "output_type": "stream",
     "text": [
      "Train: 100%|██████████| 91/91 [01:02<00:00,  1.45it/s]\n"
     ]
    },
    {
     "name": "stdout",
     "output_type": "stream",
     "text": [
      "[DEBUG] Train label counts (epoch 37): {0: 2597, 1: 315}\n",
      "Train Loss: 0.5173 | Train AUC: 0.9468 | Train Acc: 0.8915, | Train BAcc: 0.8820\n"
     ]
    },
    {
     "name": "stderr",
     "output_type": "stream",
     "text": [
      "Validation: 100%|██████████| 20/20 [00:03<00:00,  5.48it/s]\n"
     ]
    },
    {
     "name": "stdout",
     "output_type": "stream",
     "text": [
      "[DEBUG] Validation label counts: {0: 562, 1: 69}\n",
      "Optimal Threshold (F1-score): 0.92\n",
      "Best F1-score on Validation Set: 0.7786\n",
      "Validation Loss: 0.5185, Validation AUC: 0.9506, Validation ACC: 0.9540, Validation BACC: 0.8598\n",
      "[DEBUG] Validation Prediction Distribution: {np.int64(0): 569, np.int64(1): 62}\n",
      "[DEBUG] Validation Label Distribution: {np.int64(0): 562, np.int64(1): 69}\n",
      "==================== Misclassification & Samples ====================\n",
      "Validation Misclassified Samples: 29 / 631\n",
      "\n",
      "Sample Predictions vs Labels:\n",
      "Sample 1: Pred = 0, Prob = 0.0924, True = 0\n",
      "Sample 2: Pred = 0, Prob = 0.0104, True = 0\n",
      "Sample 3: Pred = 0, Prob = 0.6207, True = 1\n",
      "Sample 4: Pred = 0, Prob = 0.0049, True = 0\n",
      "Sample 5: Pred = 0, Prob = 0.0012, True = 0\n",
      "=====================================================================\n",
      "Epoch 37: Learning Rate = 0.000009\n",
      "Val AUC 0.9506 did not improved from best 0.9518\n",
      "Epoch 38/50\n"
     ]
    },
    {
     "name": "stderr",
     "output_type": "stream",
     "text": [
      "Train: 100%|██████████| 91/91 [01:02<00:00,  1.45it/s]\n"
     ]
    },
    {
     "name": "stdout",
     "output_type": "stream",
     "text": [
      "[DEBUG] Train label counts (epoch 38): {0: 2598, 1: 314}\n",
      "Train Loss: 0.4894 | Train AUC: 0.9520 | Train Acc: 0.8887, | Train BAcc: 0.8942\n"
     ]
    },
    {
     "name": "stderr",
     "output_type": "stream",
     "text": [
      "Validation: 100%|██████████| 20/20 [00:03<00:00,  5.44it/s]\n"
     ]
    },
    {
     "name": "stdout",
     "output_type": "stream",
     "text": [
      "[DEBUG] Validation label counts: {0: 562, 1: 69}\n",
      "Optimal Threshold (F1-score): 0.87\n",
      "Best F1-score on Validation Set: 0.7794\n",
      "Validation Loss: 0.5208, Validation AUC: 0.9507, Validation ACC: 0.9525, Validation BACC: 0.8716\n",
      "[DEBUG] Validation Prediction Distribution: {np.int64(0): 564, np.int64(1): 67}\n",
      "[DEBUG] Validation Label Distribution: {np.int64(0): 562, np.int64(1): 69}\n",
      "==================== Misclassification & Samples ====================\n",
      "Validation Misclassified Samples: 30 / 631\n",
      "\n",
      "Sample Predictions vs Labels:\n",
      "Sample 1: Pred = 0, Prob = 0.0702, True = 0\n",
      "Sample 2: Pred = 0, Prob = 0.0080, True = 0\n",
      "Sample 3: Pred = 0, Prob = 0.5963, True = 1\n",
      "Sample 4: Pred = 0, Prob = 0.0040, True = 0\n",
      "Sample 5: Pred = 0, Prob = 0.0013, True = 0\n",
      "=====================================================================\n",
      "Epoch 38: Learning Rate = 0.000008\n",
      "Val AUC 0.9507 did not improved from best 0.9518\n",
      "Epoch 39/50\n"
     ]
    },
    {
     "name": "stderr",
     "output_type": "stream",
     "text": [
      "Train: 100%|██████████| 91/91 [01:03<00:00,  1.44it/s]\n"
     ]
    },
    {
     "name": "stdout",
     "output_type": "stream",
     "text": [
      "[DEBUG] Train label counts (epoch 39): {0: 2596, 1: 316}\n",
      "Train Loss: 0.4555 | Train AUC: 0.9597 | Train Acc: 0.9059, | Train BAcc: 0.8986\n"
     ]
    },
    {
     "name": "stderr",
     "output_type": "stream",
     "text": [
      "Validation: 100%|██████████| 20/20 [00:03<00:00,  5.39it/s]\n"
     ]
    },
    {
     "name": "stdout",
     "output_type": "stream",
     "text": [
      "[DEBUG] Validation label counts: {0: 562, 1: 69}\n",
      "Optimal Threshold (F1-score): 0.92\n",
      "Best F1-score on Validation Set: 0.7656\n",
      "Validation Loss: 0.5296, Validation AUC: 0.9487, Validation ACC: 0.9525, Validation BACC: 0.8462\n",
      "[DEBUG] Validation Prediction Distribution: {np.int64(0): 572, np.int64(1): 59}\n",
      "[DEBUG] Validation Label Distribution: {np.int64(0): 562, np.int64(1): 69}\n",
      "==================== Misclassification & Samples ====================\n",
      "Validation Misclassified Samples: 30 / 631\n",
      "\n",
      "Sample Predictions vs Labels:\n",
      "Sample 1: Pred = 0, Prob = 0.0910, True = 0\n",
      "Sample 2: Pred = 0, Prob = 0.0029, True = 0\n",
      "Sample 3: Pred = 0, Prob = 0.5075, True = 1\n",
      "Sample 4: Pred = 0, Prob = 0.0012, True = 0\n",
      "Sample 5: Pred = 0, Prob = 0.0004, True = 0\n",
      "=====================================================================\n",
      "Epoch 39: Learning Rate = 0.000007\n",
      "Val AUC 0.9487 did not improved from best 0.9518\n",
      "Epoch 40/50\n"
     ]
    },
    {
     "name": "stderr",
     "output_type": "stream",
     "text": [
      "Train: 100%|██████████| 91/91 [01:02<00:00,  1.44it/s]\n"
     ]
    },
    {
     "name": "stdout",
     "output_type": "stream",
     "text": [
      "[DEBUG] Train label counts (epoch 40): {0: 2596, 1: 316}\n",
      "Train Loss: 0.4745 | Train AUC: 0.9554 | Train Acc: 0.8939, | Train BAcc: 0.8918\n"
     ]
    },
    {
     "name": "stderr",
     "output_type": "stream",
     "text": [
      "Validation: 100%|██████████| 20/20 [00:03<00:00,  5.38it/s]\n"
     ]
    },
    {
     "name": "stdout",
     "output_type": "stream",
     "text": [
      "[DEBUG] Validation label counts: {0: 562, 1: 69}\n",
      "Optimal Threshold (F1-score): 0.91\n",
      "Best F1-score on Validation Set: 0.7704\n",
      "Validation Loss: 0.5131, Validation AUC: 0.9511, Validation ACC: 0.9509, Validation BACC: 0.8644\n",
      "[DEBUG] Validation Prediction Distribution: {np.int64(0): 565, np.int64(1): 66}\n",
      "[DEBUG] Validation Label Distribution: {np.int64(0): 562, np.int64(1): 69}\n",
      "==================== Misclassification & Samples ====================\n",
      "Validation Misclassified Samples: 31 / 631\n",
      "\n",
      "Sample Predictions vs Labels:\n",
      "Sample 1: Pred = 0, Prob = 0.0789, True = 0\n",
      "Sample 2: Pred = 0, Prob = 0.0049, True = 0\n",
      "Sample 3: Pred = 0, Prob = 0.6328, True = 1\n",
      "Sample 4: Pred = 0, Prob = 0.0028, True = 0\n",
      "Sample 5: Pred = 0, Prob = 0.0009, True = 0\n",
      "=====================================================================\n",
      "Epoch 40: Learning Rate = 0.000006\n",
      "Val AUC 0.9511 did not improved from best 0.9518\n",
      "Epoch 41/50\n"
     ]
    },
    {
     "name": "stderr",
     "output_type": "stream",
     "text": [
      "Train: 100%|██████████| 91/91 [01:02<00:00,  1.45it/s]\n"
     ]
    },
    {
     "name": "stdout",
     "output_type": "stream",
     "text": [
      "[DEBUG] Train label counts (epoch 41): {0: 2597, 1: 315}\n",
      "Train Loss: 0.4544 | Train AUC: 0.9590 | Train Acc: 0.8970, | Train BAcc: 0.8934\n"
     ]
    },
    {
     "name": "stderr",
     "output_type": "stream",
     "text": [
      "Validation: 100%|██████████| 20/20 [00:03<00:00,  5.34it/s]\n"
     ]
    },
    {
     "name": "stdout",
     "output_type": "stream",
     "text": [
      "[DEBUG] Validation label counts: {0: 562, 1: 69}\n",
      "Optimal Threshold (F1-score): 0.90\n",
      "Best F1-score on Validation Set: 0.7737\n",
      "Validation Loss: 0.5268, Validation AUC: 0.9498, Validation ACC: 0.9509, Validation BACC: 0.8707\n",
      "[DEBUG] Validation Prediction Distribution: {np.int64(0): 563, np.int64(1): 68}\n",
      "[DEBUG] Validation Label Distribution: {np.int64(0): 562, np.int64(1): 69}\n",
      "==================== Misclassification & Samples ====================\n",
      "Validation Misclassified Samples: 31 / 631\n",
      "\n",
      "Sample Predictions vs Labels:\n",
      "Sample 1: Pred = 0, Prob = 0.0773, True = 0\n",
      "Sample 2: Pred = 0, Prob = 0.0032, True = 0\n",
      "Sample 3: Pred = 0, Prob = 0.6823, True = 1\n",
      "Sample 4: Pred = 0, Prob = 0.0015, True = 0\n",
      "Sample 5: Pred = 0, Prob = 0.0004, True = 0\n",
      "=====================================================================\n",
      "Epoch 41: Learning Rate = 0.000005\n",
      "Val AUC 0.9498 did not improved from best 0.9518\n",
      "Epoch 42/50\n"
     ]
    },
    {
     "name": "stderr",
     "output_type": "stream",
     "text": [
      "Train: 100%|██████████| 91/91 [01:03<00:00,  1.43it/s]\n"
     ]
    },
    {
     "name": "stdout",
     "output_type": "stream",
     "text": [
      "[DEBUG] Train label counts (epoch 42): {0: 2595, 1: 317}\n",
      "Train Loss: 0.4797 | Train AUC: 0.9555 | Train Acc: 0.8956, | Train BAcc: 0.8888\n"
     ]
    },
    {
     "name": "stderr",
     "output_type": "stream",
     "text": [
      "Validation: 100%|██████████| 20/20 [00:03<00:00,  5.28it/s]\n"
     ]
    },
    {
     "name": "stdout",
     "output_type": "stream",
     "text": [
      "[DEBUG] Validation label counts: {0: 562, 1: 69}\n",
      "Optimal Threshold (F1-score): 0.81\n",
      "Best F1-score on Validation Set: 0.7550\n",
      "Validation Loss: 0.5274, Validation AUC: 0.9489, Validation ACC: 0.9414, Validation BACC: 0.8908\n",
      "[DEBUG] Validation Prediction Distribution: {np.int64(0): 549, np.int64(1): 82}\n",
      "[DEBUG] Validation Label Distribution: {np.int64(0): 562, np.int64(1): 69}\n",
      "==================== Misclassification & Samples ====================\n",
      "Validation Misclassified Samples: 37 / 631\n",
      "\n",
      "Sample Predictions vs Labels:\n",
      "Sample 1: Pred = 0, Prob = 0.0688, True = 0\n",
      "Sample 2: Pred = 0, Prob = 0.0033, True = 0\n",
      "Sample 3: Pred = 0, Prob = 0.7253, True = 1\n",
      "Sample 4: Pred = 0, Prob = 0.0016, True = 0\n",
      "Sample 5: Pred = 0, Prob = 0.0004, True = 0\n",
      "=====================================================================\n",
      "Epoch 42: Learning Rate = 0.000004\n",
      "Val AUC 0.9489 did not improved from best 0.9518\n",
      "Epoch 43/50\n"
     ]
    },
    {
     "name": "stderr",
     "output_type": "stream",
     "text": [
      "Train: 100%|██████████| 91/91 [01:03<00:00,  1.43it/s]\n"
     ]
    },
    {
     "name": "stdout",
     "output_type": "stream",
     "text": [
      "[DEBUG] Train label counts (epoch 43): {0: 2597, 1: 315}\n",
      "Train Loss: 0.4307 | Train AUC: 0.9642 | Train Acc: 0.8997, | Train BAcc: 0.9005\n"
     ]
    },
    {
     "name": "stderr",
     "output_type": "stream",
     "text": [
      "Validation: 100%|██████████| 20/20 [00:03<00:00,  5.26it/s]\n"
     ]
    },
    {
     "name": "stdout",
     "output_type": "stream",
     "text": [
      "[DEBUG] Validation label counts: {0: 562, 1: 69}\n",
      "Optimal Threshold (F1-score): 0.84\n",
      "Best F1-score on Validation Set: 0.7639\n",
      "Validation Loss: 0.5180, Validation AUC: 0.9508, Validation ACC: 0.9461, Validation BACC: 0.8808\n",
      "[DEBUG] Validation Prediction Distribution: {np.int64(0): 556, np.int64(1): 75}\n",
      "[DEBUG] Validation Label Distribution: {np.int64(0): 562, np.int64(1): 69}\n",
      "==================== Misclassification & Samples ====================\n",
      "Validation Misclassified Samples: 34 / 631\n",
      "\n",
      "Sample Predictions vs Labels:\n",
      "Sample 1: Pred = 0, Prob = 0.0619, True = 0\n",
      "Sample 2: Pred = 0, Prob = 0.0028, True = 0\n",
      "Sample 3: Pred = 0, Prob = 0.6955, True = 1\n",
      "Sample 4: Pred = 0, Prob = 0.0014, True = 0\n",
      "Sample 5: Pred = 0, Prob = 0.0004, True = 0\n",
      "=====================================================================\n",
      "Epoch 43: Learning Rate = 0.000003\n",
      "Val AUC 0.9508 did not improved from best 0.9518\n",
      "Epoch 44/50\n"
     ]
    },
    {
     "name": "stderr",
     "output_type": "stream",
     "text": [
      "Train: 100%|██████████| 91/91 [01:04<00:00,  1.42it/s]\n"
     ]
    },
    {
     "name": "stdout",
     "output_type": "stream",
     "text": [
      "[DEBUG] Train label counts (epoch 44): {0: 2596, 1: 316}\n",
      "Train Loss: 0.5058 | Train AUC: 0.9481 | Train Acc: 0.9008, | Train BAcc: 0.8929\n"
     ]
    },
    {
     "name": "stderr",
     "output_type": "stream",
     "text": [
      "Validation: 100%|██████████| 20/20 [00:03<00:00,  5.24it/s]\n"
     ]
    },
    {
     "name": "stdout",
     "output_type": "stream",
     "text": [
      "[DEBUG] Validation label counts: {0: 562, 1: 69}\n",
      "Optimal Threshold (F1-score): 0.86\n",
      "Best F1-score on Validation Set: 0.7552\n",
      "Validation Loss: 0.5249, Validation AUC: 0.9491, Validation ACC: 0.9445, Validation BACC: 0.8735\n",
      "[DEBUG] Validation Prediction Distribution: {np.int64(0): 557, np.int64(1): 74}\n",
      "[DEBUG] Validation Label Distribution: {np.int64(0): 562, np.int64(1): 69}\n",
      "==================== Misclassification & Samples ====================\n",
      "Validation Misclassified Samples: 35 / 631\n",
      "\n",
      "Sample Predictions vs Labels:\n",
      "Sample 1: Pred = 0, Prob = 0.0811, True = 0\n",
      "Sample 2: Pred = 0, Prob = 0.0030, True = 0\n",
      "Sample 3: Pred = 0, Prob = 0.6367, True = 1\n",
      "Sample 4: Pred = 0, Prob = 0.0012, True = 0\n",
      "Sample 5: Pred = 0, Prob = 0.0004, True = 0\n",
      "=====================================================================\n",
      "Epoch 44: Learning Rate = 0.000003\n",
      "Val AUC 0.9491 did not improved from best 0.9518\n",
      "Epoch 45/50\n"
     ]
    },
    {
     "name": "stderr",
     "output_type": "stream",
     "text": [
      "Train: 100%|██████████| 91/91 [01:04<00:00,  1.41it/s]\n"
     ]
    },
    {
     "name": "stdout",
     "output_type": "stream",
     "text": [
      "[DEBUG] Train label counts (epoch 45): {0: 2595, 1: 317}\n",
      "Train Loss: 0.4393 | Train AUC: 0.9621 | Train Acc: 0.9018, | Train BAcc: 0.8992\n"
     ]
    },
    {
     "name": "stderr",
     "output_type": "stream",
     "text": [
      "Validation: 100%|██████████| 20/20 [00:03<00:00,  5.36it/s]\n"
     ]
    },
    {
     "name": "stdout",
     "output_type": "stream",
     "text": [
      "[DEBUG] Validation label counts: {0: 562, 1: 69}\n",
      "Optimal Threshold (F1-score): 0.87\n",
      "Best F1-score on Validation Set: 0.7826\n",
      "Validation Loss: 0.5124, Validation AUC: 0.9510, Validation ACC: 0.9525, Validation BACC: 0.8780\n",
      "[DEBUG] Validation Prediction Distribution: {np.int64(0): 562, np.int64(1): 69}\n",
      "[DEBUG] Validation Label Distribution: {np.int64(0): 562, np.int64(1): 69}\n",
      "==================== Misclassification & Samples ====================\n",
      "Validation Misclassified Samples: 30 / 631\n",
      "\n",
      "Sample Predictions vs Labels:\n",
      "Sample 1: Pred = 0, Prob = 0.0813, True = 0\n",
      "Sample 2: Pred = 0, Prob = 0.0035, True = 0\n",
      "Sample 3: Pred = 0, Prob = 0.5836, True = 1\n",
      "Sample 4: Pred = 0, Prob = 0.0016, True = 0\n",
      "Sample 5: Pred = 0, Prob = 0.0005, True = 0\n",
      "=====================================================================\n",
      "Epoch 45: Learning Rate = 0.000002\n",
      "Val AUC 0.9510 did not improved from best 0.9518\n",
      "Epoch 46/50\n"
     ]
    },
    {
     "name": "stderr",
     "output_type": "stream",
     "text": [
      "Train: 100%|██████████| 91/91 [01:02<00:00,  1.46it/s]\n"
     ]
    },
    {
     "name": "stdout",
     "output_type": "stream",
     "text": [
      "[DEBUG] Train label counts (epoch 46): {0: 2595, 1: 317}\n",
      "Train Loss: 0.4436 | Train AUC: 0.9608 | Train Acc: 0.9045, | Train BAcc: 0.8980\n"
     ]
    },
    {
     "name": "stderr",
     "output_type": "stream",
     "text": [
      "Validation: 100%|██████████| 20/20 [00:03<00:00,  5.27it/s]\n"
     ]
    },
    {
     "name": "stdout",
     "output_type": "stream",
     "text": [
      "[DEBUG] Validation label counts: {0: 562, 1: 69}\n",
      "Optimal Threshold (F1-score): 0.89\n",
      "Best F1-score on Validation Set: 0.7737\n",
      "Validation Loss: 0.5253, Validation AUC: 0.9486, Validation ACC: 0.9509, Validation BACC: 0.8707\n",
      "[DEBUG] Validation Prediction Distribution: {np.int64(0): 563, np.int64(1): 68}\n",
      "[DEBUG] Validation Label Distribution: {np.int64(0): 562, np.int64(1): 69}\n",
      "==================== Misclassification & Samples ====================\n",
      "Validation Misclassified Samples: 31 / 631\n",
      "\n",
      "Sample Predictions vs Labels:\n",
      "Sample 1: Pred = 0, Prob = 0.0735, True = 0\n",
      "Sample 2: Pred = 0, Prob = 0.0039, True = 0\n",
      "Sample 3: Pred = 0, Prob = 0.5410, True = 1\n",
      "Sample 4: Pred = 0, Prob = 0.0015, True = 0\n",
      "Sample 5: Pred = 0, Prob = 0.0005, True = 0\n",
      "=====================================================================\n",
      "Epoch 46: Learning Rate = 0.000002\n",
      "Val AUC 0.9486 did not improved from best 0.9518\n",
      "Epoch 47/50\n"
     ]
    },
    {
     "name": "stderr",
     "output_type": "stream",
     "text": [
      "Train: 100%|██████████| 91/91 [01:03<00:00,  1.42it/s]\n"
     ]
    },
    {
     "name": "stdout",
     "output_type": "stream",
     "text": [
      "[DEBUG] Train label counts (epoch 47): {0: 2598, 1: 314}\n",
      "Train Loss: 0.4181 | Train AUC: 0.9651 | Train Acc: 0.9059, | Train BAcc: 0.9081\n"
     ]
    },
    {
     "name": "stderr",
     "output_type": "stream",
     "text": [
      "Validation: 100%|██████████| 20/20 [00:03<00:00,  5.28it/s]\n"
     ]
    },
    {
     "name": "stdout",
     "output_type": "stream",
     "text": [
      "[DEBUG] Validation label counts: {0: 562, 1: 69}\n",
      "Optimal Threshold (F1-score): 0.88\n",
      "Best F1-score on Validation Set: 0.7826\n",
      "Validation Loss: 0.5111, Validation AUC: 0.9509, Validation ACC: 0.9525, Validation BACC: 0.8780\n",
      "[DEBUG] Validation Prediction Distribution: {np.int64(0): 562, np.int64(1): 69}\n",
      "[DEBUG] Validation Label Distribution: {np.int64(0): 562, np.int64(1): 69}\n",
      "==================== Misclassification & Samples ====================\n",
      "Validation Misclassified Samples: 30 / 631\n",
      "\n",
      "Sample Predictions vs Labels:\n",
      "Sample 1: Pred = 0, Prob = 0.0741, True = 0\n",
      "Sample 2: Pred = 0, Prob = 0.0044, True = 0\n",
      "Sample 3: Pred = 0, Prob = 0.5731, True = 1\n",
      "Sample 4: Pred = 0, Prob = 0.0022, True = 0\n",
      "Sample 5: Pred = 0, Prob = 0.0007, True = 0\n",
      "=====================================================================\n",
      "Epoch 47: Learning Rate = 0.000001\n",
      "Val AUC 0.9509 did not improved from best 0.9518\n",
      "Epoch 48/50\n"
     ]
    },
    {
     "name": "stderr",
     "output_type": "stream",
     "text": [
      "Train: 100%|██████████| 91/91 [01:03<00:00,  1.42it/s]\n"
     ]
    },
    {
     "name": "stdout",
     "output_type": "stream",
     "text": [
      "[DEBUG] Train label counts (epoch 48): {0: 2598, 1: 314}\n",
      "Train Loss: 0.4380 | Train AUC: 0.9615 | Train Acc: 0.9083, | Train BAcc: 0.9080\n"
     ]
    },
    {
     "name": "stderr",
     "output_type": "stream",
     "text": [
      "Validation: 100%|██████████| 20/20 [00:03<00:00,  5.33it/s]\n"
     ]
    },
    {
     "name": "stdout",
     "output_type": "stream",
     "text": [
      "[DEBUG] Validation label counts: {0: 562, 1: 69}\n",
      "Optimal Threshold (F1-score): 0.88\n",
      "Best F1-score on Validation Set: 0.7746\n",
      "Validation Loss: 0.5249, Validation AUC: 0.9512, Validation ACC: 0.9493, Validation BACC: 0.8825\n",
      "[DEBUG] Validation Prediction Distribution: {np.int64(0): 558, np.int64(1): 73}\n",
      "[DEBUG] Validation Label Distribution: {np.int64(0): 562, np.int64(1): 69}\n",
      "==================== Misclassification & Samples ====================\n",
      "Validation Misclassified Samples: 32 / 631\n",
      "\n",
      "Sample Predictions vs Labels:\n",
      "Sample 1: Pred = 0, Prob = 0.0736, True = 0\n",
      "Sample 2: Pred = 0, Prob = 0.0029, True = 0\n",
      "Sample 3: Pred = 0, Prob = 0.6110, True = 1\n",
      "Sample 4: Pred = 0, Prob = 0.0015, True = 0\n",
      "Sample 5: Pred = 0, Prob = 0.0005, True = 0\n",
      "=====================================================================\n",
      "Epoch 48: Learning Rate = 0.000001\n",
      "Val AUC 0.9512 did not improved from best 0.9518\n",
      "Epoch 49/50\n"
     ]
    },
    {
     "name": "stderr",
     "output_type": "stream",
     "text": [
      "Train: 100%|██████████| 91/91 [01:03<00:00,  1.43it/s]\n"
     ]
    },
    {
     "name": "stdout",
     "output_type": "stream",
     "text": [
      "[DEBUG] Train label counts (epoch 49): {0: 2597, 1: 315}\n",
      "Train Loss: 0.4254 | Train AUC: 0.9643 | Train Acc: 0.9100, | Train BAcc: 0.9063\n"
     ]
    },
    {
     "name": "stderr",
     "output_type": "stream",
     "text": [
      "Validation: 100%|██████████| 20/20 [00:03<00:00,  5.17it/s]\n"
     ]
    },
    {
     "name": "stdout",
     "output_type": "stream",
     "text": [
      "[DEBUG] Validation label counts: {0: 562, 1: 69}\n",
      "Optimal Threshold (F1-score): 0.89\n",
      "Best F1-score on Validation Set: 0.7761\n",
      "Validation Loss: 0.5212, Validation AUC: 0.9496, Validation ACC: 0.9525, Validation BACC: 0.8652\n",
      "[DEBUG] Validation Prediction Distribution: {np.int64(0): 566, np.int64(1): 65}\n",
      "[DEBUG] Validation Label Distribution: {np.int64(0): 562, np.int64(1): 69}\n",
      "==================== Misclassification & Samples ====================\n",
      "Validation Misclassified Samples: 30 / 631\n",
      "\n",
      "Sample Predictions vs Labels:\n",
      "Sample 1: Pred = 0, Prob = 0.0654, True = 0\n",
      "Sample 2: Pred = 0, Prob = 0.0027, True = 0\n",
      "Sample 3: Pred = 0, Prob = 0.5324, True = 1\n",
      "Sample 4: Pred = 0, Prob = 0.0012, True = 0\n",
      "Sample 5: Pred = 0, Prob = 0.0004, True = 0\n",
      "=====================================================================\n",
      "Epoch 49: Learning Rate = 0.000001\n",
      "Val AUC 0.9496 did not improved from best 0.9518\n",
      "Epoch 50/50\n"
     ]
    },
    {
     "name": "stderr",
     "output_type": "stream",
     "text": [
      "Train: 100%|██████████| 91/91 [01:03<00:00,  1.43it/s]\n"
     ]
    },
    {
     "name": "stdout",
     "output_type": "stream",
     "text": [
      "[DEBUG] Train label counts (epoch 50): {0: 2597, 1: 315}\n",
      "Train Loss: 0.4484 | Train AUC: 0.9597 | Train Acc: 0.9059, | Train BAcc: 0.8984\n"
     ]
    },
    {
     "name": "stderr",
     "output_type": "stream",
     "text": [
      "Validation: 100%|██████████| 20/20 [00:03<00:00,  5.05it/s]\n"
     ]
    },
    {
     "name": "stdout",
     "output_type": "stream",
     "text": [
      "[DEBUG] Validation label counts: {0: 562, 1: 69}\n",
      "Optimal Threshold (F1-score): 0.94\n",
      "Best F1-score on Validation Set: 0.7717\n",
      "Validation Loss: 0.5223, Validation AUC: 0.9508, Validation ACC: 0.9540, Validation BACC: 0.8471\n",
      "[DEBUG] Validation Prediction Distribution: {np.int64(0): 573, np.int64(1): 58}\n",
      "[DEBUG] Validation Label Distribution: {np.int64(0): 562, np.int64(1): 69}\n",
      "==================== Misclassification & Samples ====================\n",
      "Validation Misclassified Samples: 29 / 631\n",
      "\n",
      "Sample Predictions vs Labels:\n",
      "Sample 1: Pred = 0, Prob = 0.0708, True = 0\n",
      "Sample 2: Pred = 0, Prob = 0.0034, True = 0\n",
      "Sample 3: Pred = 0, Prob = 0.5796, True = 1\n",
      "Sample 4: Pred = 0, Prob = 0.0018, True = 0\n",
      "Sample 5: Pred = 0, Prob = 0.0006, True = 0\n",
      "=====================================================================\n",
      "Epoch 50: Learning Rate = 0.000001\n",
      "Val AUC 0.9508 did not improved from best 0.9518\n",
      "\n",
      "--- Final Test Evaluation ---\n"
     ]
    },
    {
     "name": "stderr",
     "output_type": "stream",
     "text": [
      "Test: 100%|██████████| 20/20 [00:04<00:00,  4.84it/s]\n"
     ]
    },
    {
     "name": "stdout",
     "output_type": "stream",
     "text": [
      "[DEBUG] Test label counts: {0: 563, 1: 68}\n",
      "Test Loss: 0.6807, Test AUC: 0.9123, Test ACC: 0.9255, Test BACC: 0.7902\n",
      "[DEBUG] Test Prediction Distribution: {np.int64(0): 568, np.int64(1): 63}\n",
      "[DEBUG] Test Label Distribution: {np.int64(0): 563, np.int64(1): 68}\n",
      "==================== Misclassification & Samples ====================\n",
      "Test Misclassified Samples: 47 / 631\n",
      "\n",
      "Sample Predictions vs Labels:\n",
      "Sample 1: Pred = 0, Prob = 0.0048, True = 0\n",
      "Sample 2: Pred = 0, Prob = 0.1526, True = 1\n",
      "Sample 3: Pred = 0, Prob = 0.0060, True = 0\n",
      "Sample 4: Pred = 1, Prob = 0.9909, True = 1\n",
      "Sample 5: Pred = 0, Prob = 0.8747, True = 0\n",
      "=====================================================================\n",
      "\n",
      "Final Test Metrics (with best validation threshold 0.88):\n",
      "Loss: 0.6807 | AUC: 0.9123 | Accuracy: 0.9255 | Balanced Accuracy: 0.7902 | F1-Score: 0.6412\n",
      "Final Test pAUC (FPR <= 0.2): 0.7309\n",
      "TP: 42 | TN: 542 | FP: 21 | FN: 26 | Precision: 0.6667 | Recall: 0.6176 | Specificity: 0.9627\n"
     ]
    },
    {
     "data": {
      "image/png": "[encoded data removed]",
      "text/plain": [
       "<Figure size 1800x400 with 4 Axes>"
      ]
     },
     "metadata": {},
     "output_type": "display_data"
    },
    {
     "data": {
      "image/png": "[encoded data removed]",
      "text/plain": [
       "<Figure size 600x600 with 1 Axes>"
      ]
     },
     "metadata": {},
     "output_type": "display_data"
    },
    {
     "data": {
      "image/png": "[encoded data removed]",
      "text/plain": [
       "<Figure size 800x800 with 2 Axes>"
      ]
     },
     "metadata": {},
     "output_type": "display_data"
    },
    {
     "name": "stdout",
     "output_type": "stream",
     "text": [
      "Saved 8 GradCAM images to F:\\Capstone\\DFCA\\checkpoints\\DFCA\\[Anomaly-With-Transformations-dropout=0.4]_MLP(5e-5)\\ComplexMLP-75\\gradcam\n"
     ]
    }
   ],
   "source": [
    "# ================================\n",
    "# Main Pipeline \n",
    "# ================================\n",
    "def main():\n",
    "    \n",
    "    SEED = 42\n",
    "    np.random.seed(SEED)\n",
    "    torch.manual_seed(SEED)\n",
    "    torch.cuda.manual_seed(SEED)\n",
    "    torch.backends.cudnn.deterministic = True\n",
    "    torch.backends.cudnn.benchmark = False\n",
    "    \n",
    "    train_transforms = ComposeT([\n",
    "        ToTensor(),\n",
    "        SpecTimePitchWarp(max_time_scale=1.1, max_freq_scale=1.1),\n",
    "        SpecAugment(freq_mask_param=4, time_mask_param=4, n_freq_masks=1, n_time_masks=1),\n",
    "    ])\n",
    "\n",
    "    no_transform = ComposeT([\n",
    "        ToTensor(),\n",
    "    ])\n",
    "\n",
    "    full_dataset = PairedSpectrogramDataset(FEATURES_DIR, transform=None)\n",
    "    all_labels = [int(x) for x in full_dataset.labels]\n",
    "\n",
    "    #Stratified Split [train/val/test]\n",
    "    idxs = list(range(len(full_dataset)))\n",
    "    train_idx, temp_idx = train_test_split(idxs, test_size=0.3, stratify=all_labels, random_state=42)\n",
    "    val_idx, test_idx = train_test_split(temp_idx, test_size=0.5, stratify=[all_labels[i] for i in temp_idx], random_state=42)\n",
    "    \n",
    "    train_set = Subset(PairedSpectrogramDataset(FEATURES_DIR, transform=train_transforms), train_idx)\n",
    "    val_set = Subset(PairedSpectrogramDataset(FEATURES_DIR, transform=no_transform), val_idx)\n",
    "    test_set = Subset(PairedSpectrogramDataset(FEATURES_DIR, transform=no_transform), test_idx)\n",
    "    \n",
    "    train_loader = DataLoader(train_set, batch_size=BATCH_SIZE, shuffle=True, num_workers=0, drop_last=True)\n",
    "    val_loader = DataLoader(val_set, batch_size=BATCH_SIZE, shuffle=False, num_workers=0)\n",
    "    test_loader = DataLoader(test_set, batch_size=BATCH_SIZE, shuffle=False, num_workers=0)\n",
    "\n",
    "    # normal_transform = ComposeT([\n",
    "    #     ToTensor()\n",
    "    # ])\n",
    "\n",
    "    # abnormal_transform = ComposeT([\n",
    "    #     ToTensor(),\n",
    "    #     SpecTimePitchWarp(max_time_scale=1.1, max_freq_scale=1.1),\n",
    "    #     SpecAugment(freq_mask_param=4, time_mask_param=4, n_freq_masks=1, n_time_masks=1),\n",
    "    # ])\n",
    "\n",
    "    # class_to_transform = {\n",
    "    #     0: normal_transform,\n",
    "    #     1: abnormal_transform\n",
    "    # }\n",
    "\n",
    "    # full_dataset = PairedSpectrogramDatasetCS(FEATURES_DIR, class_to_transform=None)\n",
    "    # all_labels = [int(x) for x in full_dataset.labels] \n",
    "\n",
    "    # idxs = list(range(len(full_dataset)))\n",
    "    # train_idx, temp_idx = train_test_split(idxs, test_size=0.3, stratify=all_labels, random_state=42)\n",
    "    # val_idx, test_idx = train_test_split(temp_idx, test_size=0.5, stratify=[all_labels[i] for i in temp_idx], random_state=42)\n",
    "\n",
    "    # train_set = Subset(PairedSpectrogramDatasetCS(FEATURES_DIR, class_to_transform=class_to_transform), train_idx)\n",
    "    # val_set   = Subset(PairedSpectrogramDatasetCS(FEATURES_DIR, class_to_transform={0: normal_transform, 1: normal_transform}), val_idx)\n",
    "    # test_set  = Subset(PairedSpectrogramDatasetCS(FEATURES_DIR, class_to_transform={0: normal_transform, 1: normal_transform}), test_idx)\n",
    "\n",
    "    # # --- Dataloaders ---\n",
    "    # train_loader = DataLoader(train_set, batch_size=BATCH_SIZE, shuffle=True, num_workers=0, drop_last=True)\n",
    "    # val_loader   = DataLoader(val_set, batch_size=BATCH_SIZE, shuffle=False, num_workers=0)\n",
    "    # test_loader  = DataLoader(test_set, batch_size=BATCH_SIZE, shuffle=False, num_workers=0) \n",
    "    \n",
    "    print(f\"Split sizes => Train: {len(train_set)}, Val: {len(val_set)}, Test: {len(test_set)}\")\n",
    "    print(\"Label Distribution (Train):\",Counter([int(full_dataset[i]['label']) for i in train_idx]))\n",
    "    print(\"Label Distribution (Validation):\",Counter([int(full_dataset[i]['label']) for i in val_idx]))\n",
    "    print(\"Label Distribution (Test):\",Counter([int(full_dataset[i]['label']) for i in test_idx]))\n",
    "    \n",
    "    head_mode = HEAD_MODE.lower()\n",
    "    \n",
    "    if head_mode == 'prototype':\n",
    "        head = AnomalyScorer(in_dim=256, dropout=0.4, mode='prototype')\n",
    "        criterion = ContrastiveLoss(margin=CONTRASTIVE_MARGIN)\n",
    "        # print(f\"Used head:\\n {head}\")\n",
    "        # print(\"Used transformations:\")\n",
    "        # for transform in train_transforms.transforms:\n",
    "        #     # Print the name of the transformation class\n",
    "        #     print(f\"  - {transform.__class__.__name__}\")\n",
    "    \n",
    "        #     # Check for specific transformations and print their parameters\n",
    "        #     if isinstance(transform, SpecTimePitchWarp):\n",
    "\n",
    "        #         print(f\"    - time_scale: {getattr(transform, 'max_time_scale', {transform.max_time})}\")\n",
    "        #         print(f\"    - freq_scale: {getattr(transform, 'max_freq_scale', {transform.max_freq})}\")\n",
    "        #     if isinstance(transform, SpecAugment):\n",
    "        #         print(f\"    - freq_mask_param: {getattr(transform,'freq_mask_param',{transform.fm})}\")\n",
    "        #         print(f\"    - time_mask_param: {getattr(transform,'time_mask_param',{transform.tm})}\")\n",
    "        #         print(f\"    - n_freq_masks: {getattr(transform,'n_freq_masks', {transform.nf})}\")\n",
    "        #         print(f\"    - n_time_masks: {getattr(transform,'n_time_masks', {transform.nt})}\")\n",
    "    elif HEAD_MODE == 'mlp':\n",
    "        #head = SimpleAnomalyMLP(in_dim=256, dropout=0.4,hidden=128, out_dim=1)\n",
    "        head = ComplexAnomalyMLP(in_dim=256, dropout=0.4, out_dim=1)\n",
    "        pos_count = sum(all_labels)\n",
    "        neg_count = len(all_labels) - pos_count\n",
    "        pos_weight = torch.tensor([neg_count / (pos_count + 1e-8)], dtype=torch.float32).to(device)\n",
    "        criterion = nn.BCEWithLogitsLoss(pos_weight=pos_weight)\n",
    "        # print(f\"Used head:\\n {head}\")\n",
    "        # print(\"Used transformations:\")\n",
    "        # for transform in train_transforms.transforms:\n",
    "        #     # Print the name of the transformation class\n",
    "        #     print(f\"  - {transform.__class__.__name__}\")\n",
    "    \n",
    "        #     # Check for specific transformations and print their parameters\n",
    "        #     if isinstance(transform, SpecTimePitchWarp):\n",
    "\n",
    "        #         print(f\"    - time_scale: {getattr(transform, 'max_time_scale',{transform.max_time} )}\")\n",
    "        #         print(f\"    - freq_scale: {getattr(transform, 'max_freq_scale', {transform.max_freq})}\")\n",
    "        #     if isinstance(transform, SpecAugment):\n",
    "        #         print(f\"    - freq_mask_param: {getattr(transform,'freq_mask_param',{transform.fm})}\")\n",
    "        #         print(f\"    - time_mask_param: {getattr(transform,'time_mask_param',{transform.tm})}\")\n",
    "        #         print(f\"    - n_freq_masks: {getattr(transform,'n_freq_masks',{transform.nf})}\")\n",
    "        #         print(f\"    - n_time_masks: {getattr(transform,'n_time_masks',{transform.nt})}\")\n",
    "    elif HEAD_MODE == 'embedding':\n",
    "        head = EmbeddingMLP(in_dim=256, hidden=128, dropout=0.4, emb_dim=64)\n",
    "        criterion = ContrastiveLoss(margin=CONTRASTIVE_MARGIN)\n",
    "        # print(f\"Used head:\\n {head}\")\n",
    "        # print(\"Used transformations:\")\n",
    "        # for transform in train_transforms.transforms:\n",
    "        #     # Print the name of the transformation class\n",
    "        #     print(f\"  - {transform.__class__.__name__}\")\n",
    "    \n",
    "        #     # Check for specific transformations and print their parameters\n",
    "        #     if isinstance(transform, SpecTimePitchWarp):\n",
    "\n",
    "        #         print(f\"    - time_scale: {getattr(transform, 'max_time_scale', {transform.max_time})}\")\n",
    "        #         print(f\"    - freq_scale: {getattr(transform, 'max_freq_scale', {transform.max_freq})}\")\n",
    "        #     if isinstance(transform, SpecAugment):\n",
    "        #         print(f\"    - freq_mask_param: {getattr(transform,'freq_mask_param',{transform.fm})}\")\n",
    "        #         print(f\"    - time_mask_param: {getattr(transform,'time_mask_param',{transform.tm})}\")\n",
    "        #         print(f\"    - n_freq_masks: {getattr(transform,'n_freq_masks',{transform.nf})}\")\n",
    "        #         print(f\"    - n_time_masks: {getattr(transform,'n_time_masks',{transform.nt})}\")\n",
    "    elif HEAD_MODE == 'classifier':\n",
    "        head = SimpleAnomalyMLP(in_dim=256, dropout=0.4, hidden=128, out_dim=2)\n",
    "        class_counts = [2624, 319]\n",
    "        \n",
    "        alpha = 0.7\n",
    "        total = sum(class_counts)\n",
    "        class_weights = [(total / c) ** alpha for c in class_counts]  \n",
    "        class_weights = torch.tensor(class_weights, dtype=torch.float32).to(device)\n",
    "        criterion = nn.CrossEntropyLoss(weight=class_weights)\n",
    "        # print(f\"Using head: {head}\")\n",
    "        # print(\"Used transformations:\")\n",
    "        # for transform in train_transforms.transforms:\n",
    "        #     # Print the name of the transformation class\n",
    "        #     print(f\"  - {transform.__class__.__name__}\")\n",
    "    \n",
    "        #     # Check for specific transformations and print their parameters\n",
    "        #     if isinstance(transform, SpecTimePitchWarp):\n",
    "\n",
    "        #         print(f\"    - time_scale: {getattr(transform, 'max_time_scale', {transform.max_time})}\")\n",
    "        #         print(f\"    - freq_scale: {getattr(transform, 'max_freq_scale', {transform.max_freq})}\")\n",
    "        #     if isinstance(transform, SpecAugment):\n",
    "        #         print(f\"    - freq_mask_param: {getattr(transform,'freq_mask_param',{transform.fm})}\")\n",
    "        #         print(f\"    - time_mask_param: {getattr(transform,'time_mask_param', {transform.tm})}\")\n",
    "        #         print(f\"    - n_freq_masks: {getattr(transform,'n_freq_masks',{transform.nf})}\")\n",
    "        #         print(f\"    - n_time_masks: {getattr(transform,'n_time_masks',{transform.nt})}\")\n",
    "    elif HEAD_MODE == 'classifier-1':\n",
    "        head = AnomalyScorer(in_dim=256, dropout=0.4, mode='classifier-1')\n",
    "        pos_count = sum(all_labels)\n",
    "        neg_count = len(all_labels) - pos_count\n",
    "        pos_weight = torch.tensor([neg_count / (pos_count + 1e-8)], dtype=torch.float32).to(device)\n",
    "        criterion = nn.BCEWithLogitsLoss(pos_weight=pos_weight)\n",
    "        # print(f\"Using head: \\n{head}\")\n",
    "        # print(\"Used transformations:\")\n",
    "        # for transform in train_transforms.transforms:\n",
    "        #     print(f\"- {transform.__class__.__name__}\")\n",
    "        #     if isinstance(transform, SpecTimePitchWarp):\n",
    "\n",
    "        #         print(f\"    - time_scale: {getattr(transform, 'max_time_scale', {transform.max_time})}\")\n",
    "        #         print(f\"    - freq_scale: {getattr(transform, 'max_freq_scale', {transform.max_freq})}\")\n",
    "        #     if isinstance(transform, SpecAugment):\n",
    "        #         print(f\"    - freq_mask_param: {getattr(transform,'freq_mask_param',{transform.fm})}\")\n",
    "        #         print(f\"    - time_mask_param: {getattr(transform,'time_mask_param', {transform.tm})}\")\n",
    "        #         print(f\"    - n_freq_masks: {getattr(transform,'n_freq_masks',{transform.nf})}\")\n",
    "        #         print(f\"    - n_time_masks: {getattr(transform,'n_time_masks',{transform.nt})}\")\n",
    "    else:\n",
    "        raise ValueError(\"Invalid Head_Mode\")\n",
    "    \n",
    "    model = FusedModel(\n",
    "        stft_dim=512, cqt_dim=320, fusion_dim=256, head=head, head_mode=head_mode,\n",
    "    ).to(device)\n",
    "    \n",
    "    optimizer = optim.AdamW(model.parameters(), lr=LR, weight_decay=WEIGHT_DECAY)\n",
    "    scheduler = optim.lr_scheduler.CosineAnnealingLR(optimizer, T_max=NUM_EPOCHS, eta_min=1e-6)\n",
    "    \n",
    "    model_path = os.path.join(CHECKPOINT_DIR, 'DFCA', '[Anomaly-With-Transformations-dropout=0.4]_MLP(5e-5)','ComplexMLP-75', \"best_model.pth\")\n",
    "    os.makedirs(os.path.dirname(model_path), exist_ok=True)  \n",
    "    best_threshold = train_model(model, train_loader, val_loader, criterion, optimizer, head_mode, scheduler, num_epochs=NUM_EPOCHS, model_save_path=model_path, device=device, save_plots=True)\n",
    "    \n",
    "    print(\"\\n--- Final Test Evaluation ---\")\n",
    "    model.load_state_dict(torch.load(model_path))\n",
    "    \n",
    "    safe_threshold = float(best_threshold) if best_threshold is not None else 0.5\n",
    "\n",
    "    test_loss, test_auc, test_acc, test_bacc, test_f1, all_labels_test, all_probs_test, _ = evaluate_model(model, test_loader, criterion, \"Test\", device, head_mode=head_mode, sample_count=5, threshold=safe_threshold)\n",
    "    print(f\"\\nFinal Test Metrics (with best validation threshold {best_threshold:.2f}):\")\n",
    "    print(f\"Loss: {test_loss:.4f} | AUC: {test_auc:.4f} | Accuracy: {test_acc:.4f} | Balanced Accuracy: {test_bacc:.4f} | F1-Score: {test_f1:.4f}\")\n",
    "    if len(np.unique(all_labels_test)) > 1:\n",
    "        final_pauc = calculate_pAUC(all_labels_test, all_probs_test, max_fpr=0.2)\n",
    "        print(f\"Final Test pAUC (FPR <= 0.2): {final_pauc:.4f}\")\n",
    "    else:\n",
    "        print(\"Test set contains only one class; cannot compute AUC/pAUC\")\n",
    "\n",
    "\n",
    "    # Plot ROC\n",
    "    fpr, tpr, _ = roc_curve(all_labels_test, all_probs_test)\n",
    "    plt.figure(figsize=(6,6))\n",
    "    plt.plot(fpr, tpr, lw=2, label=f\"{test_auc:.4f}\")\n",
    "    plt.plot([0,1],[0,1], linestyle='--', lw=1)\n",
    "    plt.xlabel(\"FPR\")\n",
    "    plt.ylabel(\"TPR\")\n",
    "    plt.title(\"Test ROC With Optimal Threshold\")\n",
    "    plt.legend()\n",
    "    plt.grid(True)\n",
    "    plt.savefig(os.path.join(save_path,\"roc_test_optimal.png\"))\n",
    "    # plt.show()\n",
    "\n",
    "    labels = ['Normal', 'Anomaly']\n",
    "    all_preds_test = (np.array(all_probs_test) > safe_threshold).astype(int)\n",
    "    plot_confusion_matrix(all_labels_test, all_preds_test,labels,save_path,title='Test Set Confusion Matrix')\n",
    "\n",
    "    try:\n",
    "        cams = build_gradcam_for_model(model, device)\n",
    "        run_and_save_gradcams(model, cams, test_set,device, out_dir=os.path.join(CHECKPOINT_DIR,'DFCA','[Anomaly-With-Transformations-dropout=0.4]_MLP(5e-5)','ComplexMLP-75','gradcam'),n_samples=8)\n",
    "    except Exception as error:\n",
    "        print(f\"GradCAM step failed: {error}\")\n",
    "\n",
    "if __name__ == '__main__':\n",
    "    main()"
   ]
  }
 ],
 "metadata": {
  "kernelspec": {
   "display_name": "capstone",
   "language": "python",
   "name": "python3"
  },
  "language_info": {
   "codemirror_mode": {
    "name": "ipython",
    "version": 3
   },
   "file_extension": ".py",
   "mimetype": "text/x-python",
   "name": "python",
   "nbconvert_exporter": "python",
   "pygments_lexer": "ipython3",
   "version": "3.12.10"
  }
 },
 "nbformat": 4,
 "nbformat_minor": 5
}
