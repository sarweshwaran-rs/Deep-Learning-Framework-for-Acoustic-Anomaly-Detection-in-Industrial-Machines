{
 "cells": [
  {
   "cell_type": "markdown",
   "id": "bda58e11",
   "metadata": {},
   "source": [
    "Necessary Standard Imports"
   ]
  },
  {
   "cell_type": "code",
   "execution_count": 1,
   "id": "8f73ee97",
   "metadata": {},
   "outputs": [],
   "source": [
    "import os\n",
    "import sys\n",
    "import pandas as pd\n",
    "import numpy as np\n",
    "import torch\n",
    "import torch.nn as nn\n",
    "import torch.nn.functional as F\n",
    "import torch.optim as optim\n",
    "import matplotlib.pyplot as plt\n",
    "from collections import Counter, defaultdict\n",
    "from torch.utils.data import DataLoader, Subset, WeightedRandomSampler\n",
    "from sklearn.model_selection import train_test_split\n",
    "from sklearn.metrics import roc_auc_score, accuracy_score, balanced_accuracy_score, roc_curve, auc, f1_score, confusion_matrix\n",
    "from tqdm import tqdm\n",
    "import seaborn as sns"
   ]
  },
  {
   "cell_type": "markdown",
   "id": "996d091b",
   "metadata": {},
   "source": [
    "Importing the Custom "
   ]
  },
  {
   "cell_type": "code",
   "execution_count": 2,
   "id": "12d71e8c",
   "metadata": {},
   "outputs": [
    {
     "name": "stderr",
     "output_type": "stream",
     "text": [
      "f:\\CapStone\\DFCA\\capstone\\Lib\\site-packages\\tqdm\\auto.py:21: TqdmWarning: IProgress not found. Please update jupyter and ipywidgets. See https://ipywidgets.readthedocs.io/en/stable/user_install.html\n",
      "  from .autonotebook import tqdm as notebook_tqdm\n"
     ]
    }
   ],
   "source": [
    "custom_modules_path = os.path.abspath(r'F:\\Capstone\\DFCA')\n",
    "\n",
    "# Add the path to sys.path\n",
    "if custom_modules_path not in sys.path:\n",
    "    sys.path.append(custom_modules_path)\n",
    "\n",
    "from scripts.pretrain_pipeline import FusedModel\n",
    "from utils.augmentations import ComposeT, ToTensor, SpecTimePitchWarp, SpecAugment, GradCAM\n",
    "from models.heads import AnomalyScorer, SimpleAnomalyMLP, EmbeddingMLP,ComplexAnomalyMLP\n",
    "from models.losses import ContrastiveLoss, BinaryFocalLoss, FocalLoss\n",
    "from utils.datasets import PairedSpectrogramDataset, PairedSpectrogramDatasetCS"
   ]
  },
  {
   "cell_type": "markdown",
   "id": "adc1b470",
   "metadata": {},
   "source": [
    "Metrics and GradCam Utilities"
   ]
  },
  {
   "cell_type": "code",
   "execution_count": 3,
   "id": "c18967f4",
   "metadata": {},
   "outputs": [],
   "source": [
    "def calculate_pAUC(labels, preds, max_fpr = 0.1):\n",
    "    \"\"\"\n",
    "    Calculates Partial AUC (pAUC) for a given FPR range.\n",
    "    Args:\n",
    "        labels (array): True binary labels.\n",
    "        preds (array): Predicted probabilities for the positive class.\n",
    "        max_fpr (float): Maximum False Positive Rate for pAUC calculation.\n",
    "    Returns:\n",
    "        float: pAUC score.\n",
    "    \"\"\"\n",
    "    if len(np.unique(labels)) < 2:\n",
    "        return float('nan')\n",
    "    \n",
    "    fpr, tpr, _ = roc_curve(labels, preds)\n",
    "    #filter for FPR <= max_fpr\n",
    "    mask = fpr <= max_fpr\n",
    "    fpr_filtered, tpr_filtered = fpr[mask], tpr[mask] \n",
    "      \n",
    "    if fpr_filtered.size == 0:\n",
    "        return 0.0\n",
    "\n",
    "    if fpr_filtered.max() < max_fpr:\n",
    "        idx = np.where(fpr <= max_fpr)[0][-1]\n",
    "        if idx + 1 < len(fpr):\n",
    "            x1, y1 = fpr[idx], tpr[idx]\n",
    "            x2, y2 = fpr[idx + 1], tpr[idx + 1]\n",
    "            tpr_interp = y1 + (y2 - y1) * (max_fpr - x1) / (x2 - x1) if (x2 - x1) > 0 else y1\n",
    "            fpr_filtered = np.append(fpr_filtered, max_fpr)\n",
    "            tpr_filtered = np.append(tpr_filtered, tpr_interp)\n",
    "            sort_idx = np.argsort(fpr_filtered)\n",
    "            fpr_filtered = fpr_filtered[sort_idx]\n",
    "            tpr_filtered = tpr_filtered[sort_idx]\n",
    "\n",
    "    return auc(fpr_filtered, tpr_filtered) / max_fpr if len(fpr_filtered) >= 2 else 0.0\n",
    "\n",
    "def plot_confusion_matrix(y_true, y_pred, labels, save_path, title=\"Confusion Matrix\"):\n",
    "    \"\"\"\n",
    "        Plots a confusion matrix for model evaluation\n",
    "    Args:\n",
    "        y_true (list or np.array): Ground truth labels.\n",
    "        y_pred (list or np.array): Predicted labels.\n",
    "        labels (list): A list of labels for the matrix axes (['Normal', 'Abnormal'])\n",
    "        title (str): Title for the plot\n",
    "    \"\"\"\n",
    "    cm = confusion_matrix(y_true, y_pred)\n",
    "    tn, fp, fn, tp = cm.ravel()\n",
    "\n",
    "    precision = tp / (tp + fp) if (tp + fp) > 0 else 0\n",
    "    recall = tp / (tp+fn) if (tp + fn) > 0 else 0\n",
    "    specificity = tn / (tn + fp) if (tn + fp) > 0 else 0\n",
    "\n",
    "    print(f\"TP: {tp} | TN: {tn} | FP: {fp} | FN: {fn} | Precision: {precision:.4f} | Recall: {recall:.4f} | Specificity: {specificity:.4f}\")\n",
    "    plt.figure(figsize=(8,8))\n",
    "    sns.heatmap(cm, annot=True, fmt='d', cmap='Blues', xticklabels=labels, yticklabels=labels)\n",
    "    plt.xlabel('Predicted Label')\n",
    "    plt.ylabel('True Label')\n",
    "    plt.title(title)\n",
    "    os.makedirs(save_path, exist_ok=True)\n",
    "    plt.savefig(os.path.join(save_path, \"Confusion Matrix.png\"))\n",
    "    plt.show()\n",
    "    plt.close()\n",
    "    \n",
    "def find_last_conv(module, name_contains=None):\n",
    "    \"\"\"\n",
    "    Returns (module_ref, full_name) of the last nn.Conv2d found in module.\n",
    "    If name_contains is provided, prefer conv modules whose name includes that substring.\n",
    "    \"\"\"\n",
    "    last = (None, None)\n",
    "    for n,m in module.named_modules():\n",
    "        if isinstance(m, nn.Conv2d):\n",
    "            last = (m,n)\n",
    "        \n",
    "    if name_contains:\n",
    "        # Try to find last conv with name containing substring\n",
    "        cand = (None, None)\n",
    "        for n, m in module.named_modules():\n",
    "            if isinstance(m,nn.Conv2d) and name_contains in n.lower():\n",
    "                cand = (m,n)\n",
    "        \n",
    "        if cand[0] is not None:\n",
    "            return cand\n",
    "    \n",
    "    return last\n",
    "\n",
    "# -------------------------------\n",
    "# GradCAM Utilities\n",
    "# -------------------------------\n",
    "def prepare_gradcam_targets(model, device):\n",
    "    \"\"\"\n",
    "    Heuristic: try to find conv layers for stft and cqt branches by name\n",
    "    Fallback: the last conv in the model\n",
    "    Return dict {'stft':module, 'cqt':module}\n",
    "    \"\"\"\n",
    "    targets = {}\n",
    "    stft_conv = find_last_conv(model, name_contains='stft')\n",
    "    cqt_conv = find_last_conv(model, name_contains='cqt')\n",
    "\n",
    "    if stft_conv[0] is None:\n",
    "        stft_conv = find_last_conv(model, name_contains=None)\n",
    "    if cqt_conv[0] is None:\n",
    "        cqt_conv = find_last_conv(model, name_contains=None)\n",
    "    \n",
    "    targets['stft'] = stft_conv[0]\n",
    "    targets['cqt'] = cqt_conv[0]\n",
    "    \n",
    "    return targets\n",
    "\n",
    "def build_gradcam_for_model(model, device):\n",
    "    targets = prepare_gradcam_targets(model, device)\n",
    "    cams = {}\n",
    "    if targets['stft'] is not None:\n",
    "        cams['stft'] = GradCAM(model, targets['stft'])\n",
    "    if targets['cqt'] is not None:\n",
    "        cams['cqt'] = GradCAM(model, targets['cqt'])\n",
    "    return cams\n",
    "\n",
    "def run_and_save_gradcams(model, cams, dataset, device, out_dir=\"gradcam_outputs\", n_samples=8):\n",
    "    os.makedirs(out_dir, exist_ok=True)\n",
    "    model.eval()\n",
    "    saved = 0\n",
    "    for i in range(len(dataset)):\n",
    "        item = dataset[i]\n",
    "        stft = item['stft'].unsqueeze(0).to(device)\n",
    "        cqt = item['cqt'].unsqueeze(0).to(device)\n",
    "        label = int(item['label'])\n",
    "\n",
    "        #forward pass to get logtis\n",
    "        logits = model(stft, cqt)\n",
    "        #Pick scalar to backprop\n",
    "        if logits.ndim == 2 and logits.shape[1] == 2:\n",
    "            target_score = logits[:,1].squeeze()\n",
    "        else:\n",
    "            if logits.ndim == 2 and logits.shape[1] == 1:\n",
    "                target_score = logits.squeeze(1)\n",
    "            else:\n",
    "                target_score = logits\n",
    "        \n",
    "        #stft gradcam\n",
    "        for branch, cam in cams.items():\n",
    "            try:\n",
    "                scalar = target_score.sum()\n",
    "                heat = cam.heatmap(stft if branch =='stft' else cqt, scalar, device)\n",
    "            except Exception as e:\n",
    "                print(f\"GradCAM failed for sample {i} branch {branch}: {e}\")\n",
    "                heat = None\n",
    "            \n",
    "            # save overlay\n",
    "            base = (stft.squeeze(0).cpu().numpy() if branch =='stft' else cqt.squeeze(0).cpu().numpy())\n",
    "            if base.ndim == 3:\n",
    "                base_img = base[0]\n",
    "            else:\n",
    "                base_img = base\n",
    "            \n",
    "            # normalize base_img to 0..1\n",
    "            base_img = base_img - base_img.min()\n",
    "            if base_img.max() > 0:\n",
    "                base_img = base_img / base_img.max()\n",
    "            # Save figure\n",
    "            plt.figure(figsize=(6,4))\n",
    "            plt.imshow(base_img, aspect='auto', origin='lower')\n",
    "            if heat is not None:\n",
    "                cmap = plt.get_cmap('jet')\n",
    "                heat_resized = np.flipud(heat)\n",
    "                plt.imshow(heat_resized, cmap=cmap, alpha=0.5, extent=(0,base_img.shape[1], 0, base_img.shape[0]))\n",
    "            plt.title(f\"GradCAM {branch.upper()} - label:{label} idx:{i}\")\n",
    "            fname = os.path.join(out_dir, f\"gradcam_{branch}_idx_{i}_label{label}.png\")\n",
    "            plt.colorbar()\n",
    "            plt.tight_layout()\n",
    "            plt.savefig(fname)\n",
    "            plt.close()\n",
    "        saved +=1\n",
    "        if saved >= n_samples:\n",
    "            break\n",
    "\n",
    "    # remove hooks\n",
    "    for cam in cams.values():\n",
    "        cam.remove_hooks()\n",
    "    print(f\"Saved {saved} GradCAM images to {out_dir}\")"
   ]
  },
  {
   "cell_type": "markdown",
   "id": "dec54f2b",
   "metadata": {},
   "source": [
    "Configurations"
   ]
  },
  {
   "cell_type": "code",
   "execution_count": 4,
   "id": "b3cbb12b",
   "metadata": {},
   "outputs": [
    {
     "name": "stdout",
     "output_type": "stream",
     "text": [
      "Using Device: cuda - NVIDIA GeForce MX450\n"
     ]
    }
   ],
   "source": [
    "device = torch.device(\"cuda\" if torch.cuda.is_available() else \"cpu\")\n",
    "print(f\"Using Device: {device} - {torch.cuda.get_device_name(0)}\")\n",
    "\n",
    "FEATURES_DIR = os.path.abspath(r'F:\\Capstone\\DFCA\\data\\features')\n",
    "BATCH_SIZE = 32\n",
    "NUM_EPOCHS = 50\n",
    "LR = 5e-5\n",
    "WEIGHT_DECAY = 1e-2\n",
    "CHECKPOINT_DIR = os.path.abspath(r'F:\\Capstone\\DFCA\\checkpoints')\n",
    "CONTRASTIVE_MARGIN = 0.5\n",
    "os.makedirs(CHECKPOINT_DIR, exist_ok=True)\n",
    "HEAD_MODE = 'mlp'\n",
    "EMB_DIM = 64\n",
    "\n",
    "save_path = os.path.join(CHECKPOINT_DIR,'DFCA', '[Anomaly-With-Transformations-dropout=0.4]_MLP(5e-5)','ComplexMLP-75')\n",
    "os.makedirs(os.path.dirname(save_path), exist_ok=True)"
   ]
  },
  {
   "cell_type": "markdown",
   "id": "789b63b5",
   "metadata": {},
   "source": [
    "Train & Evaluate Functions"
   ]
  },
  {
   "cell_type": "code",
   "execution_count": null,
   "id": "1a27f8a6",
   "metadata": {},
   "outputs": [],
   "source": [
    "def evaluate_model(model, data_loader, criterion, phase=\"Evaluation\", device=device, head_mode='classifier', sample_count=10, threshold=0.5):\n",
    "    \"\"\"\n",
    "    Evaluate a model on a given dataset.\n",
    "    \n",
    "    Args:\n",
    "        model: PyTorch model to evaluate.\n",
    "        data_loader: DataLoader for the dataset to evaluate on.\n",
    "        criterion: Loss function.\n",
    "        phase (str): Label for the evaluation phase (e.g., \"Train\", \"Validation\", \"Test\").\n",
    "        device: Torch device ('cuda' or 'cpu').\n",
    "        head_mode (str): Type of model head ('classifier', 'mlp', 'prototype', 'embedding').\n",
    "        sample_count (int): Number of sample predictions to print for inspection.\n",
    "        threshold (float): The classification threshold to use for binary predictions.\n",
    "\n",
    "    Returns:\n",
    "        avg_loss: Average loss over the dataset.\n",
    "        auc_score: ROC AUC score.\n",
    "        acc_score: Accuracy.\n",
    "        bacc_score: Balanced accuracy.\n",
    "        f1_score: F1-score.\n",
    "        all_labels: List of all ground truth labels.\n",
    "        all_probs: List of all predicted probabilities/scores for the positive class.\n",
    "        best_threshold: The optimal threshold found, or the provided threshold.\n",
    "    \"\"\"\n",
    "    model.eval()\n",
    "    running_loss = 0.0\n",
    "    all_labels, all_probs = [], []\n",
    "    \n",
    "    best_threshold = threshold\n",
    "    f1 = 0.0\n",
    "    # [DEBUG]\n",
    "    class_counts = {0: 0, 1: 0}\n",
    "\n",
    "    with torch.no_grad():\n",
    "        for batch in tqdm(data_loader, desc=phase):\n",
    "            stft = batch['stft'].to(device)\n",
    "            cqt = batch['cqt'].to(device)\n",
    "            labels = batch['label'].to(device).long()\n",
    "            \n",
    "            for lbl in labels.cpu().numpy():\n",
    "                class_counts[int(lbl)] += 1\n",
    "            \n",
    "            loss = None\n",
    "            if head_mode == \"prototype\":\n",
    "                embeddings, prototype = model(stft, cqt)\n",
    "                embeddings = F.normalize(embeddings, dim=1)\n",
    "                prototype = F.normalize(prototype, dim=0)\n",
    "                if prototype.dim() == 1:\n",
    "                    prototype = prototype.unsqueeze(0)\n",
    "                prototype = prototype.expand_as(embeddings)\n",
    "                cos_sim = torch.sum(embeddings * prototype, dim=1)\n",
    "                probs = 1 - cos_sim\n",
    "                loss = criterion(embeddings, prototype, labels.float())\n",
    "            \n",
    "            elif head_mode in [\"classifier\", \"mlp\"]:\n",
    "                logits = model(stft, cqt)\n",
    "                if logits.ndim == 2 and logits.shape[1] == 2:\n",
    "                    probs = torch.softmax(logits, dim=1)[:, 1]\n",
    "                    loss = criterion(logits, labels.long())\n",
    "                else:\n",
    "                    if logits.ndim == 2 and logits.shape[1] == 1:\n",
    "                        logits = logits.squeeze(1)\n",
    "                    probs = torch.sigmoid(logits)\n",
    "                    loss = criterion(logits, labels.float())\n",
    "            \n",
    "            elif head_mode == \"embedding\":\n",
    "                embeddings = model(stft, cqt)\n",
    "                normal_proto = model.head.normal_prototype\n",
    "                embeddings = F.normalize(embeddings, dim=1)\n",
    "                normal_proto = F.normalize(normal_proto, dim=0)\n",
    "                cos_sim = torch.sum(embeddings * normal_proto.unsqueeze(0).expand_as(embeddings), dim=1)\n",
    "                probs = 1 - cos_sim\n",
    "                if isinstance(criterion, ContrastiveLoss):\n",
    "                    loss = criterion(embeddings, normal_proto, labels)\n",
    "                else:\n",
    "                    loss = criterion(probs, labels.float())\n",
    "            elif head_mode == 'classifier-1':\n",
    "                logits = model(stft,cqt)\n",
    "                if logits.ndim == 2 and logits.shape[1] ==1:\n",
    "                    logits = logits.squeeze(1)\n",
    "                probs = torch.sigmoid(logits)\n",
    "                loss = criterion(logits, labels.float())\n",
    "            \n",
    "            else:\n",
    "                raise ValueError(f\"Unsupported head_mode:{head_mode}\")\n",
    "            \n",
    "            running_loss += loss.item() * stft.size(0)\n",
    "            all_labels.extend(labels.cpu().numpy())\n",
    "            all_probs.extend(probs.cpu().numpy())\n",
    "    \n",
    "    print(f\"[DEBUG] {phase} label counts: {class_counts}\")\n",
    "    \n",
    "    # Logic for finding optimal threshold on Validation set\n",
    "    f1 = 0.0 # Initialize f1\n",
    "    if phase == \"Validation\":\n",
    "        best_f1 = 0\n",
    "        current_optimal_threshold = 0.5\n",
    "        for thresh in np.arange(0.01, 1.0, 0.01):\n",
    "            predictions_thresh = (np.array(all_probs) > thresh).astype(int)\n",
    "            f1_candidate = f1_score(all_labels, predictions_thresh)\n",
    "            if f1_candidate > best_f1:\n",
    "                best_f1 = f1_candidate\n",
    "                current_optimal_threshold = thresh\n",
    "\n",
    "        best_threshold = current_optimal_threshold\n",
    "        f1 = best_f1\n",
    "        print(f\"Optimal Threshold (F1-score): {best_threshold:.2f}\")\n",
    "        print(f\"Best F1-score on Validation Set: {best_f1:.4f}\")\n",
    "    \n",
    "    # Calculate all metrics using the selected or optimal threshold\n",
    "    all_preds = (np.array(all_probs) > best_threshold).astype(int)\n",
    "    if phase != \"Validation\":\n",
    "        if len(np.unique(all_labels)) > 1:\n",
    "            f1 = f1_score(all_labels, all_preds)\n",
    "        else:\n",
    "            f1 = 0.0\n",
    "    \n",
    "    avg_loss = running_loss / len(data_loader.dataset)\n",
    "    auc_score = roc_auc_score(all_labels, all_probs) if len(np.unique(all_labels)) > 1 else float('nan')\n",
    "    acc_score = accuracy_score(all_labels, all_preds)\n",
    "    bacc_score = balanced_accuracy_score(all_labels, all_preds)\n",
    "    \n",
    "    print(f\"{phase} Loss: {avg_loss:.4f}, {phase} AUC: {auc_score:.4f}, {phase} ACC: {acc_score:.4f}, {phase} BACC: {bacc_score:.4f}\")\n",
    "    print(f\"[DEBUG] {phase} Prediction Distribution: {dict(Counter(all_preds))}\")\n",
    "    print(f\"[DEBUG] {phase} Label Distribution: {dict(Counter(all_labels))}\")\n",
    "    print(\"==================== Misclassification & Samples ====================\")\n",
    "    errors = [(i, p, pr, l) for i, (p, pr, l) in enumerate(zip(all_preds, all_probs, all_labels)) if p != l]\n",
    "    print(f\"{phase} Misclassified Samples: {len(errors)} / {len(all_labels)}\")\n",
    "    # for idx, pred, prob, label in errors[:10]:\n",
    "    #     print(f\"Idx {idx}: Pred = {pred}, Prob = {prob:.4f}, True = {label}\")\n",
    "    print(\"\\nSample Predictions vs Labels:\")\n",
    "    for i in range(min(sample_count, len(all_labels))):\n",
    "        print(f\"Sample {i+1}: Pred = {all_preds[i]}, Prob = {all_probs[i]:.4f}, True = {all_labels[i]}\")\n",
    "    print(\"=====================================================================\")\n",
    "    \n",
    "    return avg_loss, auc_score, acc_score, bacc_score, f1, all_labels, all_probs, best_threshold\n",
    "\n",
    "# ---------------------------------\n",
    "# Training\n",
    "# ---------------------------------\n",
    "def train_model(model, train_loader, val_loader, criterion, optimizer, head_mode, schedular=None, num_epochs=5, model_save_path=\"best_model.pth\", device=device, save_plots=True):\n",
    "    best_val_auc = -np.inf\n",
    "    best_val_loss = np.inf\n",
    "    current_threshold = 0.5\n",
    "    best_threshold = 0.5\n",
    "\n",
    "    train_losses, val_losses = [], []\n",
    "    train_aucs, val_aucs = [], []\n",
    "    train_accs, val_accs = [], []\n",
    "    train_baccs, val_baccs = [], []\n",
    "\n",
    "    model.to(device)\n",
    "\n",
    "    for epoch in range(num_epochs):\n",
    "        model.train()\n",
    "        running_loss = 0.0\n",
    "        all_labels, all_probs, all_preds = [], [], []\n",
    "\n",
    "        #DEBUG\n",
    "        class_counts_train = {0:0, 1:0}\n",
    "        epoch_stats = defaultdict(list)\n",
    "\n",
    "        print(f\"Epoch {epoch+1}/{num_epochs}\")\n",
    "        for batch in tqdm(train_loader, desc=\"Train\"):\n",
    "            stft = batch['stft'].to(device)\n",
    "            cqt = batch['cqt'].to(device)\n",
    "            labels = batch['label'].to(device).long()\n",
    "\n",
    "            #DEBUG\n",
    "            for lbl in labels.cpu().numpy():\n",
    "                class_counts_train[int(lbl)] +=1\n",
    "\n",
    "            optimizer.zero_grad()\n",
    "            outputs = model(stft, cqt)\n",
    "\n",
    "            if head_mode in [\"classifier\"]:\n",
    "                # Binary classification\n",
    "                if outputs.ndim == 2 and outputs.shape[1] == 2:\n",
    "                    probs = torch.softmax(outputs, dim=1)[:, 1]\n",
    "                    preds = torch.argmax(outputs.detach().cpu(), dim=1)\n",
    "                    loss = criterion(outputs, labels)\n",
    "                else:\n",
    "                    probs = torch.sigmoid(outputs.squeeze())\n",
    "                    preds = (probs > current_threshold ).long()\n",
    "                    loss = criterion(outputs.squeeze(), labels.float())\n",
    "            #Added Now:\n",
    "            elif head_mode == \"mlp\":\n",
    "                logits = outputs.squeeze(1) if outputs.ndim == 2 else outputs\n",
    "                probs = torch.sigmoid(logits)\n",
    "                preds = (probs > current_threshold).long()\n",
    "                loss = criterion(logits, labels.float())\n",
    "            #Added NOw:\n",
    "            elif head_mode == \"prototype\":\n",
    "                embeddings, prototype = outputs\n",
    "                #DEBUG STARTS\n",
    "                #Cosine SIM LOGGING\n",
    "                embeddings = F.normalize(embeddings, dim=1)\n",
    "                prototype = F.normalize(prototype,dim=0)\n",
    "                if prototype.dim() == 1:\n",
    "                    prototype = prototype.unsqueeze(0)\n",
    "                prototype = prototype.expand_as(embeddings)\n",
    "                cos_sim = torch.sum(embeddings * prototype, dim=1)\n",
    "\n",
    "                normal_sim = cos_sim[labels == 0].mean().item() if (labels == 0).any() else None\n",
    "                anomaly_sim = cos_sim[labels ==1].mean().item() if (labels == 1).any() else None\n",
    "                if normal_sim is not None:\n",
    "                    epoch_stats['normal_sim'].append(normal_sim)\n",
    "                if anomaly_sim is not None:\n",
    "                    epoch_stats['anomaly_sim'].append(anomaly_sim)\n",
    "                \n",
    "                #DEBUG ENDS\n",
    "                anomaly_scores = 1 - cos_sim \n",
    "                probs = anomaly_scores\n",
    "                preds = (anomaly_scores > current_threshold).long()\n",
    "                loss = criterion(embeddings, prototype, labels.float())\n",
    "\n",
    "            elif head_mode == \"embedding\":\n",
    "                embeddings = outputs\n",
    "                normal_proto = model.head.normal_prototype\n",
    "                \n",
    "                #DEBUG STARTS\n",
    "                embeddings = F.normalize(embeddings, dim=1)\n",
    "                normal_proto = F.normalize(normal_proto, dim=0)\n",
    "                cos_sim = torch.sum(embeddings * normal_proto.unsqueeze(0).expand_as(embeddings), dim=1)\n",
    "\n",
    "                normal_sim = cos_sim[labels == 0].mean().item() if (labels == 0).any() else None\n",
    "                anomaly_sim = cos_sim[labels == 1].mean().item() if (labels == 1).any() else None\n",
    "                if normal_sim is not None:\n",
    "                    epoch_stats['normal_sim'].append(normal_sim)\n",
    "                if anomaly_sim is not None:\n",
    "                    epoch_stats['anomaly_sim'].append(anomaly_sim)\n",
    "                #DEBUG ENDS\n",
    "                \n",
    "                anomaly_scores = 1 - cos_sim \n",
    "                probs = anomaly_scores\n",
    "                preds = (anomaly_scores > current_threshold).long()\n",
    "                loss = criterion(embeddings,normal_proto, labels)\n",
    "            \n",
    "            elif head_mode == 'classifier-1':\n",
    "                outputs = model(stft, cqt)\n",
    "                probs = torch.sigmoid(outputs.squeeze())\n",
    "                preds = (probs > current_threshold).long()\n",
    "                loss = criterion(outputs.squeeze(), labels.float())\n",
    "            else:\n",
    "                raise ValueError(f\"Unsupported head_mode: {head_mode}\")\n",
    "            \n",
    "            loss.backward()\n",
    "            optimizer.step()\n",
    "\n",
    "            running_loss += loss.item() * stft.size(0)\n",
    "            all_labels.extend(labels.cpu().numpy())\n",
    "            all_probs.extend(probs.detach().cpu().numpy())\n",
    "            all_preds.extend(preds.detach().cpu().numpy())\n",
    "        #DEBUG\n",
    "        print(f\"[DEBUG] Train label counts (epoch {epoch+1}): {class_counts_train}\") \n",
    "        if epoch_stats['normal_sim']:\n",
    "            avg_normal_sim = sum(epoch_stats['normal_sim']) / len(epoch_stats['normal_sim'])\n",
    "            avg_anomaly_sim = sum(epoch_stats['anomaly_sim']) / len(epoch_stats['anomaly_sim'])\n",
    "            print(f\"[DEBUG] Avg Normal CosSim: {avg_normal_sim:.4f}, Avg Anomaly CosSim: {avg_anomaly_sim:.4f}\")\n",
    "        \n",
    "        epoch_loss = running_loss / len(train_loader.dataset)\n",
    "        train_losses.append(epoch_loss)\n",
    "        train_auc = roc_auc_score(all_labels, all_probs) if len(np.unique(all_labels))> 1 else float('nan')\n",
    "        train_acc = accuracy_score(all_labels, all_preds)\n",
    "        train_bacc = balanced_accuracy_score(all_labels, all_preds)\n",
    "        train_aucs.append(train_auc)\n",
    "        train_accs.append(train_acc)\n",
    "        train_baccs.append(train_bacc)\n",
    "\n",
    "        print(f\"Train Loss: {epoch_loss:.4f} | Train AUC: {train_auc:.4f} | Train Acc: {train_acc:.4f}, | Train BAcc: {train_bacc:.4f}\")\n",
    "\n",
    "        # Validation\n",
    "        val_loss, val_auc, val_acc, val_bacc, _, _, _, current_optimal_threshold = evaluate_model(model, val_loader, criterion, phase=\"Validation\", device=device, head_mode=head_mode,sample_count=5)\n",
    "        val_losses.append(val_loss)\n",
    "        val_aucs.append(val_auc)\n",
    "        val_accs.append(val_acc)\n",
    "        val_baccs.append(val_bacc)\n",
    "\n",
    "        # scheduler step (per epoch)\n",
    "        if schedular is not None:\n",
    "            try:\n",
    "                schedular.step()\n",
    "            except Exception:\n",
    "                pass\n",
    "        print(f\"Epoch {epoch+1}: Learning Rate = {optimizer.param_groups[0]['lr']:.6f}\")\n",
    "\n",
    "        if val_loss < best_val_loss:\n",
    "            best_val_loss = val_loss\n",
    "            loss_path = model_save_path.replace(\".pth\", \"_best_loss.pth\")\n",
    "            torch.save(model.state_dict(), loss_path)\n",
    "            print(f\"Saved Best-Loss model to {loss_path} (val_loss improved to {best_val_loss:.4f})\")\n",
    "\n",
    "        # Save by best AUC\n",
    "        if not np.isnan(val_auc) and val_auc > best_val_auc:\n",
    "            best_val_auc = val_auc\n",
    "            best_threshold = current_optimal_threshold\n",
    "            torch.save(model.state_dict(), model_save_path)\n",
    "            print(f\"Saved Best-AUC model to {model_save_path} (val_auc improved to {best_val_auc:.4f})\")\n",
    "        else:\n",
    "            print(f\"Val AUC {val_auc:.4f} did not improved from best {best_val_auc:.4f}\")\n",
    "    \n",
    "    if save_plots:\n",
    "        epochs = range(1, num_epochs+1)\n",
    "        plt.figure(figsize=(18,4))\n",
    "        plt.subplot(1,4,1)\n",
    "        plt.plot(epochs, train_losses, label='Train Loss')\n",
    "        plt.plot(epochs, val_losses, label='Val Loss')\n",
    "        plt.legend()\n",
    "        plt.grid(True)\n",
    "        plt.title(\"Train/Validation Loss\")\n",
    "\n",
    "        plt.subplot(1, 4, 2)\n",
    "        plt.plot(epochs, train_aucs, label='Train AUC')\n",
    "        plt.plot(epochs, val_aucs, label='Val AUC')\n",
    "        plt.legend()\n",
    "        plt.grid(True)\n",
    "        plt.title(\"Train/Validation AUC\")\n",
    "\n",
    "        plt.subplot(1, 4, 3)\n",
    "        plt.plot(epochs, train_accs, label='Train Acc')\n",
    "        plt.plot(epochs, val_accs, label='Val Acc')\n",
    "        plt.legend()\n",
    "        plt.grid(True)\n",
    "        plt.title(\"Train/Validation Accuracy\")\n",
    "\n",
    "        plt.subplot(1, 4, 4)\n",
    "        plt.plot(epochs, train_baccs, label='Train BAcc')\n",
    "        plt.plot(epochs, val_baccs, label='Val BAcc')\n",
    "        plt.legend()\n",
    "        plt.grid(True)\n",
    "        plt.title(\"Train/Validation Balanced Acc\")\n",
    "\n",
    "        plt.tight_layout()\n",
    "        plt.savefig(os.path.join(save_path, \"training_summary.png\"))\n",
    "        # plt.show()\n",
    "\n",
    "    return best_threshold"
   ]
  },
  {
   "cell_type": "markdown",
   "id": "c669e74e",
   "metadata": {},
   "source": [
    "Main Pine Line"
   ]
  },
  {
   "cell_type": "code",
   "execution_count": 6,
   "id": "667e62fb",
   "metadata": {},
   "outputs": [
    {
     "name": "stdout",
     "output_type": "stream",
     "text": [
      "Split sizes => Train: 2943, Val: 631, Test: 631\n",
      "Label Distribution (Train): Counter({0: 2624, 1: 319})\n",
      "Label Distribution (Validation): Counter({0: 562, 1: 69})\n",
      "Label Distribution (Test): Counter({0: 563, 1: 68})\n",
      "Used head:\n",
      " ComplexAnomalyMLP(\n",
      "  (dropout): Dropout(p=0.4, inplace=False)\n",
      "  (net): Sequential(\n",
      "    (0): Linear(in_features=256, out_features=256, bias=True)\n",
      "    (1): ReLU()\n",
      "    (2): Dropout(p=0.4, inplace=False)\n",
      "    (3): Linear(in_features=256, out_features=128, bias=True)\n",
      "    (4): ReLU()\n",
      "    (5): Dropout(p=0.4, inplace=False)\n",
      "    (6): Linear(in_features=128, out_features=1, bias=True)\n",
      "  )\n",
      ")\n",
      "Used transformations:\n",
      "  - ToTensor\n",
      "  - SpecTimePitchWarp\n",
      "    - time_scale: {1.1}\n",
      "    - freq_scale: {1.1}\n",
      "  - SpecAugment\n",
      "    - freq_mask_param: {4}\n",
      "    - time_mask_param: {4}\n",
      "    - n_freq_masks: {1}\n",
      "    - n_time_masks: {1}\n",
      "Epoch 1/50\n"
     ]
    },
    {
     "name": "stderr",
     "output_type": "stream",
     "text": [
      "Train: 100%|██████████| 91/91 [01:02<00:00,  1.46it/s]\n"
     ]
    },
    {
     "name": "stdout",
     "output_type": "stream",
     "text": [
      "[DEBUG] Train label counts (epoch 1): {0: 1454, 1: 1458}\n",
      "Train Loss: 0.1220 | Train AUC: 0.5831 | Train Acc: 0.5021, | Train BAcc: 0.5014\n"
     ]
    },
    {
     "name": "stderr",
     "output_type": "stream",
     "text": [
      "Validation: 100%|██████████| 20/20 [00:03<00:00,  5.54it/s]\n"
     ]
    },
    {
     "name": "stdout",
     "output_type": "stream",
     "text": [
      "[DEBUG] Validation label counts: {0: 562, 1: 69}\n",
      "Optimal Threshold (F1-score): 0.70\n",
      "Best F1-score on Validation Set: 0.3913\n",
      "Validation Loss: 0.1151, Validation AUC: 0.8060, Validation ACC: 0.8225, Validation BACC: 0.6906\n",
      "[DEBUG] Validation Prediction Distribution: {np.int64(0): 516, np.int64(1): 115}\n",
      "[DEBUG] Validation Label Distribution: {np.int64(0): 562, np.int64(1): 69}\n",
      "==================== Misclassification & Samples ====================\n",
      "Validation Misclassified Samples: 112 / 631\n",
      "\n",
      "Sample Predictions vs Labels:\n",
      "Sample 1: Pred = 0, Prob = 0.6541, True = 0\n",
      "Sample 2: Pred = 0, Prob = 0.6368, True = 0\n",
      "Sample 3: Pred = 0, Prob = 0.6770, True = 1\n",
      "Sample 4: Pred = 0, Prob = 0.6043, True = 0\n",
      "Sample 5: Pred = 0, Prob = 0.6772, True = 0\n",
      "=====================================================================\n",
      "Epoch 1: Learning Rate = 0.000050\n",
      "Saved Best-Loss model to F:\\Capstone\\DFCA\\checkpoints\\DFCA\\[Anomaly-With-Transformations-dropout=0.4]_MLP(5e-5)\\ComplexMLP-75\\best_model_best_loss.pth (val_loss improved to 0.1151)\n",
      "Saved Best-AUC model to F:\\Capstone\\DFCA\\checkpoints\\DFCA\\[Anomaly-With-Transformations-dropout=0.4]_MLP(5e-5)\\ComplexMLP-75\\best_model.pth (val_auc improved to 0.8060)\n",
      "Epoch 2/50\n"
     ]
    },
    {
     "name": "stderr",
     "output_type": "stream",
     "text": [
      "Train: 100%|██████████| 91/91 [01:02<00:00,  1.46it/s]\n"
     ]
    },
    {
     "name": "stdout",
     "output_type": "stream",
     "text": [
      "[DEBUG] Train label counts (epoch 2): {0: 1489, 1: 1423}\n",
      "Train Loss: 0.0961 | Train AUC: 0.7241 | Train Acc: 0.4921, | Train BAcc: 0.5033\n"
     ]
    },
    {
     "name": "stderr",
     "output_type": "stream",
     "text": [
      "Validation: 100%|██████████| 20/20 [00:03<00:00,  5.42it/s]\n"
     ]
    },
    {
     "name": "stdout",
     "output_type": "stream",
     "text": [
      "[DEBUG] Validation label counts: {0: 562, 1: 69}\n",
      "Optimal Threshold (F1-score): 0.77\n",
      "Best F1-score on Validation Set: 0.4783\n",
      "Validation Loss: 0.0974, Validation AUC: 0.8433, Validation ACC: 0.8859, Validation BACC: 0.7071\n",
      "[DEBUG] Validation Prediction Distribution: {np.int64(0): 562, np.int64(1): 69}\n",
      "[DEBUG] Validation Label Distribution: {np.int64(0): 562, np.int64(1): 69}\n",
      "==================== Misclassification & Samples ====================\n",
      "Validation Misclassified Samples: 72 / 631\n",
      "\n",
      "Sample Predictions vs Labels:\n",
      "Sample 1: Pred = 0, Prob = 0.5262, True = 0\n",
      "Sample 2: Pred = 0, Prob = 0.6195, True = 0\n",
      "Sample 3: Pred = 0, Prob = 0.7585, True = 1\n",
      "Sample 4: Pred = 0, Prob = 0.5525, True = 0\n",
      "Sample 5: Pred = 0, Prob = 0.4891, True = 0\n",
      "=====================================================================\n",
      "Epoch 2: Learning Rate = 0.000050\n",
      "Saved Best-Loss model to F:\\Capstone\\DFCA\\checkpoints\\DFCA\\[Anomaly-With-Transformations-dropout=0.4]_MLP(5e-5)\\ComplexMLP-75\\best_model_best_loss.pth (val_loss improved to 0.0974)\n",
      "Saved Best-AUC model to F:\\Capstone\\DFCA\\checkpoints\\DFCA\\[Anomaly-With-Transformations-dropout=0.4]_MLP(5e-5)\\ComplexMLP-75\\best_model.pth (val_auc improved to 0.8433)\n",
      "Epoch 3/50\n"
     ]
    },
    {
     "name": "stderr",
     "output_type": "stream",
     "text": [
      "Train: 100%|██████████| 91/91 [01:09<00:00,  1.31it/s]\n"
     ]
    },
    {
     "name": "stdout",
     "output_type": "stream",
     "text": [
      "[DEBUG] Train label counts (epoch 3): {0: 1455, 1: 1457}\n",
      "Train Loss: 0.0867 | Train AUC: 0.7972 | Train Acc: 0.5670, | Train BAcc: 0.5667\n"
     ]
    },
    {
     "name": "stderr",
     "output_type": "stream",
     "text": [
      "Validation: 100%|██████████| 20/20 [00:04<00:00,  4.94it/s]\n"
     ]
    },
    {
     "name": "stdout",
     "output_type": "stream",
     "text": [
      "[DEBUG] Validation label counts: {0: 562, 1: 69}\n",
      "Optimal Threshold (F1-score): 0.68\n",
      "Best F1-score on Validation Set: 0.5665\n",
      "Validation Loss: 0.0707, Validation AUC: 0.8801, Validation ACC: 0.8811, Validation BACC: 0.8061\n",
      "[DEBUG] Validation Prediction Distribution: {np.int64(0): 527, np.int64(1): 104}\n",
      "[DEBUG] Validation Label Distribution: {np.int64(0): 562, np.int64(1): 69}\n",
      "==================== Misclassification & Samples ====================\n",
      "Validation Misclassified Samples: 75 / 631\n",
      "\n",
      "Sample Predictions vs Labels:\n",
      "Sample 1: Pred = 0, Prob = 0.6016, True = 0\n",
      "Sample 2: Pred = 0, Prob = 0.5237, True = 0\n",
      "Sample 3: Pred = 0, Prob = 0.5854, True = 1\n",
      "Sample 4: Pred = 0, Prob = 0.4489, True = 0\n",
      "Sample 5: Pred = 0, Prob = 0.2764, True = 0\n",
      "=====================================================================\n",
      "Epoch 3: Learning Rate = 0.000050\n",
      "Saved Best-Loss model to F:\\Capstone\\DFCA\\checkpoints\\DFCA\\[Anomaly-With-Transformations-dropout=0.4]_MLP(5e-5)\\ComplexMLP-75\\best_model_best_loss.pth (val_loss improved to 0.0707)\n",
      "Saved Best-AUC model to F:\\Capstone\\DFCA\\checkpoints\\DFCA\\[Anomaly-With-Transformations-dropout=0.4]_MLP(5e-5)\\ComplexMLP-75\\best_model.pth (val_auc improved to 0.8801)\n",
      "Epoch 4/50\n"
     ]
    },
    {
     "name": "stderr",
     "output_type": "stream",
     "text": [
      "Train: 100%|██████████| 91/91 [01:14<00:00,  1.23it/s]\n"
     ]
    },
    {
     "name": "stdout",
     "output_type": "stream",
     "text": [
      "[DEBUG] Train label counts (epoch 4): {0: 1402, 1: 1510}\n",
      "Train Loss: 0.0857 | Train AUC: 0.8004 | Train Acc: 0.5762, | Train BAcc: 0.5604\n"
     ]
    },
    {
     "name": "stderr",
     "output_type": "stream",
     "text": [
      "Validation: 100%|██████████| 20/20 [00:04<00:00,  4.78it/s]\n"
     ]
    },
    {
     "name": "stdout",
     "output_type": "stream",
     "text": [
      "[DEBUG] Validation label counts: {0: 562, 1: 69}\n",
      "Optimal Threshold (F1-score): 0.72\n",
      "Best F1-score on Validation Set: 0.5839\n",
      "Validation Loss: 0.0711, Validation AUC: 0.8939, Validation ACC: 0.8938, Validation BACC: 0.8005\n",
      "[DEBUG] Validation Prediction Distribution: {np.int64(0): 539, np.int64(1): 92}\n",
      "[DEBUG] Validation Label Distribution: {np.int64(0): 562, np.int64(1): 69}\n",
      "==================== Misclassification & Samples ====================\n",
      "Validation Misclassified Samples: 67 / 631\n",
      "\n",
      "Sample Predictions vs Labels:\n",
      "Sample 1: Pred = 0, Prob = 0.5327, True = 0\n",
      "Sample 2: Pred = 0, Prob = 0.5573, True = 0\n",
      "Sample 3: Pred = 1, Prob = 0.7212, True = 1\n",
      "Sample 4: Pred = 0, Prob = 0.4827, True = 0\n",
      "Sample 5: Pred = 0, Prob = 0.3488, True = 0\n",
      "=====================================================================\n",
      "Epoch 4: Learning Rate = 0.000049\n",
      "Saved Best-AUC model to F:\\Capstone\\DFCA\\checkpoints\\DFCA\\[Anomaly-With-Transformations-dropout=0.4]_MLP(5e-5)\\ComplexMLP-75\\best_model.pth (val_auc improved to 0.8939)\n",
      "Epoch 5/50\n"
     ]
    },
    {
     "name": "stderr",
     "output_type": "stream",
     "text": [
      "Train: 100%|██████████| 91/91 [01:14<00:00,  1.23it/s]\n"
     ]
    },
    {
     "name": "stdout",
     "output_type": "stream",
     "text": [
      "[DEBUG] Train label counts (epoch 5): {0: 1448, 1: 1464}\n",
      "Train Loss: 0.0783 | Train AUC: 0.8405 | Train Acc: 0.6267, | Train BAcc: 0.6247\n"
     ]
    },
    {
     "name": "stderr",
     "output_type": "stream",
     "text": [
      "Validation: 100%|██████████| 20/20 [00:04<00:00,  4.96it/s]\n"
     ]
    },
    {
     "name": "stdout",
     "output_type": "stream",
     "text": [
      "[DEBUG] Validation label counts: {0: 562, 1: 69}\n",
      "Optimal Threshold (F1-score): 0.77\n",
      "Best F1-score on Validation Set: 0.6531\n",
      "Validation Loss: 0.0736, Validation AUC: 0.9238, Validation ACC: 0.9192, Validation BACC: 0.8211\n",
      "[DEBUG] Validation Prediction Distribution: {np.int64(0): 553, np.int64(1): 78}\n",
      "[DEBUG] Validation Label Distribution: {np.int64(0): 562, np.int64(1): 69}\n",
      "==================== Misclassification & Samples ====================\n",
      "Validation Misclassified Samples: 51 / 631\n",
      "\n",
      "Sample Predictions vs Labels:\n",
      "Sample 1: Pred = 0, Prob = 0.5753, True = 0\n",
      "Sample 2: Pred = 0, Prob = 0.6078, True = 0\n",
      "Sample 3: Pred = 0, Prob = 0.6837, True = 1\n",
      "Sample 4: Pred = 0, Prob = 0.4185, True = 0\n",
      "Sample 5: Pred = 0, Prob = 0.1742, True = 0\n",
      "=====================================================================\n",
      "Epoch 5: Learning Rate = 0.000049\n",
      "Saved Best-AUC model to F:\\Capstone\\DFCA\\checkpoints\\DFCA\\[Anomaly-With-Transformations-dropout=0.4]_MLP(5e-5)\\ComplexMLP-75\\best_model.pth (val_auc improved to 0.9238)\n",
      "Epoch 6/50\n"
     ]
    },
    {
     "name": "stderr",
     "output_type": "stream",
     "text": [
      "Train: 100%|██████████| 91/91 [01:17<00:00,  1.17it/s]\n"
     ]
    },
    {
     "name": "stdout",
     "output_type": "stream",
     "text": [
      "[DEBUG] Train label counts (epoch 6): {0: 1487, 1: 1425}\n",
      "Train Loss: 0.0734 | Train AUC: 0.8665 | Train Acc: 0.6284, | Train BAcc: 0.6359\n"
     ]
    },
    {
     "name": "stderr",
     "output_type": "stream",
     "text": [
      "Validation: 100%|██████████| 20/20 [00:04<00:00,  4.60it/s]\n"
     ]
    },
    {
     "name": "stdout",
     "output_type": "stream",
     "text": [
      "[DEBUG] Validation label counts: {0: 562, 1: 69}\n",
      "Optimal Threshold (F1-score): 0.84\n",
      "Best F1-score on Validation Set: 0.6400\n",
      "Validation Loss: 0.0982, Validation AUC: 0.9151, Validation ACC: 0.9144, Validation BACC: 0.8185\n",
      "[DEBUG] Validation Prediction Distribution: {np.int64(0): 550, np.int64(1): 81}\n",
      "[DEBUG] Validation Label Distribution: {np.int64(0): 562, np.int64(1): 69}\n",
      "==================== Misclassification & Samples ====================\n",
      "Validation Misclassified Samples: 54 / 631\n",
      "\n",
      "Sample Predictions vs Labels:\n",
      "Sample 1: Pred = 0, Prob = 0.5559, True = 0\n",
      "Sample 2: Pred = 0, Prob = 0.6472, True = 0\n",
      "Sample 3: Pred = 0, Prob = 0.8038, True = 1\n",
      "Sample 4: Pred = 0, Prob = 0.4644, True = 0\n",
      "Sample 5: Pred = 0, Prob = 0.0957, True = 0\n",
      "=====================================================================\n",
      "Epoch 6: Learning Rate = 0.000048\n",
      "Val AUC 0.9151 did not improved from best 0.9238\n",
      "Epoch 7/50\n"
     ]
    },
    {
     "name": "stderr",
     "output_type": "stream",
     "text": [
      "Train: 100%|██████████| 91/91 [01:18<00:00,  1.15it/s]\n"
     ]
    },
    {
     "name": "stdout",
     "output_type": "stream",
     "text": [
      "[DEBUG] Train label counts (epoch 7): {0: 1498, 1: 1414}\n",
      "Train Loss: 0.0706 | Train AUC: 0.8821 | Train Acc: 0.6542, | Train BAcc: 0.6634\n"
     ]
    },
    {
     "name": "stderr",
     "output_type": "stream",
     "text": [
      "Validation: 100%|██████████| 20/20 [00:04<00:00,  4.73it/s]\n"
     ]
    },
    {
     "name": "stdout",
     "output_type": "stream",
     "text": [
      "[DEBUG] Validation label counts: {0: 562, 1: 69}\n",
      "Optimal Threshold (F1-score): 0.85\n",
      "Best F1-score on Validation Set: 0.6111\n",
      "Validation Loss: 0.1086, Validation AUC: 0.9052, Validation ACC: 0.9113, Validation BACC: 0.7913\n",
      "[DEBUG] Validation Prediction Distribution: {np.int64(0): 556, np.int64(1): 75}\n",
      "[DEBUG] Validation Label Distribution: {np.int64(0): 562, np.int64(1): 69}\n",
      "==================== Misclassification & Samples ====================\n",
      "Validation Misclassified Samples: 56 / 631\n",
      "\n",
      "Sample Predictions vs Labels:\n",
      "Sample 1: Pred = 0, Prob = 0.5835, True = 0\n",
      "Sample 2: Pred = 0, Prob = 0.4315, True = 0\n",
      "Sample 3: Pred = 0, Prob = 0.8027, True = 1\n",
      "Sample 4: Pred = 0, Prob = 0.3284, True = 0\n",
      "Sample 5: Pred = 0, Prob = 0.2961, True = 0\n",
      "=====================================================================\n",
      "Epoch 7: Learning Rate = 0.000048\n",
      "Val AUC 0.9052 did not improved from best 0.9238\n",
      "Epoch 8/50\n"
     ]
    },
    {
     "name": "stderr",
     "output_type": "stream",
     "text": [
      "Train: 100%|██████████| 91/91 [01:14<00:00,  1.22it/s]\n"
     ]
    },
    {
     "name": "stdout",
     "output_type": "stream",
     "text": [
      "[DEBUG] Train label counts (epoch 8): {0: 1457, 1: 1455}\n",
      "Train Loss: 0.0691 | Train AUC: 0.8877 | Train Acc: 0.6566, | Train BAcc: 0.6568\n"
     ]
    },
    {
     "name": "stderr",
     "output_type": "stream",
     "text": [
      "Validation: 100%|██████████| 20/20 [00:04<00:00,  4.83it/s]\n"
     ]
    },
    {
     "name": "stdout",
     "output_type": "stream",
     "text": [
      "[DEBUG] Validation label counts: {0: 562, 1: 69}\n",
      "Optimal Threshold (F1-score): 0.84\n",
      "Best F1-score on Validation Set: 0.6494\n",
      "Validation Loss: 0.0946, Validation AUC: 0.9243, Validation ACC: 0.9144, Validation BACC: 0.8312\n",
      "[DEBUG] Validation Prediction Distribution: {np.int64(0): 546, np.int64(1): 85}\n",
      "[DEBUG] Validation Label Distribution: {np.int64(0): 562, np.int64(1): 69}\n",
      "==================== Misclassification & Samples ====================\n",
      "Validation Misclassified Samples: 54 / 631\n",
      "\n",
      "Sample Predictions vs Labels:\n",
      "Sample 1: Pred = 0, Prob = 0.5856, True = 0\n",
      "Sample 2: Pred = 0, Prob = 0.3453, True = 0\n",
      "Sample 3: Pred = 1, Prob = 0.8522, True = 1\n",
      "Sample 4: Pred = 0, Prob = 0.2462, True = 0\n",
      "Sample 5: Pred = 0, Prob = 0.2119, True = 0\n",
      "=====================================================================\n",
      "Epoch 8: Learning Rate = 0.000047\n",
      "Saved Best-AUC model to F:\\Capstone\\DFCA\\checkpoints\\DFCA\\[Anomaly-With-Transformations-dropout=0.4]_MLP(5e-5)\\ComplexMLP-75\\best_model.pth (val_auc improved to 0.9243)\n",
      "Epoch 9/50\n"
     ]
    },
    {
     "name": "stderr",
     "output_type": "stream",
     "text": [
      "Train: 100%|██████████| 91/91 [01:11<00:00,  1.27it/s]\n"
     ]
    },
    {
     "name": "stdout",
     "output_type": "stream",
     "text": [
      "[DEBUG] Train label counts (epoch 9): {0: 1488, 1: 1424}\n",
      "Train Loss: 0.0657 | Train AUC: 0.8992 | Train Acc: 0.6765, | Train BAcc: 0.6832\n"
     ]
    },
    {
     "name": "stderr",
     "output_type": "stream",
     "text": [
      "Validation: 100%|██████████| 20/20 [00:04<00:00,  4.86it/s]\n"
     ]
    },
    {
     "name": "stdout",
     "output_type": "stream",
     "text": [
      "[DEBUG] Validation label counts: {0: 562, 1: 69}\n",
      "Optimal Threshold (F1-score): 0.81\n",
      "Best F1-score on Validation Set: 0.6471\n",
      "Validation Loss: 0.0754, Validation AUC: 0.9270, Validation ACC: 0.9239, Validation BACC: 0.7984\n",
      "[DEBUG] Validation Prediction Distribution: {np.int64(0): 564, np.int64(1): 67}\n",
      "[DEBUG] Validation Label Distribution: {np.int64(0): 562, np.int64(1): 69}\n",
      "==================== Misclassification & Samples ====================\n",
      "Validation Misclassified Samples: 48 / 631\n",
      "\n",
      "Sample Predictions vs Labels:\n",
      "Sample 1: Pred = 0, Prob = 0.5445, True = 0\n",
      "Sample 2: Pred = 0, Prob = 0.4414, True = 0\n",
      "Sample 3: Pred = 0, Prob = 0.7963, True = 1\n",
      "Sample 4: Pred = 0, Prob = 0.3824, True = 0\n",
      "Sample 5: Pred = 0, Prob = 0.1560, True = 0\n",
      "=====================================================================\n",
      "Epoch 9: Learning Rate = 0.000046\n",
      "Saved Best-AUC model to F:\\Capstone\\DFCA\\checkpoints\\DFCA\\[Anomaly-With-Transformations-dropout=0.4]_MLP(5e-5)\\ComplexMLP-75\\best_model.pth (val_auc improved to 0.9270)\n",
      "Epoch 10/50\n"
     ]
    },
    {
     "name": "stderr",
     "output_type": "stream",
     "text": [
      "Train: 100%|██████████| 91/91 [01:13<00:00,  1.23it/s]\n"
     ]
    },
    {
     "name": "stdout",
     "output_type": "stream",
     "text": [
      "[DEBUG] Train label counts (epoch 10): {0: 1476, 1: 1436}\n",
      "Train Loss: 0.0624 | Train AUC: 0.9124 | Train Acc: 0.6896, | Train BAcc: 0.6935\n"
     ]
    },
    {
     "name": "stderr",
     "output_type": "stream",
     "text": [
      "Validation: 100%|██████████| 20/20 [00:04<00:00,  4.68it/s]\n"
     ]
    },
    {
     "name": "stdout",
     "output_type": "stream",
     "text": [
      "[DEBUG] Validation label counts: {0: 562, 1: 69}\n",
      "Optimal Threshold (F1-score): 0.74\n",
      "Best F1-score on Validation Set: 0.6788\n",
      "Validation Loss: 0.0649, Validation AUC: 0.9337, Validation ACC: 0.9160, Validation BACC: 0.8702\n",
      "[DEBUG] Validation Prediction Distribution: {np.int64(0): 535, np.int64(1): 96}\n",
      "[DEBUG] Validation Label Distribution: {np.int64(0): 562, np.int64(1): 69}\n",
      "==================== Misclassification & Samples ====================\n",
      "Validation Misclassified Samples: 53 / 631\n",
      "\n",
      "Sample Predictions vs Labels:\n",
      "Sample 1: Pred = 0, Prob = 0.4855, True = 0\n",
      "Sample 2: Pred = 0, Prob = 0.3405, True = 0\n",
      "Sample 3: Pred = 1, Prob = 0.7532, True = 1\n",
      "Sample 4: Pred = 0, Prob = 0.2486, True = 0\n",
      "Sample 5: Pred = 0, Prob = 0.1207, True = 0\n",
      "=====================================================================\n",
      "Epoch 10: Learning Rate = 0.000045\n",
      "Saved Best-Loss model to F:\\Capstone\\DFCA\\checkpoints\\DFCA\\[Anomaly-With-Transformations-dropout=0.4]_MLP(5e-5)\\ComplexMLP-75\\best_model_best_loss.pth (val_loss improved to 0.0649)\n",
      "Saved Best-AUC model to F:\\Capstone\\DFCA\\checkpoints\\DFCA\\[Anomaly-With-Transformations-dropout=0.4]_MLP(5e-5)\\ComplexMLP-75\\best_model.pth (val_auc improved to 0.9337)\n",
      "Epoch 11/50\n"
     ]
    },
    {
     "name": "stderr",
     "output_type": "stream",
     "text": [
      "Train: 100%|██████████| 91/91 [01:13<00:00,  1.24it/s]\n"
     ]
    },
    {
     "name": "stdout",
     "output_type": "stream",
     "text": [
      "[DEBUG] Train label counts (epoch 11): {0: 1479, 1: 1433}\n",
      "Train Loss: 0.0585 | Train AUC: 0.9237 | Train Acc: 0.7469, | Train BAcc: 0.7505\n"
     ]
    },
    {
     "name": "stderr",
     "output_type": "stream",
     "text": [
      "Validation: 100%|██████████| 20/20 [00:04<00:00,  4.82it/s]\n"
     ]
    },
    {
     "name": "stdout",
     "output_type": "stream",
     "text": [
      "[DEBUG] Validation label counts: {0: 562, 1: 69}\n",
      "Optimal Threshold (F1-score): 0.70\n",
      "Best F1-score on Validation Set: 0.7000\n",
      "Validation Loss: 0.0557, Validation AUC: 0.9302, Validation ACC: 0.9239, Validation BACC: 0.8747\n",
      "[DEBUG] Validation Prediction Distribution: {np.int64(0): 540, np.int64(1): 91}\n",
      "[DEBUG] Validation Label Distribution: {np.int64(0): 562, np.int64(1): 69}\n",
      "==================== Misclassification & Samples ====================\n",
      "Validation Misclassified Samples: 48 / 631\n",
      "\n",
      "Sample Predictions vs Labels:\n",
      "Sample 1: Pred = 0, Prob = 0.4609, True = 0\n",
      "Sample 2: Pred = 0, Prob = 0.3398, True = 0\n",
      "Sample 3: Pred = 0, Prob = 0.6617, True = 1\n",
      "Sample 4: Pred = 0, Prob = 0.2390, True = 0\n",
      "Sample 5: Pred = 0, Prob = 0.1931, True = 0\n",
      "=====================================================================\n",
      "Epoch 11: Learning Rate = 0.000044\n",
      "Saved Best-Loss model to F:\\Capstone\\DFCA\\checkpoints\\DFCA\\[Anomaly-With-Transformations-dropout=0.4]_MLP(5e-5)\\ComplexMLP-75\\best_model_best_loss.pth (val_loss improved to 0.0557)\n",
      "Val AUC 0.9302 did not improved from best 0.9337\n",
      "Epoch 12/50\n"
     ]
    },
    {
     "name": "stderr",
     "output_type": "stream",
     "text": [
      "Train: 100%|██████████| 91/91 [01:10<00:00,  1.30it/s]\n"
     ]
    },
    {
     "name": "stdout",
     "output_type": "stream",
     "text": [
      "[DEBUG] Train label counts (epoch 12): {0: 1503, 1: 1409}\n",
      "Train Loss: 0.0604 | Train AUC: 0.9182 | Train Acc: 0.7078, | Train BAcc: 0.7162\n"
     ]
    },
    {
     "name": "stderr",
     "output_type": "stream",
     "text": [
      "Validation: 100%|██████████| 20/20 [00:04<00:00,  4.92it/s]\n"
     ]
    },
    {
     "name": "stdout",
     "output_type": "stream",
     "text": [
      "[DEBUG] Validation label counts: {0: 562, 1: 69}\n",
      "Optimal Threshold (F1-score): 0.63\n",
      "Best F1-score on Validation Set: 0.6629\n",
      "Validation Loss: 0.0579, Validation AUC: 0.9314, Validation ACC: 0.9049, Validation BACC: 0.8831\n",
      "[DEBUG] Validation Prediction Distribution: {np.int64(0): 522, np.int64(1): 109}\n",
      "[DEBUG] Validation Label Distribution: {np.int64(0): 562, np.int64(1): 69}\n",
      "==================== Misclassification & Samples ====================\n",
      "Validation Misclassified Samples: 60 / 631\n",
      "\n",
      "Sample Predictions vs Labels:\n",
      "Sample 1: Pred = 0, Prob = 0.4919, True = 0\n",
      "Sample 2: Pred = 0, Prob = 0.4155, True = 0\n",
      "Sample 3: Pred = 1, Prob = 0.6479, True = 1\n",
      "Sample 4: Pred = 0, Prob = 0.2671, True = 0\n",
      "Sample 5: Pred = 0, Prob = 0.1616, True = 0\n",
      "=====================================================================\n",
      "Epoch 12: Learning Rate = 0.000043\n",
      "Val AUC 0.9314 did not improved from best 0.9337\n",
      "Epoch 13/50\n"
     ]
    },
    {
     "name": "stderr",
     "output_type": "stream",
     "text": [
      "Train: 100%|██████████| 91/91 [01:10<00:00,  1.30it/s]\n"
     ]
    },
    {
     "name": "stdout",
     "output_type": "stream",
     "text": [
      "[DEBUG] Train label counts (epoch 13): {0: 1465, 1: 1447}\n",
      "Train Loss: 0.0570 | Train AUC: 0.9258 | Train Acc: 0.7521, | Train BAcc: 0.7535\n"
     ]
    },
    {
     "name": "stderr",
     "output_type": "stream",
     "text": [
      "Validation: 100%|██████████| 20/20 [00:04<00:00,  4.82it/s]\n"
     ]
    },
    {
     "name": "stdout",
     "output_type": "stream",
     "text": [
      "[DEBUG] Validation label counts: {0: 562, 1: 69}\n",
      "Optimal Threshold (F1-score): 0.86\n",
      "Best F1-score on Validation Set: 0.6282\n",
      "Validation Loss: 0.1037, Validation AUC: 0.9246, Validation ACC: 0.9081, Validation BACC: 0.8213\n",
      "[DEBUG] Validation Prediction Distribution: {np.int64(0): 544, np.int64(1): 87}\n",
      "[DEBUG] Validation Label Distribution: {np.int64(0): 562, np.int64(1): 69}\n",
      "==================== Misclassification & Samples ====================\n",
      "Validation Misclassified Samples: 58 / 631\n",
      "\n",
      "Sample Predictions vs Labels:\n",
      "Sample 1: Pred = 0, Prob = 0.7418, True = 0\n",
      "Sample 2: Pred = 0, Prob = 0.2098, True = 0\n",
      "Sample 3: Pred = 0, Prob = 0.8551, True = 1\n",
      "Sample 4: Pred = 0, Prob = 0.0685, True = 0\n",
      "Sample 5: Pred = 0, Prob = 0.0232, True = 0\n",
      "=====================================================================\n",
      "Epoch 13: Learning Rate = 0.000042\n",
      "Val AUC 0.9246 did not improved from best 0.9337\n",
      "Epoch 14/50\n"
     ]
    },
    {
     "name": "stderr",
     "output_type": "stream",
     "text": [
      "Train: 100%|██████████| 91/91 [01:11<00:00,  1.26it/s]\n"
     ]
    },
    {
     "name": "stdout",
     "output_type": "stream",
     "text": [
      "[DEBUG] Train label counts (epoch 14): {0: 1446, 1: 1466}\n",
      "Train Loss: 0.0601 | Train AUC: 0.9163 | Train Acc: 0.7476, | Train BAcc: 0.7460\n"
     ]
    },
    {
     "name": "stderr",
     "output_type": "stream",
     "text": [
      "Validation: 100%|██████████| 20/20 [00:04<00:00,  4.93it/s]\n"
     ]
    },
    {
     "name": "stdout",
     "output_type": "stream",
     "text": [
      "[DEBUG] Validation label counts: {0: 562, 1: 69}\n",
      "Optimal Threshold (F1-score): 0.82\n",
      "Best F1-score on Validation Set: 0.6494\n",
      "Validation Loss: 0.1060, Validation AUC: 0.9261, Validation ACC: 0.9144, Validation BACC: 0.8312\n",
      "[DEBUG] Validation Prediction Distribution: {np.int64(0): 546, np.int64(1): 85}\n",
      "[DEBUG] Validation Label Distribution: {np.int64(0): 562, np.int64(1): 69}\n",
      "==================== Misclassification & Samples ====================\n",
      "Validation Misclassified Samples: 54 / 631\n",
      "\n",
      "Sample Predictions vs Labels:\n",
      "Sample 1: Pred = 0, Prob = 0.7389, True = 0\n",
      "Sample 2: Pred = 0, Prob = 0.4412, True = 0\n",
      "Sample 3: Pred = 1, Prob = 0.8511, True = 1\n",
      "Sample 4: Pred = 0, Prob = 0.3903, True = 0\n",
      "Sample 5: Pred = 0, Prob = 0.1233, True = 0\n",
      "=====================================================================\n",
      "Epoch 14: Learning Rate = 0.000041\n",
      "Val AUC 0.9261 did not improved from best 0.9337\n",
      "Epoch 15/50\n"
     ]
    },
    {
     "name": "stderr",
     "output_type": "stream",
     "text": [
      "Train: 100%|██████████| 91/91 [01:06<00:00,  1.36it/s]\n"
     ]
    },
    {
     "name": "stdout",
     "output_type": "stream",
     "text": [
      "[DEBUG] Train label counts (epoch 15): {0: 1427, 1: 1485}\n",
      "Train Loss: 0.0541 | Train AUC: 0.9328 | Train Acc: 0.7514, | Train BAcc: 0.7466\n"
     ]
    },
    {
     "name": "stderr",
     "output_type": "stream",
     "text": [
      "Validation: 100%|██████████| 20/20 [00:03<00:00,  5.02it/s]\n"
     ]
    },
    {
     "name": "stdout",
     "output_type": "stream",
     "text": [
      "[DEBUG] Validation label counts: {0: 562, 1: 69}\n",
      "Optimal Threshold (F1-score): 0.77\n",
      "Best F1-score on Validation Set: 0.7133\n",
      "Validation Loss: 0.0496, Validation AUC: 0.9424, Validation ACC: 0.9350, Validation BACC: 0.8491\n",
      "[DEBUG] Validation Prediction Distribution: {np.int64(0): 557, np.int64(1): 74}\n",
      "[DEBUG] Validation Label Distribution: {np.int64(0): 562, np.int64(1): 69}\n",
      "==================== Misclassification & Samples ====================\n",
      "Validation Misclassified Samples: 41 / 631\n",
      "\n",
      "Sample Predictions vs Labels:\n",
      "Sample 1: Pred = 0, Prob = 0.4342, True = 0\n",
      "Sample 2: Pred = 0, Prob = 0.2669, True = 0\n",
      "Sample 3: Pred = 1, Prob = 0.8796, True = 1\n",
      "Sample 4: Pred = 0, Prob = 0.2869, True = 0\n",
      "Sample 5: Pred = 0, Prob = 0.0611, True = 0\n",
      "=====================================================================\n",
      "Epoch 15: Learning Rate = 0.000040\n",
      "Saved Best-Loss model to F:\\Capstone\\DFCA\\checkpoints\\DFCA\\[Anomaly-With-Transformations-dropout=0.4]_MLP(5e-5)\\ComplexMLP-75\\best_model_best_loss.pth (val_loss improved to 0.0496)\n",
      "Saved Best-AUC model to F:\\Capstone\\DFCA\\checkpoints\\DFCA\\[Anomaly-With-Transformations-dropout=0.4]_MLP(5e-5)\\ComplexMLP-75\\best_model.pth (val_auc improved to 0.9424)\n",
      "Epoch 16/50\n"
     ]
    },
    {
     "name": "stderr",
     "output_type": "stream",
     "text": [
      "Train: 100%|██████████| 91/91 [01:06<00:00,  1.36it/s]\n"
     ]
    },
    {
     "name": "stdout",
     "output_type": "stream",
     "text": [
      "[DEBUG] Train label counts (epoch 16): {0: 1495, 1: 1417}\n",
      "Train Loss: 0.0510 | Train AUC: 0.9434 | Train Acc: 0.7699, | Train BAcc: 0.7755\n"
     ]
    },
    {
     "name": "stderr",
     "output_type": "stream",
     "text": [
      "Validation: 100%|██████████| 20/20 [00:03<00:00,  5.22it/s]\n"
     ]
    },
    {
     "name": "stdout",
     "output_type": "stream",
     "text": [
      "[DEBUG] Validation label counts: {0: 562, 1: 69}\n",
      "Optimal Threshold (F1-score): 0.82\n",
      "Best F1-score on Validation Set: 0.6980\n",
      "Validation Loss: 0.0669, Validation AUC: 0.9489, Validation ACC: 0.9287, Validation BACC: 0.8519\n",
      "[DEBUG] Validation Prediction Distribution: {np.int64(0): 551, np.int64(1): 80}\n",
      "[DEBUG] Validation Label Distribution: {np.int64(0): 562, np.int64(1): 69}\n",
      "==================== Misclassification & Samples ====================\n",
      "Validation Misclassified Samples: 45 / 631\n",
      "\n",
      "Sample Predictions vs Labels:\n",
      "Sample 1: Pred = 0, Prob = 0.4923, True = 0\n",
      "Sample 2: Pred = 0, Prob = 0.2746, True = 0\n",
      "Sample 3: Pred = 0, Prob = 0.7364, True = 1\n",
      "Sample 4: Pred = 0, Prob = 0.2564, True = 0\n",
      "Sample 5: Pred = 0, Prob = 0.1035, True = 0\n",
      "=====================================================================\n",
      "Epoch 16: Learning Rate = 0.000039\n",
      "Saved Best-AUC model to F:\\Capstone\\DFCA\\checkpoints\\DFCA\\[Anomaly-With-Transformations-dropout=0.4]_MLP(5e-5)\\ComplexMLP-75\\best_model.pth (val_auc improved to 0.9489)\n",
      "Epoch 17/50\n"
     ]
    },
    {
     "name": "stderr",
     "output_type": "stream",
     "text": [
      "Train: 100%|██████████| 91/91 [01:05<00:00,  1.39it/s]\n"
     ]
    },
    {
     "name": "stdout",
     "output_type": "stream",
     "text": [
      "[DEBUG] Train label counts (epoch 17): {0: 1448, 1: 1464}\n",
      "Train Loss: 0.0540 | Train AUC: 0.9318 | Train Acc: 0.7709, | Train BAcc: 0.7698\n"
     ]
    },
    {
     "name": "stderr",
     "output_type": "stream",
     "text": [
      "Validation: 100%|██████████| 20/20 [00:03<00:00,  5.20it/s]\n"
     ]
    },
    {
     "name": "stdout",
     "output_type": "stream",
     "text": [
      "[DEBUG] Validation label counts: {0: 562, 1: 69}\n",
      "Optimal Threshold (F1-score): 0.75\n",
      "Best F1-score on Validation Set: 0.7222\n",
      "Validation Loss: 0.0448, Validation AUC: 0.9513, Validation ACC: 0.9366, Validation BACC: 0.8563\n",
      "[DEBUG] Validation Prediction Distribution: {np.int64(0): 556, np.int64(1): 75}\n",
      "[DEBUG] Validation Label Distribution: {np.int64(0): 562, np.int64(1): 69}\n",
      "==================== Misclassification & Samples ====================\n",
      "Validation Misclassified Samples: 40 / 631\n",
      "\n",
      "Sample Predictions vs Labels:\n",
      "Sample 1: Pred = 0, Prob = 0.4862, True = 0\n",
      "Sample 2: Pred = 0, Prob = 0.2410, True = 0\n",
      "Sample 3: Pred = 0, Prob = 0.6557, True = 1\n",
      "Sample 4: Pred = 0, Prob = 0.1514, True = 0\n",
      "Sample 5: Pred = 0, Prob = 0.0161, True = 0\n",
      "=====================================================================\n",
      "Epoch 17: Learning Rate = 0.000037\n",
      "Saved Best-Loss model to F:\\Capstone\\DFCA\\checkpoints\\DFCA\\[Anomaly-With-Transformations-dropout=0.4]_MLP(5e-5)\\ComplexMLP-75\\best_model_best_loss.pth (val_loss improved to 0.0448)\n",
      "Saved Best-AUC model to F:\\Capstone\\DFCA\\checkpoints\\DFCA\\[Anomaly-With-Transformations-dropout=0.4]_MLP(5e-5)\\ComplexMLP-75\\best_model.pth (val_auc improved to 0.9513)\n",
      "Epoch 18/50\n"
     ]
    },
    {
     "name": "stderr",
     "output_type": "stream",
     "text": [
      "Train: 100%|██████████| 91/91 [01:12<00:00,  1.25it/s]\n"
     ]
    },
    {
     "name": "stdout",
     "output_type": "stream",
     "text": [
      "[DEBUG] Train label counts (epoch 18): {0: 1487, 1: 1425}\n",
      "Train Loss: 0.0443 | Train AUC: 0.9578 | Train Acc: 0.8077, | Train BAcc: 0.8113\n"
     ]
    },
    {
     "name": "stderr",
     "output_type": "stream",
     "text": [
      "Validation: 100%|██████████| 20/20 [00:04<00:00,  4.95it/s]\n"
     ]
    },
    {
     "name": "stdout",
     "output_type": "stream",
     "text": [
      "[DEBUG] Validation label counts: {0: 562, 1: 69}\n",
      "Optimal Threshold (F1-score): 0.85\n",
      "Best F1-score on Validation Set: 0.7248\n",
      "Validation Loss: 0.0678, Validation AUC: 0.9563, Validation ACC: 0.9350, Validation BACC: 0.8682\n",
      "[DEBUG] Validation Prediction Distribution: {np.int64(0): 551, np.int64(1): 80}\n",
      "[DEBUG] Validation Label Distribution: {np.int64(0): 562, np.int64(1): 69}\n",
      "==================== Misclassification & Samples ====================\n",
      "Validation Misclassified Samples: 41 / 631\n",
      "\n",
      "Sample Predictions vs Labels:\n",
      "Sample 1: Pred = 0, Prob = 0.5107, True = 0\n",
      "Sample 2: Pred = 0, Prob = 0.1273, True = 0\n",
      "Sample 3: Pred = 0, Prob = 0.7300, True = 1\n",
      "Sample 4: Pred = 0, Prob = 0.0959, True = 0\n",
      "Sample 5: Pred = 0, Prob = 0.0241, True = 0\n",
      "=====================================================================\n",
      "Epoch 18: Learning Rate = 0.000036\n",
      "Saved Best-AUC model to F:\\Capstone\\DFCA\\checkpoints\\DFCA\\[Anomaly-With-Transformations-dropout=0.4]_MLP(5e-5)\\ComplexMLP-75\\best_model.pth (val_auc improved to 0.9563)\n",
      "Epoch 19/50\n"
     ]
    },
    {
     "name": "stderr",
     "output_type": "stream",
     "text": [
      "Train: 100%|██████████| 91/91 [01:06<00:00,  1.38it/s]\n"
     ]
    },
    {
     "name": "stdout",
     "output_type": "stream",
     "text": [
      "[DEBUG] Train label counts (epoch 19): {0: 1427, 1: 1485}\n",
      "Train Loss: 0.0470 | Train AUC: 0.9488 | Train Acc: 0.8008, | Train BAcc: 0.7970\n"
     ]
    },
    {
     "name": "stderr",
     "output_type": "stream",
     "text": [
      "Validation: 100%|██████████| 20/20 [00:04<00:00,  4.59it/s]\n"
     ]
    },
    {
     "name": "stdout",
     "output_type": "stream",
     "text": [
      "[DEBUG] Validation label counts: {0: 562, 1: 69}\n",
      "Optimal Threshold (F1-score): 0.76\n",
      "Best F1-score on Validation Set: 0.7273\n",
      "Validation Loss: 0.0468, Validation AUC: 0.9524, Validation ACC: 0.9382, Validation BACC: 0.8572\n",
      "[DEBUG] Validation Prediction Distribution: {np.int64(0): 557, np.int64(1): 74}\n",
      "[DEBUG] Validation Label Distribution: {np.int64(0): 562, np.int64(1): 69}\n",
      "==================== Misclassification & Samples ====================\n",
      "Validation Misclassified Samples: 39 / 631\n",
      "\n",
      "Sample Predictions vs Labels:\n",
      "Sample 1: Pred = 0, Prob = 0.3958, True = 0\n",
      "Sample 2: Pred = 0, Prob = 0.0523, True = 0\n",
      "Sample 3: Pred = 0, Prob = 0.7013, True = 1\n",
      "Sample 4: Pred = 0, Prob = 0.0393, True = 0\n",
      "Sample 5: Pred = 0, Prob = 0.0076, True = 0\n",
      "=====================================================================\n",
      "Epoch 19: Learning Rate = 0.000035\n",
      "Val AUC 0.9524 did not improved from best 0.9563\n",
      "Epoch 20/50\n"
     ]
    },
    {
     "name": "stderr",
     "output_type": "stream",
     "text": [
      "Train: 100%|██████████| 91/91 [01:10<00:00,  1.30it/s]\n"
     ]
    },
    {
     "name": "stdout",
     "output_type": "stream",
     "text": [
      "[DEBUG] Train label counts (epoch 20): {0: 1398, 1: 1514}\n",
      "Train Loss: 0.0469 | Train AUC: 0.9479 | Train Acc: 0.8005, | Train BAcc: 0.7928\n"
     ]
    },
    {
     "name": "stderr",
     "output_type": "stream",
     "text": [
      "Validation: 100%|██████████| 20/20 [00:04<00:00,  4.69it/s]\n"
     ]
    },
    {
     "name": "stdout",
     "output_type": "stream",
     "text": [
      "[DEBUG] Validation label counts: {0: 562, 1: 69}\n",
      "Optimal Threshold (F1-score): 0.74\n",
      "Best F1-score on Validation Set: 0.7108\n",
      "Validation Loss: 0.0576, Validation AUC: 0.9518, Validation ACC: 0.9239, Validation BACC: 0.8937\n",
      "[DEBUG] Validation Prediction Distribution: {np.int64(0): 534, np.int64(1): 97}\n",
      "[DEBUG] Validation Label Distribution: {np.int64(0): 562, np.int64(1): 69}\n",
      "==================== Misclassification & Samples ====================\n",
      "Validation Misclassified Samples: 48 / 631\n",
      "\n",
      "Sample Predictions vs Labels:\n",
      "Sample 1: Pred = 0, Prob = 0.4412, True = 0\n",
      "Sample 2: Pred = 0, Prob = 0.1725, True = 0\n",
      "Sample 3: Pred = 0, Prob = 0.6995, True = 1\n",
      "Sample 4: Pred = 0, Prob = 0.1991, True = 0\n",
      "Sample 5: Pred = 0, Prob = 0.0579, True = 0\n",
      "=====================================================================\n",
      "Epoch 20: Learning Rate = 0.000033\n",
      "Val AUC 0.9518 did not improved from best 0.9563\n",
      "Epoch 21/50\n"
     ]
    },
    {
     "name": "stderr",
     "output_type": "stream",
     "text": [
      "Train: 100%|██████████| 91/91 [01:10<00:00,  1.29it/s]\n"
     ]
    },
    {
     "name": "stdout",
     "output_type": "stream",
     "text": [
      "[DEBUG] Train label counts (epoch 21): {0: 1456, 1: 1456}\n",
      "Train Loss: 0.0485 | Train AUC: 0.9484 | Train Acc: 0.7898, | Train BAcc: 0.7898\n"
     ]
    },
    {
     "name": "stderr",
     "output_type": "stream",
     "text": [
      "Validation: 100%|██████████| 20/20 [00:04<00:00,  4.94it/s]\n"
     ]
    },
    {
     "name": "stdout",
     "output_type": "stream",
     "text": [
      "[DEBUG] Validation label counts: {0: 562, 1: 69}\n",
      "Optimal Threshold (F1-score): 0.83\n",
      "Best F1-score on Validation Set: 0.6984\n",
      "Validation Loss: 0.0594, Validation AUC: 0.9487, Validation ACC: 0.9398, Validation BACC: 0.8073\n",
      "[DEBUG] Validation Prediction Distribution: {np.int64(0): 574, np.int64(1): 57}\n",
      "[DEBUG] Validation Label Distribution: {np.int64(0): 562, np.int64(1): 69}\n",
      "==================== Misclassification & Samples ====================\n",
      "Validation Misclassified Samples: 38 / 631\n",
      "\n",
      "Sample Predictions vs Labels:\n",
      "Sample 1: Pred = 0, Prob = 0.6247, True = 0\n",
      "Sample 2: Pred = 0, Prob = 0.2626, True = 0\n",
      "Sample 3: Pred = 0, Prob = 0.7070, True = 1\n",
      "Sample 4: Pred = 0, Prob = 0.2940, True = 0\n",
      "Sample 5: Pred = 0, Prob = 0.1134, True = 0\n",
      "=====================================================================\n",
      "Epoch 21: Learning Rate = 0.000032\n",
      "Val AUC 0.9487 did not improved from best 0.9563\n",
      "Epoch 22/50\n"
     ]
    },
    {
     "name": "stderr",
     "output_type": "stream",
     "text": [
      "Train: 100%|██████████| 91/91 [01:15<00:00,  1.20it/s]\n"
     ]
    },
    {
     "name": "stdout",
     "output_type": "stream",
     "text": [
      "[DEBUG] Train label counts (epoch 22): {0: 1464, 1: 1448}\n",
      "Train Loss: 0.0446 | Train AUC: 0.9538 | Train Acc: 0.8104, | Train BAcc: 0.8114\n"
     ]
    },
    {
     "name": "stderr",
     "output_type": "stream",
     "text": [
      "Validation: 100%|██████████| 20/20 [00:03<00:00,  5.00it/s]\n"
     ]
    },
    {
     "name": "stdout",
     "output_type": "stream",
     "text": [
      "[DEBUG] Validation label counts: {0: 562, 1: 69}\n",
      "Optimal Threshold (F1-score): 0.74\n",
      "Best F1-score on Validation Set: 0.7532\n",
      "Validation Loss: 0.0445, Validation AUC: 0.9546, Validation ACC: 0.9398, Validation BACC: 0.8963\n",
      "[DEBUG] Validation Prediction Distribution: {np.int64(0): 546, np.int64(1): 85}\n",
      "[DEBUG] Validation Label Distribution: {np.int64(0): 562, np.int64(1): 69}\n",
      "==================== Misclassification & Samples ====================\n",
      "Validation Misclassified Samples: 38 / 631\n",
      "\n",
      "Sample Predictions vs Labels:\n",
      "Sample 1: Pred = 0, Prob = 0.5448, True = 0\n",
      "Sample 2: Pred = 0, Prob = 0.1136, True = 0\n",
      "Sample 3: Pred = 0, Prob = 0.6412, True = 1\n",
      "Sample 4: Pred = 0, Prob = 0.1287, True = 0\n",
      "Sample 5: Pred = 0, Prob = 0.0140, True = 0\n",
      "=====================================================================\n",
      "Epoch 22: Learning Rate = 0.000030\n",
      "Saved Best-Loss model to F:\\Capstone\\DFCA\\checkpoints\\DFCA\\[Anomaly-With-Transformations-dropout=0.4]_MLP(5e-5)\\ComplexMLP-75\\best_model_best_loss.pth (val_loss improved to 0.0445)\n",
      "Val AUC 0.9546 did not improved from best 0.9563\n",
      "Epoch 23/50\n"
     ]
    },
    {
     "name": "stderr",
     "output_type": "stream",
     "text": [
      "Train: 100%|██████████| 91/91 [01:03<00:00,  1.43it/s]\n"
     ]
    },
    {
     "name": "stdout",
     "output_type": "stream",
     "text": [
      "[DEBUG] Train label counts (epoch 23): {0: 1470, 1: 1442}\n",
      "Train Loss: 0.0455 | Train AUC: 0.9494 | Train Acc: 0.8128, | Train BAcc: 0.8145\n"
     ]
    },
    {
     "name": "stderr",
     "output_type": "stream",
     "text": [
      "Validation: 100%|██████████| 20/20 [00:03<00:00,  5.17it/s]\n"
     ]
    },
    {
     "name": "stdout",
     "output_type": "stream",
     "text": [
      "[DEBUG] Validation label counts: {0: 562, 1: 69}\n",
      "Optimal Threshold (F1-score): 0.77\n",
      "Best F1-score on Validation Set: 0.7034\n",
      "Validation Loss: 0.0576, Validation AUC: 0.9468, Validation ACC: 0.9319, Validation BACC: 0.8473\n",
      "[DEBUG] Validation Prediction Distribution: {np.int64(0): 555, np.int64(1): 76}\n",
      "[DEBUG] Validation Label Distribution: {np.int64(0): 562, np.int64(1): 69}\n",
      "==================== Misclassification & Samples ====================\n",
      "Validation Misclassified Samples: 43 / 631\n",
      "\n",
      "Sample Predictions vs Labels:\n",
      "Sample 1: Pred = 0, Prob = 0.5811, True = 0\n",
      "Sample 2: Pred = 0, Prob = 0.1897, True = 0\n",
      "Sample 3: Pred = 0, Prob = 0.6699, True = 1\n",
      "Sample 4: Pred = 0, Prob = 0.1704, True = 0\n",
      "Sample 5: Pred = 0, Prob = 0.0087, True = 0\n",
      "=====================================================================\n",
      "Epoch 23: Learning Rate = 0.000029\n",
      "Val AUC 0.9468 did not improved from best 0.9563\n",
      "Epoch 24/50\n"
     ]
    },
    {
     "name": "stderr",
     "output_type": "stream",
     "text": [
      "Train: 100%|██████████| 91/91 [01:05<00:00,  1.38it/s]\n"
     ]
    },
    {
     "name": "stdout",
     "output_type": "stream",
     "text": [
      "[DEBUG] Train label counts (epoch 24): {0: 1443, 1: 1469}\n",
      "Train Loss: 0.0421 | Train AUC: 0.9577 | Train Acc: 0.8152, | Train BAcc: 0.8137\n"
     ]
    },
    {
     "name": "stderr",
     "output_type": "stream",
     "text": [
      "Validation: 100%|██████████| 20/20 [00:03<00:00,  5.11it/s]\n"
     ]
    },
    {
     "name": "stdout",
     "output_type": "stream",
     "text": [
      "[DEBUG] Validation label counts: {0: 562, 1: 69}\n",
      "Optimal Threshold (F1-score): 0.79\n",
      "Best F1-score on Validation Set: 0.7092\n",
      "Validation Loss: 0.0489, Validation AUC: 0.9483, Validation ACC: 0.9350, Validation BACC: 0.8427\n",
      "[DEBUG] Validation Prediction Distribution: {np.int64(0): 559, np.int64(1): 72}\n",
      "[DEBUG] Validation Label Distribution: {np.int64(0): 562, np.int64(1): 69}\n",
      "==================== Misclassification & Samples ====================\n",
      "Validation Misclassified Samples: 41 / 631\n",
      "\n",
      "Sample Predictions vs Labels:\n",
      "Sample 1: Pred = 0, Prob = 0.6284, True = 0\n",
      "Sample 2: Pred = 0, Prob = 0.0999, True = 0\n",
      "Sample 3: Pred = 0, Prob = 0.5961, True = 1\n",
      "Sample 4: Pred = 0, Prob = 0.1048, True = 0\n",
      "Sample 5: Pred = 0, Prob = 0.0053, True = 0\n",
      "=====================================================================\n",
      "Epoch 24: Learning Rate = 0.000027\n",
      "Val AUC 0.9483 did not improved from best 0.9563\n",
      "Epoch 25/50\n"
     ]
    },
    {
     "name": "stderr",
     "output_type": "stream",
     "text": [
      "Train: 100%|██████████| 91/91 [01:06<00:00,  1.37it/s]\n"
     ]
    },
    {
     "name": "stdout",
     "output_type": "stream",
     "text": [
      "[DEBUG] Train label counts (epoch 25): {0: 1439, 1: 1473}\n",
      "Train Loss: 0.0411 | Train AUC: 0.9589 | Train Acc: 0.8262, | Train BAcc: 0.8243\n"
     ]
    },
    {
     "name": "stderr",
     "output_type": "stream",
     "text": [
      "Validation: 100%|██████████| 20/20 [00:03<00:00,  5.13it/s]\n"
     ]
    },
    {
     "name": "stdout",
     "output_type": "stream",
     "text": [
      "[DEBUG] Validation label counts: {0: 562, 1: 69}\n",
      "Optimal Threshold (F1-score): 0.76\n",
      "Best F1-score on Validation Set: 0.7324\n",
      "Validation Loss: 0.0449, Validation AUC: 0.9461, Validation ACC: 0.9398, Validation BACC: 0.8581\n",
      "[DEBUG] Validation Prediction Distribution: {np.int64(0): 558, np.int64(1): 73}\n",
      "[DEBUG] Validation Label Distribution: {np.int64(0): 562, np.int64(1): 69}\n",
      "==================== Misclassification & Samples ====================\n",
      "Validation Misclassified Samples: 38 / 631\n",
      "\n",
      "Sample Predictions vs Labels:\n",
      "Sample 1: Pred = 0, Prob = 0.4918, True = 0\n",
      "Sample 2: Pred = 0, Prob = 0.0955, True = 0\n",
      "Sample 3: Pred = 0, Prob = 0.6590, True = 1\n",
      "Sample 4: Pred = 0, Prob = 0.1299, True = 0\n",
      "Sample 5: Pred = 0, Prob = 0.0055, True = 0\n",
      "=====================================================================\n",
      "Epoch 25: Learning Rate = 0.000026\n",
      "Val AUC 0.9461 did not improved from best 0.9563\n",
      "Epoch 26/50\n"
     ]
    },
    {
     "name": "stderr",
     "output_type": "stream",
     "text": [
      "Train: 100%|██████████| 91/91 [01:07<00:00,  1.35it/s]\n"
     ]
    },
    {
     "name": "stdout",
     "output_type": "stream",
     "text": [
      "[DEBUG] Train label counts (epoch 26): {0: 1424, 1: 1488}\n",
      "Train Loss: 0.0389 | Train AUC: 0.9630 | Train Acc: 0.8434, | Train BAcc: 0.8401\n"
     ]
    },
    {
     "name": "stderr",
     "output_type": "stream",
     "text": [
      "Validation: 100%|██████████| 20/20 [00:04<00:00,  4.92it/s]\n"
     ]
    },
    {
     "name": "stdout",
     "output_type": "stream",
     "text": [
      "[DEBUG] Validation label counts: {0: 562, 1: 69}\n",
      "Optimal Threshold (F1-score): 0.86\n",
      "Best F1-score on Validation Set: 0.7244\n",
      "Validation Loss: 0.0517, Validation AUC: 0.9498, Validation ACC: 0.9445, Validation BACC: 0.8227\n",
      "[DEBUG] Validation Prediction Distribution: {np.int64(0): 573, np.int64(1): 58}\n",
      "[DEBUG] Validation Label Distribution: {np.int64(0): 562, np.int64(1): 69}\n",
      "==================== Misclassification & Samples ====================\n",
      "Validation Misclassified Samples: 35 / 631\n",
      "\n",
      "Sample Predictions vs Labels:\n",
      "Sample 1: Pred = 0, Prob = 0.3744, True = 0\n",
      "Sample 2: Pred = 0, Prob = 0.0424, True = 0\n",
      "Sample 3: Pred = 0, Prob = 0.6407, True = 1\n",
      "Sample 4: Pred = 0, Prob = 0.0674, True = 0\n",
      "Sample 5: Pred = 0, Prob = 0.0063, True = 0\n",
      "=====================================================================\n",
      "Epoch 26: Learning Rate = 0.000024\n",
      "Val AUC 0.9498 did not improved from best 0.9563\n",
      "Epoch 27/50\n"
     ]
    },
    {
     "name": "stderr",
     "output_type": "stream",
     "text": [
      "Train: 100%|██████████| 91/91 [01:06<00:00,  1.36it/s]\n"
     ]
    },
    {
     "name": "stdout",
     "output_type": "stream",
     "text": [
      "[DEBUG] Train label counts (epoch 27): {0: 1505, 1: 1407}\n",
      "Train Loss: 0.0377 | Train AUC: 0.9669 | Train Acc: 0.8331, | Train BAcc: 0.8381\n"
     ]
    },
    {
     "name": "stderr",
     "output_type": "stream",
     "text": [
      "Validation: 100%|██████████| 20/20 [00:04<00:00,  4.86it/s]\n"
     ]
    },
    {
     "name": "stdout",
     "output_type": "stream",
     "text": [
      "[DEBUG] Validation label counts: {0: 562, 1: 69}\n",
      "Optimal Threshold (F1-score): 0.80\n",
      "Best F1-score on Validation Set: 0.7083\n",
      "Validation Loss: 0.0528, Validation AUC: 0.9417, Validation ACC: 0.9334, Validation BACC: 0.8482\n",
      "[DEBUG] Validation Prediction Distribution: {np.int64(0): 556, np.int64(1): 75}\n",
      "[DEBUG] Validation Label Distribution: {np.int64(0): 562, np.int64(1): 69}\n",
      "==================== Misclassification & Samples ====================\n",
      "Validation Misclassified Samples: 42 / 631\n",
      "\n",
      "Sample Predictions vs Labels:\n",
      "Sample 1: Pred = 0, Prob = 0.3372, True = 0\n",
      "Sample 2: Pred = 0, Prob = 0.0343, True = 0\n",
      "Sample 3: Pred = 0, Prob = 0.6384, True = 1\n",
      "Sample 4: Pred = 0, Prob = 0.0638, True = 0\n",
      "Sample 5: Pred = 0, Prob = 0.0046, True = 0\n",
      "=====================================================================\n",
      "Epoch 27: Learning Rate = 0.000022\n",
      "Val AUC 0.9417 did not improved from best 0.9563\n",
      "Epoch 28/50\n"
     ]
    },
    {
     "name": "stderr",
     "output_type": "stream",
     "text": [
      "Train: 100%|██████████| 91/91 [01:08<00:00,  1.32it/s]\n"
     ]
    },
    {
     "name": "stdout",
     "output_type": "stream",
     "text": [
      "[DEBUG] Train label counts (epoch 28): {0: 1463, 1: 1449}\n",
      "Train Loss: 0.0382 | Train AUC: 0.9678 | Train Acc: 0.8286, | Train BAcc: 0.8294\n"
     ]
    },
    {
     "name": "stderr",
     "output_type": "stream",
     "text": [
      "Validation: 100%|██████████| 20/20 [00:04<00:00,  4.96it/s]\n"
     ]
    },
    {
     "name": "stdout",
     "output_type": "stream",
     "text": [
      "[DEBUG] Validation label counts: {0: 562, 1: 69}\n",
      "Optimal Threshold (F1-score): 0.85\n",
      "Best F1-score on Validation Set: 0.7288\n",
      "Validation Loss: 0.0445, Validation AUC: 0.9417, Validation ACC: 0.9493, Validation BACC: 0.8063\n",
      "[DEBUG] Validation Prediction Distribution: {np.int64(0): 582, np.int64(1): 49}\n",
      "[DEBUG] Validation Label Distribution: {np.int64(0): 562, np.int64(1): 69}\n",
      "==================== Misclassification & Samples ====================\n",
      "Validation Misclassified Samples: 32 / 631\n",
      "\n",
      "Sample Predictions vs Labels:\n",
      "Sample 1: Pred = 0, Prob = 0.3200, True = 0\n",
      "Sample 2: Pred = 0, Prob = 0.0107, True = 0\n",
      "Sample 3: Pred = 0, Prob = 0.5409, True = 1\n",
      "Sample 4: Pred = 0, Prob = 0.0134, True = 0\n",
      "Sample 5: Pred = 0, Prob = 0.0008, True = 0\n",
      "=====================================================================\n",
      "Epoch 28: Learning Rate = 0.000021\n",
      "Saved Best-Loss model to F:\\Capstone\\DFCA\\checkpoints\\DFCA\\[Anomaly-With-Transformations-dropout=0.4]_MLP(5e-5)\\ComplexMLP-75\\best_model_best_loss.pth (val_loss improved to 0.0445)\n",
      "Val AUC 0.9417 did not improved from best 0.9563\n",
      "Epoch 29/50\n"
     ]
    },
    {
     "name": "stderr",
     "output_type": "stream",
     "text": [
      "Train: 100%|██████████| 91/91 [01:14<00:00,  1.22it/s]\n"
     ]
    },
    {
     "name": "stdout",
     "output_type": "stream",
     "text": [
      "[DEBUG] Train label counts (epoch 29): {0: 1460, 1: 1452}\n",
      "Train Loss: 0.0373 | Train AUC: 0.9666 | Train Acc: 0.8417, | Train BAcc: 0.8421\n"
     ]
    },
    {
     "name": "stderr",
     "output_type": "stream",
     "text": [
      "Validation: 100%|██████████| 20/20 [00:04<00:00,  4.31it/s]\n"
     ]
    },
    {
     "name": "stdout",
     "output_type": "stream",
     "text": [
      "[DEBUG] Validation label counts: {0: 562, 1: 69}\n",
      "Optimal Threshold (F1-score): 0.72\n",
      "Best F1-score on Validation Set: 0.7564\n",
      "Validation Loss: 0.0435, Validation AUC: 0.9527, Validation ACC: 0.9398, Validation BACC: 0.9026\n",
      "[DEBUG] Validation Prediction Distribution: {np.int64(0): 544, np.int64(1): 87}\n",
      "[DEBUG] Validation Label Distribution: {np.int64(0): 562, np.int64(1): 69}\n",
      "==================== Misclassification & Samples ====================\n",
      "Validation Misclassified Samples: 38 / 631\n",
      "\n",
      "Sample Predictions vs Labels:\n",
      "Sample 1: Pred = 0, Prob = 0.2573, True = 0\n",
      "Sample 2: Pred = 0, Prob = 0.0348, True = 0\n",
      "Sample 3: Pred = 0, Prob = 0.6191, True = 1\n",
      "Sample 4: Pred = 0, Prob = 0.0348, True = 0\n",
      "Sample 5: Pred = 0, Prob = 0.0070, True = 0\n",
      "=====================================================================\n",
      "Epoch 29: Learning Rate = 0.000019\n",
      "Saved Best-Loss model to F:\\Capstone\\DFCA\\checkpoints\\DFCA\\[Anomaly-With-Transformations-dropout=0.4]_MLP(5e-5)\\ComplexMLP-75\\best_model_best_loss.pth (val_loss improved to 0.0435)\n",
      "Val AUC 0.9527 did not improved from best 0.9563\n",
      "Epoch 30/50\n"
     ]
    },
    {
     "name": "stderr",
     "output_type": "stream",
     "text": [
      "Train: 100%|██████████| 91/91 [01:10<00:00,  1.30it/s]\n"
     ]
    },
    {
     "name": "stdout",
     "output_type": "stream",
     "text": [
      "[DEBUG] Train label counts (epoch 30): {0: 1433, 1: 1479}\n",
      "Train Loss: 0.0371 | Train AUC: 0.9689 | Train Acc: 0.8462, | Train BAcc: 0.8439\n"
     ]
    },
    {
     "name": "stderr",
     "output_type": "stream",
     "text": [
      "Validation: 100%|██████████| 20/20 [00:03<00:00,  5.08it/s]\n"
     ]
    },
    {
     "name": "stdout",
     "output_type": "stream",
     "text": [
      "[DEBUG] Validation label counts: {0: 562, 1: 69}\n",
      "Optimal Threshold (F1-score): 0.70\n",
      "Best F1-score on Validation Set: 0.7532\n",
      "Validation Loss: 0.0410, Validation AUC: 0.9513, Validation ACC: 0.9398, Validation BACC: 0.8963\n",
      "[DEBUG] Validation Prediction Distribution: {np.int64(0): 546, np.int64(1): 85}\n",
      "[DEBUG] Validation Label Distribution: {np.int64(0): 562, np.int64(1): 69}\n",
      "==================== Misclassification & Samples ====================\n",
      "Validation Misclassified Samples: 38 / 631\n",
      "\n",
      "Sample Predictions vs Labels:\n",
      "Sample 1: Pred = 0, Prob = 0.2617, True = 0\n",
      "Sample 2: Pred = 0, Prob = 0.0547, True = 0\n",
      "Sample 3: Pred = 0, Prob = 0.6110, True = 1\n",
      "Sample 4: Pred = 0, Prob = 0.0748, True = 0\n",
      "Sample 5: Pred = 0, Prob = 0.0079, True = 0\n",
      "=====================================================================\n",
      "Epoch 30: Learning Rate = 0.000018\n",
      "Saved Best-Loss model to F:\\Capstone\\DFCA\\checkpoints\\DFCA\\[Anomaly-With-Transformations-dropout=0.4]_MLP(5e-5)\\ComplexMLP-75\\best_model_best_loss.pth (val_loss improved to 0.0410)\n",
      "Val AUC 0.9513 did not improved from best 0.9563\n",
      "Epoch 31/50\n"
     ]
    },
    {
     "name": "stderr",
     "output_type": "stream",
     "text": [
      "Train: 100%|██████████| 91/91 [01:19<00:00,  1.15it/s]\n"
     ]
    },
    {
     "name": "stdout",
     "output_type": "stream",
     "text": [
      "[DEBUG] Train label counts (epoch 31): {0: 1451, 1: 1461}\n",
      "Train Loss: 0.0328 | Train AUC: 0.9735 | Train Acc: 0.8565, | Train BAcc: 0.8560\n"
     ]
    },
    {
     "name": "stderr",
     "output_type": "stream",
     "text": [
      "Validation: 100%|██████████| 20/20 [00:03<00:00,  5.34it/s]\n"
     ]
    },
    {
     "name": "stdout",
     "output_type": "stream",
     "text": [
      "[DEBUG] Validation label counts: {0: 562, 1: 69}\n",
      "Optimal Threshold (F1-score): 0.71\n",
      "Best F1-score on Validation Set: 0.7483\n",
      "Validation Loss: 0.0417, Validation AUC: 0.9487, Validation ACC: 0.9414, Validation BACC: 0.8781\n",
      "[DEBUG] Validation Prediction Distribution: {np.int64(0): 553, np.int64(1): 78}\n",
      "[DEBUG] Validation Label Distribution: {np.int64(0): 562, np.int64(1): 69}\n",
      "==================== Misclassification & Samples ====================\n",
      "Validation Misclassified Samples: 37 / 631\n",
      "\n",
      "Sample Predictions vs Labels:\n",
      "Sample 1: Pred = 0, Prob = 0.2195, True = 0\n",
      "Sample 2: Pred = 0, Prob = 0.0238, True = 0\n",
      "Sample 3: Pred = 0, Prob = 0.4399, True = 1\n",
      "Sample 4: Pred = 0, Prob = 0.0391, True = 0\n",
      "Sample 5: Pred = 0, Prob = 0.0035, True = 0\n",
      "=====================================================================\n",
      "Epoch 31: Learning Rate = 0.000016\n",
      "Val AUC 0.9487 did not improved from best 0.9563\n",
      "Epoch 32/50\n"
     ]
    },
    {
     "name": "stderr",
     "output_type": "stream",
     "text": [
      "Train: 100%|██████████| 91/91 [01:05<00:00,  1.38it/s]\n"
     ]
    },
    {
     "name": "stdout",
     "output_type": "stream",
     "text": [
      "[DEBUG] Train label counts (epoch 32): {0: 1502, 1: 1410}\n",
      "Train Loss: 0.0297 | Train AUC: 0.9790 | Train Acc: 0.8747, | Train BAcc: 0.8782\n"
     ]
    },
    {
     "name": "stderr",
     "output_type": "stream",
     "text": [
      "Validation: 100%|██████████| 20/20 [00:04<00:00,  4.86it/s]\n"
     ]
    },
    {
     "name": "stdout",
     "output_type": "stream",
     "text": [
      "[DEBUG] Validation label counts: {0: 562, 1: 69}\n",
      "Optimal Threshold (F1-score): 0.84\n",
      "Best F1-score on Validation Set: 0.7812\n",
      "Validation Loss: 0.0461, Validation AUC: 0.9513, Validation ACC: 0.9556, Validation BACC: 0.8543\n",
      "[DEBUG] Validation Prediction Distribution: {np.int64(0): 572, np.int64(1): 59}\n",
      "[DEBUG] Validation Label Distribution: {np.int64(0): 562, np.int64(1): 69}\n",
      "==================== Misclassification & Samples ====================\n",
      "Validation Misclassified Samples: 28 / 631\n",
      "\n",
      "Sample Predictions vs Labels:\n",
      "Sample 1: Pred = 0, Prob = 0.2231, True = 0\n",
      "Sample 2: Pred = 0, Prob = 0.0198, True = 0\n",
      "Sample 3: Pred = 0, Prob = 0.5752, True = 1\n",
      "Sample 4: Pred = 0, Prob = 0.0350, True = 0\n",
      "Sample 5: Pred = 0, Prob = 0.0027, True = 0\n",
      "=====================================================================\n",
      "Epoch 32: Learning Rate = 0.000015\n",
      "Val AUC 0.9513 did not improved from best 0.9563\n",
      "Epoch 33/50\n"
     ]
    },
    {
     "name": "stderr",
     "output_type": "stream",
     "text": [
      "Train: 100%|██████████| 91/91 [01:14<00:00,  1.23it/s]\n"
     ]
    },
    {
     "name": "stdout",
     "output_type": "stream",
     "text": [
      "[DEBUG] Train label counts (epoch 33): {0: 1415, 1: 1497}\n",
      "Train Loss: 0.0317 | Train AUC: 0.9763 | Train Acc: 0.8753, | Train BAcc: 0.8722\n"
     ]
    },
    {
     "name": "stderr",
     "output_type": "stream",
     "text": [
      "Validation: 100%|██████████| 20/20 [00:04<00:00,  4.77it/s]\n"
     ]
    },
    {
     "name": "stdout",
     "output_type": "stream",
     "text": [
      "[DEBUG] Validation label counts: {0: 562, 1: 69}\n",
      "Optimal Threshold (F1-score): 0.79\n",
      "Best F1-score on Validation Set: 0.7218\n",
      "Validation Loss: 0.0447, Validation AUC: 0.9474, Validation ACC: 0.9414, Validation BACC: 0.8336\n",
      "[DEBUG] Validation Prediction Distribution: {np.int64(0): 567, np.int64(1): 64}\n",
      "[DEBUG] Validation Label Distribution: {np.int64(0): 562, np.int64(1): 69}\n",
      "==================== Misclassification & Samples ====================\n",
      "Validation Misclassified Samples: 37 / 631\n",
      "\n",
      "Sample Predictions vs Labels:\n",
      "Sample 1: Pred = 0, Prob = 0.2528, True = 0\n",
      "Sample 2: Pred = 0, Prob = 0.0460, True = 0\n",
      "Sample 3: Pred = 0, Prob = 0.6341, True = 1\n",
      "Sample 4: Pred = 0, Prob = 0.0647, True = 0\n",
      "Sample 5: Pred = 0, Prob = 0.0041, True = 0\n",
      "=====================================================================\n",
      "Epoch 33: Learning Rate = 0.000014\n",
      "Val AUC 0.9474 did not improved from best 0.9563\n",
      "Epoch 34/50\n"
     ]
    },
    {
     "name": "stderr",
     "output_type": "stream",
     "text": [
      "Train: 100%|██████████| 91/91 [01:07<00:00,  1.36it/s]\n"
     ]
    },
    {
     "name": "stdout",
     "output_type": "stream",
     "text": [
      "[DEBUG] Train label counts (epoch 34): {0: 1445, 1: 1467}\n",
      "Train Loss: 0.0327 | Train AUC: 0.9750 | Train Acc: 0.8602, | Train BAcc: 0.8592\n"
     ]
    },
    {
     "name": "stderr",
     "output_type": "stream",
     "text": [
      "Validation: 100%|██████████| 20/20 [00:04<00:00,  4.92it/s]\n"
     ]
    },
    {
     "name": "stdout",
     "output_type": "stream",
     "text": [
      "[DEBUG] Validation label counts: {0: 562, 1: 69}\n",
      "Optimal Threshold (F1-score): 0.75\n",
      "Best F1-score on Validation Set: 0.7407\n",
      "Validation Loss: 0.0399, Validation AUC: 0.9490, Validation ACC: 0.9445, Validation BACC: 0.8481\n",
      "[DEBUG] Validation Prediction Distribution: {np.int64(0): 565, np.int64(1): 66}\n",
      "[DEBUG] Validation Label Distribution: {np.int64(0): 562, np.int64(1): 69}\n",
      "==================== Misclassification & Samples ====================\n",
      "Validation Misclassified Samples: 35 / 631\n",
      "\n",
      "Sample Predictions vs Labels:\n",
      "Sample 1: Pred = 0, Prob = 0.2742, True = 0\n",
      "Sample 2: Pred = 0, Prob = 0.0284, True = 0\n",
      "Sample 3: Pred = 0, Prob = 0.5347, True = 1\n",
      "Sample 4: Pred = 0, Prob = 0.0639, True = 0\n",
      "Sample 5: Pred = 0, Prob = 0.0036, True = 0\n",
      "=====================================================================\n",
      "Epoch 34: Learning Rate = 0.000012\n",
      "Saved Best-Loss model to F:\\Capstone\\DFCA\\checkpoints\\DFCA\\[Anomaly-With-Transformations-dropout=0.4]_MLP(5e-5)\\ComplexMLP-75\\best_model_best_loss.pth (val_loss improved to 0.0399)\n",
      "Val AUC 0.9490 did not improved from best 0.9563\n",
      "Epoch 35/50\n"
     ]
    },
    {
     "name": "stderr",
     "output_type": "stream",
     "text": [
      "Train: 100%|██████████| 91/91 [01:06<00:00,  1.36it/s]\n"
     ]
    },
    {
     "name": "stdout",
     "output_type": "stream",
     "text": [
      "[DEBUG] Train label counts (epoch 35): {0: 1456, 1: 1456}\n",
      "Train Loss: 0.0338 | Train AUC: 0.9741 | Train Acc: 0.8698, | Train BAcc: 0.8698\n"
     ]
    },
    {
     "name": "stderr",
     "output_type": "stream",
     "text": [
      "Validation: 100%|██████████| 20/20 [00:03<00:00,  5.14it/s]\n"
     ]
    },
    {
     "name": "stdout",
     "output_type": "stream",
     "text": [
      "[DEBUG] Validation label counts: {0: 562, 1: 69}\n",
      "Optimal Threshold (F1-score): 0.72\n",
      "Best F1-score on Validation Set: 0.7712\n",
      "Validation Loss: 0.0415, Validation AUC: 0.9530, Validation ACC: 0.9445, Validation BACC: 0.9053\n",
      "[DEBUG] Validation Prediction Distribution: {np.int64(0): 547, np.int64(1): 84}\n",
      "[DEBUG] Validation Label Distribution: {np.int64(0): 562, np.int64(1): 69}\n",
      "==================== Misclassification & Samples ====================\n",
      "Validation Misclassified Samples: 35 / 631\n",
      "\n",
      "Sample Predictions vs Labels:\n",
      "Sample 1: Pred = 0, Prob = 0.3686, True = 0\n",
      "Sample 2: Pred = 0, Prob = 0.0400, True = 0\n",
      "Sample 3: Pred = 0, Prob = 0.5321, True = 1\n",
      "Sample 4: Pred = 0, Prob = 0.0479, True = 0\n",
      "Sample 5: Pred = 0, Prob = 0.0030, True = 0\n",
      "=====================================================================\n",
      "Epoch 35: Learning Rate = 0.000011\n",
      "Val AUC 0.9530 did not improved from best 0.9563\n",
      "Epoch 36/50\n"
     ]
    },
    {
     "name": "stderr",
     "output_type": "stream",
     "text": [
      "Train: 100%|██████████| 91/91 [01:11<00:00,  1.27it/s]\n"
     ]
    },
    {
     "name": "stdout",
     "output_type": "stream",
     "text": [
      "[DEBUG] Train label counts (epoch 36): {0: 1454, 1: 1458}\n",
      "Train Loss: 0.0342 | Train AUC: 0.9715 | Train Acc: 0.8681, | Train BAcc: 0.8680\n"
     ]
    },
    {
     "name": "stderr",
     "output_type": "stream",
     "text": [
      "Validation: 100%|██████████| 20/20 [00:04<00:00,  4.55it/s]\n"
     ]
    },
    {
     "name": "stdout",
     "output_type": "stream",
     "text": [
      "[DEBUG] Validation label counts: {0: 562, 1: 69}\n",
      "Optimal Threshold (F1-score): 0.82\n",
      "Best F1-score on Validation Set: 0.7642\n",
      "Validation Loss: 0.0394, Validation AUC: 0.9508, Validation ACC: 0.9540, Validation BACC: 0.8344\n",
      "[DEBUG] Validation Prediction Distribution: {np.int64(0): 577, np.int64(1): 54}\n",
      "[DEBUG] Validation Label Distribution: {np.int64(0): 562, np.int64(1): 69}\n",
      "==================== Misclassification & Samples ====================\n",
      "Validation Misclassified Samples: 29 / 631\n",
      "\n",
      "Sample Predictions vs Labels:\n",
      "Sample 1: Pred = 0, Prob = 0.2797, True = 0\n",
      "Sample 2: Pred = 0, Prob = 0.0380, True = 0\n",
      "Sample 3: Pred = 0, Prob = 0.5824, True = 1\n",
      "Sample 4: Pred = 0, Prob = 0.0437, True = 0\n",
      "Sample 5: Pred = 0, Prob = 0.0018, True = 0\n",
      "=====================================================================\n",
      "Epoch 36: Learning Rate = 0.000010\n",
      "Saved Best-Loss model to F:\\Capstone\\DFCA\\checkpoints\\DFCA\\[Anomaly-With-Transformations-dropout=0.4]_MLP(5e-5)\\ComplexMLP-75\\best_model_best_loss.pth (val_loss improved to 0.0394)\n",
      "Val AUC 0.9508 did not improved from best 0.9563\n",
      "Epoch 37/50\n"
     ]
    },
    {
     "name": "stderr",
     "output_type": "stream",
     "text": [
      "Train: 100%|██████████| 91/91 [01:17<00:00,  1.18it/s]\n"
     ]
    },
    {
     "name": "stdout",
     "output_type": "stream",
     "text": [
      "[DEBUG] Train label counts (epoch 37): {0: 1429, 1: 1483}\n",
      "Train Loss: 0.0289 | Train AUC: 0.9807 | Train Acc: 0.8788, | Train BAcc: 0.8766\n"
     ]
    },
    {
     "name": "stderr",
     "output_type": "stream",
     "text": [
      "Validation: 100%|██████████| 20/20 [00:04<00:00,  4.41it/s]\n"
     ]
    },
    {
     "name": "stdout",
     "output_type": "stream",
     "text": [
      "[DEBUG] Validation label counts: {0: 562, 1: 69}\n",
      "Optimal Threshold (F1-score): 0.84\n",
      "Best F1-score on Validation Set: 0.7360\n",
      "Validation Loss: 0.0434, Validation AUC: 0.9488, Validation ACC: 0.9477, Validation BACC: 0.8244\n",
      "[DEBUG] Validation Prediction Distribution: {np.int64(0): 575, np.int64(1): 56}\n",
      "[DEBUG] Validation Label Distribution: {np.int64(0): 562, np.int64(1): 69}\n",
      "==================== Misclassification & Samples ====================\n",
      "Validation Misclassified Samples: 33 / 631\n",
      "\n",
      "Sample Predictions vs Labels:\n",
      "Sample 1: Pred = 0, Prob = 0.3467, True = 0\n",
      "Sample 2: Pred = 0, Prob = 0.0272, True = 0\n",
      "Sample 3: Pred = 0, Prob = 0.6017, True = 1\n",
      "Sample 4: Pred = 0, Prob = 0.0428, True = 0\n",
      "Sample 5: Pred = 0, Prob = 0.0016, True = 0\n",
      "=====================================================================\n",
      "Epoch 37: Learning Rate = 0.000009\n",
      "Val AUC 0.9488 did not improved from best 0.9563\n",
      "Epoch 38/50\n"
     ]
    },
    {
     "name": "stderr",
     "output_type": "stream",
     "text": [
      "Train: 100%|██████████| 91/91 [01:18<00:00,  1.16it/s]\n"
     ]
    },
    {
     "name": "stdout",
     "output_type": "stream",
     "text": [
      "[DEBUG] Train label counts (epoch 38): {0: 1465, 1: 1447}\n",
      "Train Loss: 0.0298 | Train AUC: 0.9800 | Train Acc: 0.8753, | Train BAcc: 0.8760\n"
     ]
    },
    {
     "name": "stderr",
     "output_type": "stream",
     "text": [
      "Validation: 100%|██████████| 20/20 [00:04<00:00,  4.50it/s]\n"
     ]
    },
    {
     "name": "stdout",
     "output_type": "stream",
     "text": [
      "[DEBUG] Validation label counts: {0: 562, 1: 69}\n",
      "Optimal Threshold (F1-score): 0.79\n",
      "Best F1-score on Validation Set: 0.7597\n",
      "Validation Loss: 0.0392, Validation AUC: 0.9504, Validation ACC: 0.9509, Validation BACC: 0.8453\n",
      "[DEBUG] Validation Prediction Distribution: {np.int64(0): 571, np.int64(1): 60}\n",
      "[DEBUG] Validation Label Distribution: {np.int64(0): 562, np.int64(1): 69}\n",
      "==================== Misclassification & Samples ====================\n",
      "Validation Misclassified Samples: 31 / 631\n",
      "\n",
      "Sample Predictions vs Labels:\n",
      "Sample 1: Pred = 0, Prob = 0.1810, True = 0\n",
      "Sample 2: Pred = 0, Prob = 0.0329, True = 0\n",
      "Sample 3: Pred = 0, Prob = 0.5863, True = 1\n",
      "Sample 4: Pred = 0, Prob = 0.0511, True = 0\n",
      "Sample 5: Pred = 0, Prob = 0.0016, True = 0\n",
      "=====================================================================\n",
      "Epoch 38: Learning Rate = 0.000008\n",
      "Saved Best-Loss model to F:\\Capstone\\DFCA\\checkpoints\\DFCA\\[Anomaly-With-Transformations-dropout=0.4]_MLP(5e-5)\\ComplexMLP-75\\best_model_best_loss.pth (val_loss improved to 0.0392)\n",
      "Val AUC 0.9504 did not improved from best 0.9563\n",
      "Epoch 39/50\n"
     ]
    },
    {
     "name": "stderr",
     "output_type": "stream",
     "text": [
      "Train: 100%|██████████| 91/91 [01:10<00:00,  1.28it/s]\n"
     ]
    },
    {
     "name": "stdout",
     "output_type": "stream",
     "text": [
      "[DEBUG] Train label counts (epoch 39): {0: 1378, 1: 1534}\n",
      "Train Loss: 0.0292 | Train AUC: 0.9776 | Train Acc: 0.8887, | Train BAcc: 0.8829\n"
     ]
    },
    {
     "name": "stderr",
     "output_type": "stream",
     "text": [
      "Validation: 100%|██████████| 20/20 [00:05<00:00,  3.70it/s]\n"
     ]
    },
    {
     "name": "stdout",
     "output_type": "stream",
     "text": [
      "[DEBUG] Validation label counts: {0: 562, 1: 69}\n",
      "Optimal Threshold (F1-score): 0.87\n",
      "Best F1-score on Validation Set: 0.7563\n",
      "Validation Loss: 0.0401, Validation AUC: 0.9536, Validation ACC: 0.9540, Validation BACC: 0.8216\n",
      "[DEBUG] Validation Prediction Distribution: {np.int64(0): 581, np.int64(1): 50}\n",
      "[DEBUG] Validation Label Distribution: {np.int64(0): 562, np.int64(1): 69}\n",
      "==================== Misclassification & Samples ====================\n",
      "Validation Misclassified Samples: 29 / 631\n",
      "\n",
      "Sample Predictions vs Labels:\n",
      "Sample 1: Pred = 0, Prob = 0.1919, True = 0\n",
      "Sample 2: Pred = 0, Prob = 0.0416, True = 0\n",
      "Sample 3: Pred = 0, Prob = 0.6021, True = 1\n",
      "Sample 4: Pred = 0, Prob = 0.0820, True = 0\n",
      "Sample 5: Pred = 0, Prob = 0.0021, True = 0\n",
      "=====================================================================\n",
      "Epoch 39: Learning Rate = 0.000007\n",
      "Val AUC 0.9536 did not improved from best 0.9563\n",
      "Epoch 40/50\n"
     ]
    },
    {
     "name": "stderr",
     "output_type": "stream",
     "text": [
      "Train: 100%|██████████| 91/91 [01:12<00:00,  1.25it/s]\n"
     ]
    },
    {
     "name": "stdout",
     "output_type": "stream",
     "text": [
      "[DEBUG] Train label counts (epoch 40): {0: 1500, 1: 1412}\n",
      "Train Loss: 0.0285 | Train AUC: 0.9793 | Train Acc: 0.8850, | Train BAcc: 0.8882\n"
     ]
    },
    {
     "name": "stderr",
     "output_type": "stream",
     "text": [
      "Validation: 100%|██████████| 20/20 [00:04<00:00,  4.77it/s]\n"
     ]
    },
    {
     "name": "stdout",
     "output_type": "stream",
     "text": [
      "[DEBUG] Validation label counts: {0: 562, 1: 69}\n",
      "Optimal Threshold (F1-score): 0.76\n",
      "Best F1-score on Validation Set: 0.7407\n",
      "Validation Loss: 0.0401, Validation AUC: 0.9512, Validation ACC: 0.9445, Validation BACC: 0.8481\n",
      "[DEBUG] Validation Prediction Distribution: {np.int64(0): 565, np.int64(1): 66}\n",
      "[DEBUG] Validation Label Distribution: {np.int64(0): 562, np.int64(1): 69}\n",
      "==================== Misclassification & Samples ====================\n",
      "Validation Misclassified Samples: 35 / 631\n",
      "\n",
      "Sample Predictions vs Labels:\n",
      "Sample 1: Pred = 0, Prob = 0.1921, True = 0\n",
      "Sample 2: Pred = 0, Prob = 0.0262, True = 0\n",
      "Sample 3: Pred = 0, Prob = 0.5151, True = 1\n",
      "Sample 4: Pred = 0, Prob = 0.0575, True = 0\n",
      "Sample 5: Pred = 0, Prob = 0.0026, True = 0\n",
      "=====================================================================\n",
      "Epoch 40: Learning Rate = 0.000006\n",
      "Val AUC 0.9512 did not improved from best 0.9563\n",
      "Epoch 41/50\n"
     ]
    },
    {
     "name": "stderr",
     "output_type": "stream",
     "text": [
      "Train: 100%|██████████| 91/91 [01:19<00:00,  1.14it/s]\n"
     ]
    },
    {
     "name": "stdout",
     "output_type": "stream",
     "text": [
      "[DEBUG] Train label counts (epoch 41): {0: 1460, 1: 1452}\n",
      "Train Loss: 0.0264 | Train AUC: 0.9844 | Train Acc: 0.8956, | Train BAcc: 0.8959\n"
     ]
    },
    {
     "name": "stderr",
     "output_type": "stream",
     "text": [
      "Validation: 100%|██████████| 20/20 [00:04<00:00,  4.67it/s]\n"
     ]
    },
    {
     "name": "stdout",
     "output_type": "stream",
     "text": [
      "[DEBUG] Validation label counts: {0: 562, 1: 69}\n",
      "Optimal Threshold (F1-score): 0.79\n",
      "Best F1-score on Validation Set: 0.7460\n",
      "Validation Loss: 0.0406, Validation AUC: 0.9511, Validation ACC: 0.9493, Validation BACC: 0.8317\n",
      "[DEBUG] Validation Prediction Distribution: {np.int64(0): 574, np.int64(1): 57}\n",
      "[DEBUG] Validation Label Distribution: {np.int64(0): 562, np.int64(1): 69}\n",
      "==================== Misclassification & Samples ====================\n",
      "Validation Misclassified Samples: 32 / 631\n",
      "\n",
      "Sample Predictions vs Labels:\n",
      "Sample 1: Pred = 0, Prob = 0.2631, True = 0\n",
      "Sample 2: Pred = 0, Prob = 0.0284, True = 0\n",
      "Sample 3: Pred = 0, Prob = 0.4954, True = 1\n",
      "Sample 4: Pred = 0, Prob = 0.0553, True = 0\n",
      "Sample 5: Pred = 0, Prob = 0.0028, True = 0\n",
      "=====================================================================\n",
      "Epoch 41: Learning Rate = 0.000005\n",
      "Val AUC 0.9511 did not improved from best 0.9563\n",
      "Epoch 42/50\n"
     ]
    },
    {
     "name": "stderr",
     "output_type": "stream",
     "text": [
      "Train: 100%|██████████| 91/91 [01:07<00:00,  1.35it/s]\n"
     ]
    },
    {
     "name": "stdout",
     "output_type": "stream",
     "text": [
      "[DEBUG] Train label counts (epoch 42): {0: 1447, 1: 1465}\n",
      "Train Loss: 0.0300 | Train AUC: 0.9791 | Train Acc: 0.8836, | Train BAcc: 0.8829\n"
     ]
    },
    {
     "name": "stderr",
     "output_type": "stream",
     "text": [
      "Validation: 100%|██████████| 20/20 [00:03<00:00,  5.03it/s]\n"
     ]
    },
    {
     "name": "stdout",
     "output_type": "stream",
     "text": [
      "[DEBUG] Validation label counts: {0: 562, 1: 69}\n",
      "Optimal Threshold (F1-score): 0.79\n",
      "Best F1-score on Validation Set: 0.7500\n",
      "Validation Loss: 0.0399, Validation AUC: 0.9503, Validation ACC: 0.9493, Validation BACC: 0.8380\n",
      "[DEBUG] Validation Prediction Distribution: {np.int64(0): 572, np.int64(1): 59}\n",
      "[DEBUG] Validation Label Distribution: {np.int64(0): 562, np.int64(1): 69}\n",
      "==================== Misclassification & Samples ====================\n",
      "Validation Misclassified Samples: 32 / 631\n",
      "\n",
      "Sample Predictions vs Labels:\n",
      "Sample 1: Pred = 0, Prob = 0.2151, True = 0\n",
      "Sample 2: Pred = 0, Prob = 0.0428, True = 0\n",
      "Sample 3: Pred = 0, Prob = 0.5137, True = 1\n",
      "Sample 4: Pred = 0, Prob = 0.0964, True = 0\n",
      "Sample 5: Pred = 0, Prob = 0.0053, True = 0\n",
      "=====================================================================\n",
      "Epoch 42: Learning Rate = 0.000004\n",
      "Val AUC 0.9503 did not improved from best 0.9563\n",
      "Epoch 43/50\n"
     ]
    },
    {
     "name": "stderr",
     "output_type": "stream",
     "text": [
      "Train: 100%|██████████| 91/91 [01:11<00:00,  1.27it/s]\n"
     ]
    },
    {
     "name": "stdout",
     "output_type": "stream",
     "text": [
      "[DEBUG] Train label counts (epoch 43): {0: 1462, 1: 1450}\n",
      "Train Loss: 0.0265 | Train AUC: 0.9830 | Train Acc: 0.8867, | Train BAcc: 0.8871\n"
     ]
    },
    {
     "name": "stderr",
     "output_type": "stream",
     "text": [
      "Validation: 100%|██████████| 20/20 [00:03<00:00,  5.00it/s]\n"
     ]
    },
    {
     "name": "stdout",
     "output_type": "stream",
     "text": [
      "[DEBUG] Validation label counts: {0: 562, 1: 69}\n",
      "Optimal Threshold (F1-score): 0.80\n",
      "Best F1-score on Validation Set: 0.7344\n",
      "Validation Loss: 0.0424, Validation AUC: 0.9489, Validation ACC: 0.9461, Validation BACC: 0.8299\n",
      "[DEBUG] Validation Prediction Distribution: {np.int64(0): 572, np.int64(1): 59}\n",
      "[DEBUG] Validation Label Distribution: {np.int64(0): 562, np.int64(1): 69}\n",
      "==================== Misclassification & Samples ====================\n",
      "Validation Misclassified Samples: 34 / 631\n",
      "\n",
      "Sample Predictions vs Labels:\n",
      "Sample 1: Pred = 0, Prob = 0.2004, True = 0\n",
      "Sample 2: Pred = 0, Prob = 0.0342, True = 0\n",
      "Sample 3: Pred = 0, Prob = 0.5015, True = 1\n",
      "Sample 4: Pred = 0, Prob = 0.0808, True = 0\n",
      "Sample 5: Pred = 0, Prob = 0.0037, True = 0\n",
      "=====================================================================\n",
      "Epoch 43: Learning Rate = 0.000003\n",
      "Val AUC 0.9489 did not improved from best 0.9563\n",
      "Epoch 44/50\n"
     ]
    },
    {
     "name": "stderr",
     "output_type": "stream",
     "text": [
      "Train: 100%|██████████| 91/91 [01:12<00:00,  1.25it/s]\n"
     ]
    },
    {
     "name": "stdout",
     "output_type": "stream",
     "text": [
      "[DEBUG] Train label counts (epoch 44): {0: 1451, 1: 1461}\n",
      "Train Loss: 0.0298 | Train AUC: 0.9810 | Train Acc: 0.8808, | Train BAcc: 0.8805\n"
     ]
    },
    {
     "name": "stderr",
     "output_type": "stream",
     "text": [
      "Validation: 100%|██████████| 20/20 [00:04<00:00,  4.18it/s]\n"
     ]
    },
    {
     "name": "stdout",
     "output_type": "stream",
     "text": [
      "[DEBUG] Validation label counts: {0: 562, 1: 69}\n",
      "Optimal Threshold (F1-score): 0.79\n",
      "Best F1-score on Validation Set: 0.7344\n",
      "Validation Loss: 0.0410, Validation AUC: 0.9505, Validation ACC: 0.9461, Validation BACC: 0.8299\n",
      "[DEBUG] Validation Prediction Distribution: {np.int64(0): 572, np.int64(1): 59}\n",
      "[DEBUG] Validation Label Distribution: {np.int64(0): 562, np.int64(1): 69}\n",
      "==================== Misclassification & Samples ====================\n",
      "Validation Misclassified Samples: 34 / 631\n",
      "\n",
      "Sample Predictions vs Labels:\n",
      "Sample 1: Pred = 0, Prob = 0.2112, True = 0\n",
      "Sample 2: Pred = 0, Prob = 0.0291, True = 0\n",
      "Sample 3: Pred = 0, Prob = 0.5156, True = 1\n",
      "Sample 4: Pred = 0, Prob = 0.0613, True = 0\n",
      "Sample 5: Pred = 0, Prob = 0.0028, True = 0\n",
      "=====================================================================\n",
      "Epoch 44: Learning Rate = 0.000003\n",
      "Val AUC 0.9505 did not improved from best 0.9563\n",
      "Epoch 45/50\n"
     ]
    },
    {
     "name": "stderr",
     "output_type": "stream",
     "text": [
      "Train: 100%|██████████| 91/91 [01:19<00:00,  1.15it/s]\n"
     ]
    },
    {
     "name": "stdout",
     "output_type": "stream",
     "text": [
      "[DEBUG] Train label counts (epoch 45): {0: 1471, 1: 1441}\n",
      "Train Loss: 0.0291 | Train AUC: 0.9796 | Train Acc: 0.8774, | Train BAcc: 0.8785\n"
     ]
    },
    {
     "name": "stderr",
     "output_type": "stream",
     "text": [
      "Validation: 100%|██████████| 20/20 [00:04<00:00,  4.87it/s]\n"
     ]
    },
    {
     "name": "stdout",
     "output_type": "stream",
     "text": [
      "[DEBUG] Validation label counts: {0: 562, 1: 69}\n",
      "Optimal Threshold (F1-score): 0.83\n",
      "Best F1-score on Validation Set: 0.7559\n",
      "Validation Loss: 0.0422, Validation AUC: 0.9530, Validation ACC: 0.9509, Validation BACC: 0.8389\n",
      "[DEBUG] Validation Prediction Distribution: {np.int64(0): 573, np.int64(1): 58}\n",
      "[DEBUG] Validation Label Distribution: {np.int64(0): 562, np.int64(1): 69}\n",
      "==================== Misclassification & Samples ====================\n",
      "Validation Misclassified Samples: 31 / 631\n",
      "\n",
      "Sample Predictions vs Labels:\n",
      "Sample 1: Pred = 0, Prob = 0.2220, True = 0\n",
      "Sample 2: Pred = 0, Prob = 0.0315, True = 0\n",
      "Sample 3: Pred = 0, Prob = 0.5085, True = 1\n",
      "Sample 4: Pred = 0, Prob = 0.0607, True = 0\n",
      "Sample 5: Pred = 0, Prob = 0.0039, True = 0\n",
      "=====================================================================\n",
      "Epoch 45: Learning Rate = 0.000002\n",
      "Val AUC 0.9530 did not improved from best 0.9563\n",
      "Epoch 46/50\n"
     ]
    },
    {
     "name": "stderr",
     "output_type": "stream",
     "text": [
      "Train: 100%|██████████| 91/91 [01:04<00:00,  1.41it/s]\n"
     ]
    },
    {
     "name": "stdout",
     "output_type": "stream",
     "text": [
      "[DEBUG] Train label counts (epoch 46): {0: 1474, 1: 1438}\n",
      "Train Loss: 0.0277 | Train AUC: 0.9802 | Train Acc: 0.8884, | Train BAcc: 0.8897\n"
     ]
    },
    {
     "name": "stderr",
     "output_type": "stream",
     "text": [
      "Validation: 100%|██████████| 20/20 [00:04<00:00,  4.83it/s]\n"
     ]
    },
    {
     "name": "stdout",
     "output_type": "stream",
     "text": [
      "[DEBUG] Validation label counts: {0: 562, 1: 69}\n",
      "Optimal Threshold (F1-score): 0.82\n",
      "Best F1-score on Validation Set: 0.7520\n",
      "Validation Loss: 0.0406, Validation AUC: 0.9536, Validation ACC: 0.9509, Validation BACC: 0.8326\n",
      "[DEBUG] Validation Prediction Distribution: {np.int64(0): 575, np.int64(1): 56}\n",
      "[DEBUG] Validation Label Distribution: {np.int64(0): 562, np.int64(1): 69}\n",
      "==================== Misclassification & Samples ====================\n",
      "Validation Misclassified Samples: 31 / 631\n",
      "\n",
      "Sample Predictions vs Labels:\n",
      "Sample 1: Pred = 0, Prob = 0.2259, True = 0\n",
      "Sample 2: Pred = 0, Prob = 0.0274, True = 0\n",
      "Sample 3: Pred = 0, Prob = 0.5051, True = 1\n",
      "Sample 4: Pred = 0, Prob = 0.0549, True = 0\n",
      "Sample 5: Pred = 0, Prob = 0.0031, True = 0\n",
      "=====================================================================\n",
      "Epoch 46: Learning Rate = 0.000002\n",
      "Val AUC 0.9536 did not improved from best 0.9563\n",
      "Epoch 47/50\n"
     ]
    },
    {
     "name": "stderr",
     "output_type": "stream",
     "text": [
      "Train: 100%|██████████| 91/91 [01:05<00:00,  1.40it/s]\n"
     ]
    },
    {
     "name": "stdout",
     "output_type": "stream",
     "text": [
      "[DEBUG] Train label counts (epoch 47): {0: 1443, 1: 1469}\n",
      "Train Loss: 0.0264 | Train AUC: 0.9831 | Train Acc: 0.9018, | Train BAcc: 0.9010\n"
     ]
    },
    {
     "name": "stderr",
     "output_type": "stream",
     "text": [
      "Validation: 100%|██████████| 20/20 [00:04<00:00,  4.98it/s]\n"
     ]
    },
    {
     "name": "stdout",
     "output_type": "stream",
     "text": [
      "[DEBUG] Validation label counts: {0: 562, 1: 69}\n",
      "Optimal Threshold (F1-score): 0.68\n",
      "Best F1-score on Validation Set: 0.7403\n",
      "Validation Loss: 0.0417, Validation AUC: 0.9511, Validation ACC: 0.9366, Validation BACC: 0.8881\n",
      "[DEBUG] Validation Prediction Distribution: {np.int64(0): 546, np.int64(1): 85}\n",
      "[DEBUG] Validation Label Distribution: {np.int64(0): 562, np.int64(1): 69}\n",
      "==================== Misclassification & Samples ====================\n",
      "Validation Misclassified Samples: 40 / 631\n",
      "\n",
      "Sample Predictions vs Labels:\n",
      "Sample 1: Pred = 0, Prob = 0.2219, True = 0\n",
      "Sample 2: Pred = 0, Prob = 0.0224, True = 0\n",
      "Sample 3: Pred = 0, Prob = 0.4739, True = 1\n",
      "Sample 4: Pred = 0, Prob = 0.0470, True = 0\n",
      "Sample 5: Pred = 0, Prob = 0.0019, True = 0\n",
      "=====================================================================\n",
      "Epoch 47: Learning Rate = 0.000001\n",
      "Val AUC 0.9511 did not improved from best 0.9563\n",
      "Epoch 48/50\n"
     ]
    },
    {
     "name": "stderr",
     "output_type": "stream",
     "text": [
      "Train: 100%|██████████| 91/91 [01:05<00:00,  1.39it/s]\n"
     ]
    },
    {
     "name": "stdout",
     "output_type": "stream",
     "text": [
      "[DEBUG] Train label counts (epoch 48): {0: 1493, 1: 1419}\n",
      "Train Loss: 0.0272 | Train AUC: 0.9821 | Train Acc: 0.8860, | Train BAcc: 0.8886\n"
     ]
    },
    {
     "name": "stderr",
     "output_type": "stream",
     "text": [
      "Validation: 100%|██████████| 20/20 [00:04<00:00,  4.93it/s]\n"
     ]
    },
    {
     "name": "stdout",
     "output_type": "stream",
     "text": [
      "[DEBUG] Validation label counts: {0: 562, 1: 69}\n",
      "Optimal Threshold (F1-score): 0.79\n",
      "Best F1-score on Validation Set: 0.7445\n",
      "Validation Loss: 0.0410, Validation AUC: 0.9537, Validation ACC: 0.9445, Validation BACC: 0.8544\n",
      "[DEBUG] Validation Prediction Distribution: {np.int64(0): 563, np.int64(1): 68}\n",
      "[DEBUG] Validation Label Distribution: {np.int64(0): 562, np.int64(1): 69}\n",
      "==================== Misclassification & Samples ====================\n",
      "Validation Misclassified Samples: 35 / 631\n",
      "\n",
      "Sample Predictions vs Labels:\n",
      "Sample 1: Pred = 0, Prob = 0.2199, True = 0\n",
      "Sample 2: Pred = 0, Prob = 0.0268, True = 0\n",
      "Sample 3: Pred = 0, Prob = 0.4725, True = 1\n",
      "Sample 4: Pred = 0, Prob = 0.0566, True = 0\n",
      "Sample 5: Pred = 0, Prob = 0.0026, True = 0\n",
      "=====================================================================\n",
      "Epoch 48: Learning Rate = 0.000001\n",
      "Val AUC 0.9537 did not improved from best 0.9563\n",
      "Epoch 49/50\n"
     ]
    },
    {
     "name": "stderr",
     "output_type": "stream",
     "text": [
      "Train: 100%|██████████| 91/91 [01:13<00:00,  1.24it/s]\n"
     ]
    },
    {
     "name": "stdout",
     "output_type": "stream",
     "text": [
      "[DEBUG] Train label counts (epoch 49): {0: 1471, 1: 1441}\n",
      "Train Loss: 0.0265 | Train AUC: 0.9827 | Train Acc: 0.8880, | Train BAcc: 0.8891\n"
     ]
    },
    {
     "name": "stderr",
     "output_type": "stream",
     "text": [
      "Validation: 100%|██████████| 20/20 [00:04<00:00,  4.34it/s]\n"
     ]
    },
    {
     "name": "stdout",
     "output_type": "stream",
     "text": [
      "[DEBUG] Validation label counts: {0: 562, 1: 69}\n",
      "Optimal Threshold (F1-score): 0.80\n",
      "Best F1-score on Validation Set: 0.7520\n",
      "Validation Loss: 0.0413, Validation AUC: 0.9505, Validation ACC: 0.9509, Validation BACC: 0.8326\n",
      "[DEBUG] Validation Prediction Distribution: {np.int64(0): 575, np.int64(1): 56}\n",
      "[DEBUG] Validation Label Distribution: {np.int64(0): 562, np.int64(1): 69}\n",
      "==================== Misclassification & Samples ====================\n",
      "Validation Misclassified Samples: 31 / 631\n",
      "\n",
      "Sample Predictions vs Labels:\n",
      "Sample 1: Pred = 0, Prob = 0.1694, True = 0\n",
      "Sample 2: Pred = 0, Prob = 0.0305, True = 0\n",
      "Sample 3: Pred = 0, Prob = 0.4188, True = 1\n",
      "Sample 4: Pred = 0, Prob = 0.0661, True = 0\n",
      "Sample 5: Pred = 0, Prob = 0.0036, True = 0\n",
      "=====================================================================\n",
      "Epoch 49: Learning Rate = 0.000001\n",
      "Val AUC 0.9505 did not improved from best 0.9563\n",
      "Epoch 50/50\n"
     ]
    },
    {
     "name": "stderr",
     "output_type": "stream",
     "text": [
      "Train: 100%|██████████| 91/91 [01:23<00:00,  1.09it/s]\n"
     ]
    },
    {
     "name": "stdout",
     "output_type": "stream",
     "text": [
      "[DEBUG] Train label counts (epoch 50): {0: 1459, 1: 1453}\n",
      "Train Loss: 0.0254 | Train AUC: 0.9846 | Train Acc: 0.9004, | Train BAcc: 0.9006\n"
     ]
    },
    {
     "name": "stderr",
     "output_type": "stream",
     "text": [
      "Validation: 100%|██████████| 20/20 [00:04<00:00,  4.31it/s]\n"
     ]
    },
    {
     "name": "stdout",
     "output_type": "stream",
     "text": [
      "[DEBUG] Validation label counts: {0: 562, 1: 69}\n",
      "Optimal Threshold (F1-score): 0.81\n",
      "Best F1-score on Validation Set: 0.7581\n",
      "Validation Loss: 0.0408, Validation AUC: 0.9516, Validation ACC: 0.9525, Validation BACC: 0.8335\n",
      "[DEBUG] Validation Prediction Distribution: {np.int64(0): 576, np.int64(1): 55}\n",
      "[DEBUG] Validation Label Distribution: {np.int64(0): 562, np.int64(1): 69}\n",
      "==================== Misclassification & Samples ====================\n",
      "Validation Misclassified Samples: 30 / 631\n",
      "\n",
      "Sample Predictions vs Labels:\n",
      "Sample 1: Pred = 0, Prob = 0.1967, True = 0\n",
      "Sample 2: Pred = 0, Prob = 0.0317, True = 0\n",
      "Sample 3: Pred = 0, Prob = 0.4870, True = 1\n",
      "Sample 4: Pred = 0, Prob = 0.0696, True = 0\n",
      "Sample 5: Pred = 0, Prob = 0.0040, True = 0\n",
      "=====================================================================\n",
      "Epoch 50: Learning Rate = 0.000001\n",
      "Val AUC 0.9516 did not improved from best 0.9563\n",
      "\n",
      "--- Final Test Evaluation ---\n"
     ]
    },
    {
     "name": "stderr",
     "output_type": "stream",
     "text": [
      "Test: 100%|██████████| 20/20 [00:05<00:00,  3.48it/s]\n"
     ]
    },
    {
     "name": "stdout",
     "output_type": "stream",
     "text": [
      "[DEBUG] Test label counts: {0: 563, 1: 68}\n",
      "Test Loss: 0.0830, Test AUC: 0.9029, Test ACC: 0.9097, Test BACC: 0.7878\n",
      "[DEBUG] Test Prediction Distribution: {np.int64(0): 556, np.int64(1): 75}\n",
      "[DEBUG] Test Label Distribution: {np.int64(0): 563, np.int64(1): 68}\n",
      "==================== Misclassification & Samples ====================\n",
      "Test Misclassified Samples: 57 / 631\n",
      "\n",
      "Sample Predictions vs Labels:\n",
      "Sample 1: Pred = 0, Prob = 0.0605, True = 0\n",
      "Sample 2: Pred = 0, Prob = 0.7542, True = 1\n",
      "Sample 3: Pred = 0, Prob = 0.0831, True = 0\n",
      "Sample 4: Pred = 1, Prob = 0.9390, True = 1\n",
      "Sample 5: Pred = 0, Prob = 0.6945, True = 0\n",
      "=====================================================================\n",
      "\n",
      "Final Test Metrics (with best validation threshold 0.85):\n",
      "Loss: 0.0830 | AUC: 0.9029 | Accuracy: 0.9097 | Balanced Accuracy: 0.7878 | F1-Score: 0.6014\n",
      "Final Test pAUC (FPR <= 0.2): 0.6704\n",
      "TP: 43 | TN: 531 | FP: 32 | FN: 25 | Precision: 0.5733 | Recall: 0.6324 | Specificity: 0.9432\n"
     ]
    },
    {
     "data": {
      "image/png": "[encoded data removed]",
      "text/plain": [
       "<Figure size 1800x400 with 4 Axes>"
      ]
     },
     "metadata": {},
     "output_type": "display_data"
    },
    {
     "data": {
      "image/png": "[encoded data removed]",
      "text/plain": [
       "<Figure size 600x600 with 1 Axes>"
      ]
     },
     "metadata": {},
     "output_type": "display_data"
    },
    {
     "data": {
      "image/png": "[encoded data removed]",
      "text/plain": [
       "<Figure size 800x800 with 2 Axes>"
      ]
     },
     "metadata": {},
     "output_type": "display_data"
    },
    {
     "name": "stdout",
     "output_type": "stream",
     "text": [
      "Saved 8 GradCAM images to F:\\Capstone\\DFCA\\checkpoints\\DFCA\\[Anomaly-With-Transformations-dropout=0.4]_MLP(5e-5)\\ComplexMLP-75\\gradcam\n"
     ]
    }
   ],
   "source": [
    "# ================================\n",
    "# Main Pipeline \n",
    "# ================================\n",
    "def main():\n",
    "    \n",
    "    SEED = 42\n",
    "    np.random.seed(SEED)\n",
    "    torch.manual_seed(SEED)\n",
    "    torch.cuda.manual_seed(SEED)\n",
    "    torch.backends.cudnn.deterministic = True\n",
    "    torch.backends.cudnn.benchmark = False\n",
    "    \n",
    "    train_transforms = ComposeT([\n",
    "        ToTensor(),\n",
    "        SpecTimePitchWarp(max_time_scale=1.1, max_freq_scale=1.1),\n",
    "        SpecAugment(freq_mask_param=4, time_mask_param=4, n_freq_masks=1, n_time_masks=1),\n",
    "    ])\n",
    "\n",
    "    no_transform = ComposeT([\n",
    "        ToTensor(),\n",
    "    ])\n",
    "\n",
    "    full_dataset = PairedSpectrogramDataset(FEATURES_DIR, transform=None)\n",
    "    all_labels = [int(x) for x in full_dataset.labels]\n",
    "\n",
    "    #Stratified Split [train/val/test]\n",
    "    idxs = list(range(len(full_dataset)))\n",
    "    train_idx, temp_idx = train_test_split(idxs, test_size=0.3, stratify=all_labels, random_state=42)\n",
    "    val_idx, test_idx = train_test_split(temp_idx, test_size=0.5, stratify=[all_labels[i] for i in temp_idx], random_state=42)\n",
    "    \n",
    "    train_set = Subset(PairedSpectrogramDataset(FEATURES_DIR, transform=train_transforms), train_idx)\n",
    "    val_set = Subset(PairedSpectrogramDataset(FEATURES_DIR, transform=no_transform), val_idx)\n",
    "    test_set = Subset(PairedSpectrogramDataset(FEATURES_DIR, transform=no_transform), test_idx)\n",
    "    \n",
    "    # Added the sampler\n",
    "    train_labels = [all_labels[i] for i in train_idx]\n",
    "    counts = np.bincount(train_labels)\n",
    "    class_wgts = 1.0 / counts\n",
    "    sample_wgts = [float(class_wgts[label]) for label in train_labels ]\n",
    "    sampler = WeightedRandomSampler(\n",
    "        weights=sample_wgts, \n",
    "        num_samples=len(sample_wgts), \n",
    "        replacement=True\n",
    "    )\n",
    "    # Added the sampler\n",
    "    train_loader = DataLoader(train_set, batch_size=BATCH_SIZE, sampler=sampler, num_workers=0, drop_last=True)\n",
    "    val_loader = DataLoader(val_set, batch_size=BATCH_SIZE, shuffle=False, num_workers=0)\n",
    "    test_loader = DataLoader(test_set, batch_size=BATCH_SIZE, shuffle=False, num_workers=0)\n",
    "\n",
    "    # normal_transform = ComposeT([\n",
    "    #     ToTensor()\n",
    "    # ])\n",
    "\n",
    "    # abnormal_transform = ComposeT([\n",
    "    #     ToTensor(),\n",
    "    #     SpecTimePitchWarp(max_time_scale=1.1, max_freq_scale=1.1),\n",
    "    #     SpecAugment(freq_mask_param=4, time_mask_param=4, n_freq_masks=1, n_time_masks=1),\n",
    "    # ])\n",
    "\n",
    "    # class_to_transform = {\n",
    "    #     0: normal_transform,\n",
    "    #     1: abnormal_transform\n",
    "    # }\n",
    "\n",
    "    # full_dataset = PairedSpectrogramDatasetCS(FEATURES_DIR, class_to_transform=None)\n",
    "    # all_labels = [int(x) for x in full_dataset.labels] \n",
    "\n",
    "    # idxs = list(range(len(full_dataset)))\n",
    "    # train_idx, temp_idx = train_test_split(idxs, test_size=0.3, stratify=all_labels, random_state=42)\n",
    "    # val_idx, test_idx = train_test_split(temp_idx, test_size=0.5, stratify=[all_labels[i] for i in temp_idx], random_state=42)\n",
    "\n",
    "    # train_set = Subset(PairedSpectrogramDatasetCS(FEATURES_DIR, class_to_transform=class_to_transform), train_idx)\n",
    "    # val_set   = Subset(PairedSpectrogramDatasetCS(FEATURES_DIR, class_to_transform={0: normal_transform, 1: normal_transform}), val_idx)\n",
    "    # test_set  = Subset(PairedSpectrogramDatasetCS(FEATURES_DIR, class_to_transform={0: normal_transform, 1: normal_transform}), test_idx)\n",
    "\n",
    "    # # --- Dataloaders ---\n",
    "    # train_loader = DataLoader(train_set, batch_size=BATCH_SIZE, shuffle=True, num_workers=0, drop_last=True)\n",
    "    # val_loader   = DataLoader(val_set, batch_size=BATCH_SIZE, shuffle=False, num_workers=0)\n",
    "    # test_loader  = DataLoader(test_set, batch_size=BATCH_SIZE, shuffle=False, num_workers=0) \n",
    "    \n",
    "    print(f\"Split sizes => Train: {len(train_set)}, Val: {len(val_set)}, Test: {len(test_set)}\")\n",
    "    print(\"Label Distribution (Train):\",Counter([int(full_dataset[i]['label']) for i in train_idx]))\n",
    "    print(\"Label Distribution (Validation):\",Counter([int(full_dataset[i]['label']) for i in val_idx]))\n",
    "    print(\"Label Distribution (Test):\",Counter([int(full_dataset[i]['label']) for i in test_idx]))\n",
    "    \n",
    "    head_mode = HEAD_MODE.lower()\n",
    "    \n",
    "    if head_mode == 'prototype':\n",
    "        head = AnomalyScorer(in_dim=256, dropout=0.4, mode='prototype')\n",
    "        criterion = ContrastiveLoss(margin=CONTRASTIVE_MARGIN)\n",
    "        print(f\"Used head:\\n {head}\")\n",
    "        print(\"Used transformations:\")\n",
    "        for transform in train_transforms.transforms:\n",
    "            # Print the name of the transformation class\n",
    "            print(f\"  - {transform.__class__.__name__}\")\n",
    "    \n",
    "            # Check for specific transformations and print their parameters\n",
    "            if isinstance(transform, SpecTimePitchWarp):\n",
    "\n",
    "                print(f\"    - time_scale: {getattr(transform, 'max_time_scale', {transform.max_time})}\")\n",
    "                print(f\"    - freq_scale: {getattr(transform, 'max_freq_scale', {transform.max_freq})}\")\n",
    "            if isinstance(transform, SpecAugment):\n",
    "                print(f\"    - freq_mask_param: {getattr(transform,'freq_mask_param',{transform.fm})}\")\n",
    "                print(f\"    - time_mask_param: {getattr(transform,'time_mask_param',{transform.tm})}\")\n",
    "                print(f\"    - n_freq_masks: {getattr(transform,'n_freq_masks', {transform.nf})}\")\n",
    "                print(f\"    - n_time_masks: {getattr(transform,'n_time_masks', {transform.nt})}\")\n",
    "    elif HEAD_MODE == 'mlp':\n",
    "        #head = SimpleAnomalyMLP(in_dim=256, dropout=0.4,hidden=128, out_dim=1)\n",
    "        head = ComplexAnomalyMLP(in_dim=256, dropout=0.4, out_dim=1)\n",
    "        pos_count = sum(all_labels)\n",
    "        neg_count = len(all_labels) - pos_count\n",
    "        pos_weight = torch.tensor([neg_count / (pos_count + 1e-8)], dtype=torch.float32).to(device)\n",
    "        criterion = BinaryFocalLoss(alpha=0.25, gamma=2.0, pos_weight=pos_weight, reduction='mean')\n",
    "        # criterion = nn.BCEWithLogitsLoss(pos_weight=pos_weight)\n",
    "        print(f\"Used head:\\n {head}\")\n",
    "        print(\"Used transformations:\")\n",
    "        for transform in train_transforms.transforms:\n",
    "            # Print the name of the transformation class\n",
    "            print(f\"  - {transform.__class__.__name__}\")\n",
    "    \n",
    "            # Check for specific transformations and print their parameters\n",
    "            if isinstance(transform, SpecTimePitchWarp):\n",
    "\n",
    "                print(f\"    - time_scale: {getattr(transform, 'max_time_scale',{transform.max_time} )}\")\n",
    "                print(f\"    - freq_scale: {getattr(transform, 'max_freq_scale', {transform.max_freq})}\")\n",
    "            if isinstance(transform, SpecAugment):\n",
    "                print(f\"    - freq_mask_param: {getattr(transform,'freq_mask_param',{transform.fm})}\")\n",
    "                print(f\"    - time_mask_param: {getattr(transform,'time_mask_param',{transform.tm})}\")\n",
    "                print(f\"    - n_freq_masks: {getattr(transform,'n_freq_masks',{transform.nf})}\")\n",
    "                print(f\"    - n_time_masks: {getattr(transform,'n_time_masks',{transform.nt})}\")\n",
    "    elif HEAD_MODE == 'embedding':\n",
    "        head = EmbeddingMLP(in_dim=256, hidden=128, dropout=0.4, emb_dim=64)\n",
    "        criterion = ContrastiveLoss(margin=CONTRASTIVE_MARGIN)\n",
    "        print(f\"Used head:\\n {head}\")\n",
    "        print(\"Used transformations:\")\n",
    "        for transform in train_transforms.transforms:\n",
    "            # Print the name of the transformation class\n",
    "            print(f\"  - {transform.__class__.__name__}\")\n",
    "    \n",
    "            # Check for specific transformations and print their parameters\n",
    "            if isinstance(transform, SpecTimePitchWarp):\n",
    "\n",
    "                print(f\"    - time_scale: {getattr(transform, 'max_time_scale', {transform.max_time})}\")\n",
    "                print(f\"    - freq_scale: {getattr(transform, 'max_freq_scale', {transform.max_freq})}\")\n",
    "            if isinstance(transform, SpecAugment):\n",
    "                print(f\"    - freq_mask_param: {getattr(transform,'freq_mask_param',{transform.fm})}\")\n",
    "                print(f\"    - time_mask_param: {getattr(transform,'time_mask_param',{transform.tm})}\")\n",
    "                print(f\"    - n_freq_masks: {getattr(transform,'n_freq_masks',{transform.nf})}\")\n",
    "                print(f\"    - n_time_masks: {getattr(transform,'n_time_masks',{transform.nt})}\")\n",
    "    elif HEAD_MODE == 'classifier':\n",
    "        head = SimpleAnomalyMLP(in_dim=256, dropout=0.4, hidden=128, out_dim=2)\n",
    "        class_counts = [2624, 319]\n",
    "        \n",
    "        alpha = 0.7\n",
    "        total = sum(class_counts)\n",
    "        class_weights = [(total / c) ** alpha for c in class_counts]  \n",
    "        class_weights = torch.tensor(class_weights, dtype=torch.float32).to(device)\n",
    "        criterion = nn.CrossEntropyLoss(weight=class_weights)\n",
    "        print(f\"Using head: {head}\")\n",
    "        print(\"Used transformations:\")\n",
    "        for transform in train_transforms.transforms:\n",
    "            # Print the name of the transformation class\n",
    "            print(f\"  - {transform.__class__.__name__}\")\n",
    "    \n",
    "            # Check for specific transformations and print their parameters\n",
    "            if isinstance(transform, SpecTimePitchWarp):\n",
    "\n",
    "                print(f\"    - time_scale: {getattr(transform, 'max_time_scale', {transform.max_time})}\")\n",
    "                print(f\"    - freq_scale: {getattr(transform, 'max_freq_scale', {transform.max_freq})}\")\n",
    "            if isinstance(transform, SpecAugment):\n",
    "                print(f\"    - freq_mask_param: {getattr(transform,'freq_mask_param',{transform.fm})}\")\n",
    "                print(f\"    - time_mask_param: {getattr(transform,'time_mask_param', {transform.tm})}\")\n",
    "                print(f\"    - n_freq_masks: {getattr(transform,'n_freq_masks',{transform.nf})}\")\n",
    "                print(f\"    - n_time_masks: {getattr(transform,'n_time_masks',{transform.nt})}\")\n",
    "    elif HEAD_MODE == 'classifier-1':\n",
    "        head = AnomalyScorer(in_dim=256, dropout=0.4, mode='classifier-1')\n",
    "        pos_count = sum(all_labels)\n",
    "        neg_count = len(all_labels) - pos_count\n",
    "        pos_weight = torch.tensor([neg_count / (pos_count + 1e-8)], dtype=torch.float32).to(device)\n",
    "        criterion = nn.BCEWithLogitsLoss(pos_weight=pos_weight)\n",
    "        print(f\"Using head: \\n{head}\")\n",
    "        print(\"Used transformations:\")\n",
    "        for transform in train_transforms.transforms:\n",
    "            print(f\"- {transform.__class__.__name__}\")\n",
    "            if isinstance(transform, SpecTimePitchWarp):\n",
    "\n",
    "                print(f\"    - time_scale: {getattr(transform, 'max_time_scale', {transform.max_time})}\")\n",
    "                print(f\"    - freq_scale: {getattr(transform, 'max_freq_scale', {transform.max_freq})}\")\n",
    "            if isinstance(transform, SpecAugment):\n",
    "                print(f\"    - freq_mask_param: {getattr(transform,'freq_mask_param',{transform.fm})}\")\n",
    "                print(f\"    - time_mask_param: {getattr(transform,'time_mask_param', {transform.tm})}\")\n",
    "                print(f\"    - n_freq_masks: {getattr(transform,'n_freq_masks',{transform.nf})}\")\n",
    "                print(f\"    - n_time_masks: {getattr(transform,'n_time_masks',{transform.nt})}\")\n",
    "    else:\n",
    "        raise ValueError(\"Invalid Head_Mode\")\n",
    "    \n",
    "    model = FusedModel(\n",
    "        stft_dim=512, cqt_dim=320, fusion_dim=256, head=head, head_mode=head_mode,\n",
    "    ).to(device)\n",
    "    \n",
    "    optimizer = optim.AdamW(model.parameters(), lr=LR, weight_decay=WEIGHT_DECAY)\n",
    "    scheduler = optim.lr_scheduler.CosineAnnealingLR(optimizer, T_max=NUM_EPOCHS, eta_min=1e-6)\n",
    "    \n",
    "    model_path = os.path.join(CHECKPOINT_DIR, 'DFCA', '[Anomaly-With-Transformations-dropout=0.4]_MLP(5e-5)','ComplexMLP-75', \"best_model.pth\")\n",
    "    os.makedirs(os.path.dirname(model_path), exist_ok=True)  \n",
    "    best_threshold = train_model(model, train_loader, val_loader, criterion, optimizer, head_mode, scheduler, num_epochs=NUM_EPOCHS, model_save_path=model_path, device=device, save_plots=True)\n",
    "    \n",
    "    print(\"\\n--- Final Test Evaluation ---\")\n",
    "    model.load_state_dict(torch.load(model_path))\n",
    "    \n",
    "    safe_threshold = float(best_threshold) if best_threshold is not None else 0.5\n",
    "\n",
    "    test_loss, test_auc, test_acc, test_bacc, test_f1, all_labels_test, all_probs_test, _ = evaluate_model(model, test_loader, criterion, \"Test\", device, head_mode=head_mode, sample_count=5, threshold=safe_threshold)\n",
    "    print(f\"\\nFinal Test Metrics (with best validation threshold {best_threshold:.2f}):\")\n",
    "    print(f\"Loss: {test_loss:.4f} | AUC: {test_auc:.4f} | Accuracy: {test_acc:.4f} | Balanced Accuracy: {test_bacc:.4f} | F1-Score: {test_f1:.4f}\")\n",
    "    if len(np.unique(all_labels_test)) > 1:\n",
    "        final_pauc = calculate_pAUC(all_labels_test, all_probs_test, max_fpr=0.2)\n",
    "        print(f\"Final Test pAUC (FPR <= 0.2): {final_pauc:.4f}\")\n",
    "    else:\n",
    "        print(\"Test set contains only one class; cannot compute AUC/pAUC\")\n",
    "\n",
    "\n",
    "    # Plot ROC\n",
    "    fpr, tpr, _ = roc_curve(all_labels_test, all_probs_test)\n",
    "    plt.figure(figsize=(6,6))\n",
    "    plt.plot(fpr, tpr, lw=2, label=f\"{test_auc:.4f}\")\n",
    "    plt.plot([0,1],[0,1], linestyle='--', lw=1)\n",
    "    plt.xlabel(\"FPR\")\n",
    "    plt.ylabel(\"TPR\")\n",
    "    plt.title(\"Test ROC With Optimal Threshold\")\n",
    "    plt.legend()\n",
    "    plt.grid(True)\n",
    "    plt.savefig(os.path.join(save_path,\"roc_test_optimal.png\"))\n",
    "    # plt.show()\n",
    "\n",
    "    labels = ['Normal', 'Anomaly']\n",
    "    all_preds_test = (np.array(all_probs_test) > safe_threshold).astype(int)\n",
    "    plot_confusion_matrix(all_labels_test, all_preds_test,labels,save_path,title='Test Set Confusion Matrix')\n",
    "\n",
    "    try:\n",
    "        cams = build_gradcam_for_model(model, device)\n",
    "        run_and_save_gradcams(model, cams, test_set,device, out_dir=os.path.join(CHECKPOINT_DIR,'DFCA','[Anomaly-With-Transformations-dropout=0.4]_MLP(5e-5)','ComplexMLP-75','gradcam'),n_samples=8)\n",
    "    except Exception as error:\n",
    "        print(f\"GradCAM step failed: {error}\")\n",
    "\n",
    "if __name__ == '__main__':\n",
    "    main()"
   ]
  }
 ],
 "metadata": {
  "kernelspec": {
   "display_name": "capstone",
   "language": "python",
   "name": "python3"
  },
  "language_info": {
   "codemirror_mode": {
    "name": "ipython",
    "version": 3
   },
   "file_extension": ".py",
   "mimetype": "text/x-python",
   "name": "python",
   "nbconvert_exporter": "python",
   "pygments_lexer": "ipython3",
   "version": "3.12.10"
  }
 },
 "nbformat": 4,
 "nbformat_minor": 5
}
