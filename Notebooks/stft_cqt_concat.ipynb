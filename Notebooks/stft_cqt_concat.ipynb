{
 "cells": [
  {
   "cell_type": "markdown",
   "id": "6e47c8fe",
   "metadata": {},
   "source": [
    "# Standard Imports"
   ]
  },
  {
   "cell_type": "code",
   "execution_count": 1,
   "id": "a7875d62",
   "metadata": {},
   "outputs": [],
   "source": [
    "import os\n",
    "import sys\n",
    "import numpy as np\n",
    "import torch\n",
    "import torch.nn as nn\n",
    "import torch.optim as optim\n",
    "import matplotlib.pyplot as plt\n",
    "from torch.utils.data import DataLoader, ConcatDataset, Subset\n",
    "from collections import Counter\n",
    "from torchvision import transforms\n",
    "from tqdm import tqdm\n",
    "from sklearn.model_selection import train_test_split\n",
    "from sklearn.metrics import roc_auc_score, accuracy_score, balanced_accuracy_score, f1_score, roc_curve "
   ]
  },
  {
   "cell_type": "markdown",
   "id": "59676b38",
   "metadata": {},
   "source": [
    "# Custom Imports"
   ]
  },
  {
   "cell_type": "code",
   "execution_count": 2,
   "id": "70315be0",
   "metadata": {},
   "outputs": [
    {
     "name": "stderr",
     "output_type": "stream",
     "text": [
      "f:\\CapStone\\DFCA\\capstone\\Lib\\site-packages\\tqdm\\auto.py:21: TqdmWarning: IProgress not found. Please update jupyter and ipywidgets. See https://ipywidgets.readthedocs.io/en/stable/user_install.html\n",
      "  from .autonotebook import tqdm as notebook_tqdm\n"
     ]
    }
   ],
   "source": [
    "custom_modules_path = os.path.abspath(r'F:\\Capstone\\DFCA')\n",
    "\n",
    "# Add the path to sys.path\n",
    "if custom_modules_path not in sys.path:\n",
    "    sys.path.append(custom_modules_path)\n",
    "\n",
    "from utils.datasets import PairedSpectrogramDataset\n",
    "from utils.augmentations import ZScoreNormalizeSpectrogram,AugmentSpectrogram\n",
    "from utils.metrics_utils import calculate_pAUC, plot_confusion_matrix\n",
    "from models.feature_extractor import CQTFeatureExtractor,STFTFrequencyAdaptiveFeatureExtractor\n",
    "from models.heads import AnomalyScorer"
   ]
  },
  {
   "cell_type": "markdown",
   "id": "1543ca64",
   "metadata": {},
   "source": [
    "# SimpleFusedModel"
   ]
  },
  {
   "cell_type": "code",
   "execution_count": 3,
   "id": "5630b38e",
   "metadata": {},
   "outputs": [],
   "source": [
    "class SimpleFusedModel(nn.Module):\n",
    "    def __init__(self, head):\n",
    "        super().__init__()\n",
    "        self.stft_net = STFTFrequencyAdaptiveFeatureExtractor()\n",
    "        self.cqt_net = CQTFeatureExtractor()\n",
    "        self.stft_pool = nn.AdaptiveAvgPool2d((1, 1))\n",
    "        self.cqt_pool = nn.AdaptiveAvgPool2d((1, 1))\n",
    "        self.head = head\n",
    "\n",
    "    def forward(self, stft, cqt):\n",
    "        stft_features = self.stft_net(stft)\n",
    "        cqt_features = self.cqt_net(cqt)\n",
    "        stft_vec = torch.flatten(self.stft_pool(stft_features), 1)\n",
    "        cqt_vec = torch.flatten(self.cqt_pool(cqt_features), 1)\n",
    "        fused_vec = torch.cat((stft_vec, cqt_vec), dim=1)\n",
    "        return self.head(fused_vec)"
   ]
  },
  {
   "cell_type": "markdown",
   "id": "9914c541",
   "metadata": {},
   "source": [
    "# Device Configfuration's"
   ]
  },
  {
   "cell_type": "code",
   "execution_count": null,
   "id": "60520bab",
   "metadata": {},
   "outputs": [
    {
     "name": "stdout",
     "output_type": "stream",
     "text": [
      "Using Device: cuda - NVIDIA GeForce MX450\n",
      "Checkpoints will be saved to: F:\\Capstone\\DFCA\\checkpoints\\Fused\n",
      "Learning Rate: 5e-05 | Weight decay: 0.01\n"
     ]
    }
   ],
   "source": [
    "device = torch.device(\"cuda\" if torch.cuda.is_available() else \"cpu\")\n",
    "print(f\"Using Device: {device}\" + (f\" - {torch.cuda.get_device_name(0)}\" if torch.cuda.is_available() else \"\"))\n",
    "\n",
    "FEATURES_DIR = os.path.abspath(r'F:\\CapStone\\DFCA\\data\\features\\-6_dB_features')\n",
    "CHECKPOINT_DIR = os.path.abspath(r'F:\\Capstone\\DFCA\\checkpoints\\Fused')\n",
    "os.makedirs(CHECKPOINT_DIR, exist_ok=True)\n",
    "print(f\"Checkpoints will be saved to: {CHECKPOINT_DIR}\")\n",
    "\n",
    "\n",
    "BATCH_SIZE = 32\n",
    "NUM_EPOCHS = 50\n",
    "LR = 5e-5\n",
    "WEIGHT_DECAY = 1e-2\n",
    "PATIENCE=5\n",
    "\n",
    "print(f\"Learning Rate: {LR} | Weight decay: {WEIGHT_DECAY}\")"
   ]
  },
  {
   "cell_type": "markdown",
   "id": "a7ffd9a6",
   "metadata": {},
   "source": [
    "# Evaluate and Training Loops"
   ]
  },
  {
   "cell_type": "code",
   "execution_count": 5,
   "id": "c6a5056b",
   "metadata": {},
   "outputs": [],
   "source": [
    "def _compute_primary_probs_and_loss_from_head(outputs, labels, criterion):\n",
    "    \"\"\"\n",
    "    Computes probabilities, predictions, and loss for a binary classifier head.\n",
    "    \"\"\"\n",
    "    logits = outputs.squeeze()\n",
    "    probs = torch.sigmoid(logits)\n",
    "    loss = criterion(logits, labels.float())\n",
    "    preds = (probs > 0.5).long()\n",
    "    return probs, preds, loss\n",
    "\n",
    "def evaluate_model(model, data_loader, criterion, phase=\"Evaluation\", device=device, threshold=0.5):\n",
    "    model.eval()\n",
    "    running_loss = 0.0\n",
    "    all_labels, all_probs = [], []\n",
    "\n",
    "    with torch.no_grad():\n",
    "        for batch in tqdm(data_loader, desc=phase):\n",
    "            # 1. Load data to the specified device\n",
    "            stft, cqt, labels= batch['stft'].to(device), batch['cqt'].to(device), batch['label'].to(device)\n",
    "            outputs = model(stft, cqt)\n",
    "\n",
    "            probs, _, loss = _compute_primary_probs_and_loss_from_head(outputs, labels, criterion)\n",
    "\n",
    "            running_loss += loss.item() * stft.size(0)\n",
    "            all_labels.extend(labels.cpu().numpy())\n",
    "            all_probs.extend(probs.detach().cpu().numpy())\n",
    "\n",
    "    # --- Metrics Calculation ---\n",
    "    avg_loss = running_loss / len(data_loader.dataset)\n",
    "    \n",
    "    # During validation, find the best F1-score and its threshold\n",
    "    best_threshold = threshold\n",
    "    if phase == \"Validation\":\n",
    "        best_f1 = 0\n",
    "        for thresh in np.arange(0.01, 1.0, 0.01):\n",
    "            preds_at_thresh = (np.array(all_probs) > thresh).astype(int)\n",
    "            f1_candidate = f1_score(all_labels, preds_at_thresh)\n",
    "            if f1_candidate > best_f1:\n",
    "                best_f1 = f1_candidate\n",
    "                best_threshold = thresh\n",
    "        print(f\"Optimal Threshold found: {best_threshold:.2f} (Best F1-score: {best_f1:.4f})\")\n",
    "\n",
    "    # Use the best threshold for final predictions\n",
    "    all_preds = (np.array(all_probs) > best_threshold).astype(int)\n",
    "    \n",
    "    # Calculate all metrics\n",
    "    auc_score = roc_auc_score(all_labels, all_probs) if len(np.unique(all_labels)) > 1 else float('nan')\n",
    "    acc_score = accuracy_score(all_labels, all_preds)\n",
    "    bacc_score = balanced_accuracy_score(all_labels, all_preds)\n",
    "    f1 = f1_score(all_labels, all_preds)\n",
    "\n",
    "    print(f\"{phase} -> Loss: {avg_loss:.4f} | AUC: {auc_score:.4f} | ACC: {acc_score:.4f} | BACC: {bacc_score:.4f} | F1: {f1:.4f}\")\n",
    "    print(f\"Prediction Distribution: {dict(Counter(all_preds))}\")\n",
    "\n",
    "    return avg_loss, auc_score, acc_score, bacc_score, f1, all_labels, all_probs, best_threshold\n",
    "\n",
    "def train_model(model, train_loader, val_loader, criterion, optimizer, scheduler, num_epochs, model_save_path, device=device, save_plots=True, patience=5):\n",
    "    best_val_auc = -np.inf\n",
    "    best_val_loss = np.inf\n",
    "    best_val_bacc = -np.inf\n",
    "    best_threshold = 0.5\n",
    "    patience_counter = 0\n",
    "\n",
    "    train_losses, val_losses = [],[]\n",
    "    train_accs, val_accs = [], []\n",
    "    train_baccs, val_baccs = [], []\n",
    "    train_aucs, val_aucs = [], []\n",
    "    \n",
    "    for epoch in range(num_epochs):\n",
    "        print(f\"\\nEpoch {epoch+1}/{num_epochs}\")\n",
    "        model.train()\n",
    "        running_loss = 0.0\n",
    "        all_labels, all_probs, all_preds = [], [], []\n",
    "\n",
    "        for batch in tqdm(train_loader, desc=\"Train\"):\n",
    "            stft, cqt, labels = batch['stft'].to(device), batch['cqt'].to(device), batch['label'].to(device)\n",
    "            \n",
    "            optimizer.zero_grad()\n",
    "\n",
    "            logits = model(stft, cqt)\n",
    "\n",
    "            probs, preds, loss = _compute_primary_probs_and_loss_from_head(logits, labels, criterion)\n",
    "\n",
    "            loss.backward()\n",
    "            optimizer.step()\n",
    "\n",
    "            running_loss += loss.item() * stft.size(0)\n",
    "            all_labels.extend(labels.cpu().numpy())\n",
    "            all_probs.extend(probs.detach().cpu().numpy())\n",
    "            all_preds.extend(preds.detach().cpu().numpy())\n",
    "\n",
    "        # --- End of Epoch: Calculate Training Metrics ---\n",
    "        epoch_loss = running_loss / len(train_loader.dataset)\n",
    "        epoch_auc = roc_auc_score(all_labels, all_probs)\n",
    "        epoch_acc = accuracy_score(all_labels, all_preds)\n",
    "        epoch_bacc = balanced_accuracy_score(all_labels, all_preds)\n",
    "\n",
    "        train_losses.append(epoch_loss)\n",
    "        train_aucs.append(epoch_auc)\n",
    "        train_accs.append(epoch_acc)\n",
    "        train_baccs.append(epoch_bacc)\n",
    "        \n",
    "        print(f\"Train -> Loss: {epoch_loss:.4f} | AUC: {epoch_auc:.4f} | ACC: {epoch_acc:.4f} | BACC: {epoch_bacc:.4f}\")\n",
    "\n",
    "        # --- Validation Step ---\n",
    "        val_loss, val_auc, val_acc, val_bacc, _, _, _, current_optimal_threshold = evaluate_model(\n",
    "            model, val_loader, criterion, phase=\"Validation\", device=device, threshold=best_threshold # type: ignore\n",
    "        )\n",
    "\n",
    "        val_losses.append(val_loss)\n",
    "        val_aucs.append(val_auc)\n",
    "        val_accs.append(val_acc)\n",
    "        val_baccs.append(val_bacc)\n",
    "\n",
    "        if scheduler:\n",
    "            scheduler.step()\n",
    "\n",
    "        if val_bacc > best_val_bacc:\n",
    "            best_val_bacc = val_bacc\n",
    "            patience_counter = 0\n",
    "            bacc_path = model_save_path.replace(\".pth\", \"_best_bacc.pth\")\n",
    "            torch.save(model.state_dict(), bacc_path)\n",
    "            print(f\"Saved Best-BACC model to {bacc_path} (val_bacc improved to {best_val_bacc:.4f}\")\n",
    "        else:\n",
    "            patience_counter += 1\n",
    "            print(f\"Val BACC {val_bacc:.4f} did not improve from {best_val_bacc:.4f}. Patience: {patience_counter}/{patience}\")\n",
    "        \n",
    "        # Save by best loss\n",
    "        if val_loss < best_val_loss:\n",
    "            best_val_loss = val_loss\n",
    "            loss_path = model_save_path.replace(\".pth\", \"_best_loss.pth\")\n",
    "            torch.save(model.state_dict(), loss_path)\n",
    "            print(f\"Saved Best-Loss model to {loss_path} (val_loss improved to {best_val_loss:.4f})\")\n",
    "\n",
    "        # Save by best AUC\n",
    "        if not np.isnan(val_auc) and val_auc > best_val_auc:\n",
    "            best_val_auc = val_auc\n",
    "            best_threshold = current_optimal_threshold\n",
    "            torch.save(model.state_dict(), model_save_path)\n",
    "            print(f\"Saved Best-AUC model to {model_save_path} (val_auc improved to {best_val_auc:.4f})\")\n",
    "        else:\n",
    "            print(f\"Val AUC {val_auc:.4f} did not improve from best {best_val_auc:.4f}\")\n",
    "        \n",
    "        if patience_counter >= patience:\n",
    "            print(f\"Early stopping triggered after {epoch+1} epochs\")\n",
    "            break\n",
    "    \n",
    "    # Plotting training history\n",
    "    if save_plots:\n",
    "        epochs = range(1, len(train_losses)+ 1)\n",
    "        plt.figure(figsize=(18, 5))\n",
    "        \n",
    "        plt.subplot(1, 4, 1)\n",
    "        plt.plot(epochs, train_losses, label='Train Loss')\n",
    "        plt.plot(epochs, val_losses, label='Val Loss')\n",
    "        plt.title('Loss')\n",
    "        plt.legend()\n",
    "        plt.grid(True)\n",
    "\n",
    "        plt.subplot(1, 4, 2)\n",
    "        plt.plot(epochs, train_aucs, label='Train AUC')\n",
    "        plt.plot(epochs, val_aucs, label='Val AUC')\n",
    "        plt.title('AUC')\n",
    "        plt.legend()\n",
    "        plt.grid(True)\n",
    "        \n",
    "        plt.subplot(1, 4, 3)\n",
    "        plt.plot(epochs, train_accs, label='Train Accuracy')\n",
    "        plt.plot(epochs, val_accs, label='Val Accuracy')\n",
    "        plt.title('Accuracy')\n",
    "        plt.legend()\n",
    "        plt.grid(True)\n",
    "\n",
    "        plt.subplot(1, 4, 4)\n",
    "        plt.plot(epochs, train_baccs, label='Train BACC')\n",
    "        plt.plot(epochs, val_baccs, label='Val BACC')\n",
    "        plt.title('Balanced Accuracy')\n",
    "        plt.legend()\n",
    "        plt.grid(True)\n",
    "\n",
    "        plt.tight_layout()\n",
    "        plt.savefig(os.path.join(os.path.dirname(model_save_path), \"training_summary.png\"))\n",
    "        plt.show()\n",
    "        plt.close()\n",
    "        \n",
    "    return best_threshold"
   ]
  },
  {
   "cell_type": "markdown",
   "id": "3565860a",
   "metadata": {},
   "source": [
    "# Main"
   ]
  },
  {
   "cell_type": "code",
   "execution_count": 6,
   "id": "56a23c6c",
   "metadata": {},
   "outputs": [
    {
     "name": "stdout",
     "output_type": "stream",
     "text": [
      "Loading datasets for CQT spectrograms...\n",
      "Split Sizes => Train: 2943, Val: 631, Test: 631\n",
      "Label Distribution (Train): Counter({0: 2624, 1: 319})\n",
      "Label Distribution (Validation): Counter({0: 562, 1: 69})\n",
      "Label Distribution (Test): Counter({0: 563, 1: 68})\n",
      "Data split => Train: 2943, Validation: 631, Test: 631\n",
      "Label Distribution (Train): Counter({0: 2624, 1: 319})\n",
      "\n",
      "Using BCEWithLogitsLoss with pos_weight: 8.22\n",
      "\n",
      "Starting model training...\n",
      "\n",
      "Epoch 1/50\n"
     ]
    },
    {
     "name": "stderr",
     "output_type": "stream",
     "text": [
      "Train: 100%|██████████| 92/92 [08:21<00:00,  5.45s/it]\n"
     ]
    },
    {
     "name": "stdout",
     "output_type": "stream",
     "text": [
      "Train -> Loss: 0.9899 | AUC: 0.7810 | ACC: 0.6388 | BACC: 0.6969\n"
     ]
    },
    {
     "name": "stderr",
     "output_type": "stream",
     "text": [
      "Validation: 100%|██████████| 20/20 [00:19<00:00,  1.00it/s]\n"
     ]
    },
    {
     "name": "stdout",
     "output_type": "stream",
     "text": [
      "Optimal Threshold found: 0.82 (Best F1-score: 0.6176)\n",
      "Validation -> Loss: 0.8203 | AUC: 0.8621 | ACC: 0.9176 | BACC: 0.7821 | F1: 0.6176\n",
      "Prediction Distribution: {np.int64(0): 564, np.int64(1): 67}\n",
      "Saved Best-BACC model to F:\\Capstone\\DFCA\\checkpoints\\Fused\\best_model_best_bacc.pth (val_bacc improved to 0.7821\n",
      "Saved Best-Loss model to F:\\Capstone\\DFCA\\checkpoints\\Fused\\best_model_best_loss.pth (val_loss improved to 0.8203)\n",
      "Saved Best-AUC model to F:\\Capstone\\DFCA\\checkpoints\\Fused\\best_model.pth (val_auc improved to 0.8621)\n",
      "\n",
      "Epoch 2/50\n"
     ]
    },
    {
     "name": "stderr",
     "output_type": "stream",
     "text": [
      "Train: 100%|██████████| 92/92 [08:32<00:00,  5.57s/it]\n"
     ]
    },
    {
     "name": "stdout",
     "output_type": "stream",
     "text": [
      "Train -> Loss: 0.6908 | AUC: 0.9081 | ACC: 0.8128 | BACC: 0.8303\n"
     ]
    },
    {
     "name": "stderr",
     "output_type": "stream",
     "text": [
      "Validation: 100%|██████████| 20/20 [00:18<00:00,  1.06it/s]\n"
     ]
    },
    {
     "name": "stdout",
     "output_type": "stream",
     "text": [
      "Optimal Threshold found: 0.86 (Best F1-score: 0.6370)\n",
      "Validation -> Loss: 0.6903 | AUC: 0.9113 | ACC: 0.9223 | BACC: 0.7911 | F1: 0.6370\n",
      "Prediction Distribution: {np.int64(0): 565, np.int64(1): 66}\n",
      "Saved Best-BACC model to F:\\Capstone\\DFCA\\checkpoints\\Fused\\best_model_best_bacc.pth (val_bacc improved to 0.7911\n",
      "Saved Best-Loss model to F:\\Capstone\\DFCA\\checkpoints\\Fused\\best_model_best_loss.pth (val_loss improved to 0.6903)\n",
      "Saved Best-AUC model to F:\\Capstone\\DFCA\\checkpoints\\Fused\\best_model.pth (val_auc improved to 0.9113)\n",
      "\n",
      "Epoch 3/50\n"
     ]
    },
    {
     "name": "stderr",
     "output_type": "stream",
     "text": [
      "Train: 100%|██████████| 92/92 [08:32<00:00,  5.57s/it]\n"
     ]
    },
    {
     "name": "stdout",
     "output_type": "stream",
     "text": [
      "Train -> Loss: 0.4769 | AUC: 0.9561 | ACC: 0.8943 | BACC: 0.9063\n"
     ]
    },
    {
     "name": "stderr",
     "output_type": "stream",
     "text": [
      "Validation: 100%|██████████| 20/20 [00:18<00:00,  1.07it/s]\n"
     ]
    },
    {
     "name": "stdout",
     "output_type": "stream",
     "text": [
      "Optimal Threshold found: 0.94 (Best F1-score: 0.7541)\n",
      "Validation -> Loss: 0.6144 | AUC: 0.9301 | ACC: 0.9525 | BACC: 0.8271 | F1: 0.7541\n",
      "Prediction Distribution: {np.int64(0): 578, np.int64(1): 53}\n",
      "Saved Best-BACC model to F:\\Capstone\\DFCA\\checkpoints\\Fused\\best_model_best_bacc.pth (val_bacc improved to 0.8271\n",
      "Saved Best-Loss model to F:\\Capstone\\DFCA\\checkpoints\\Fused\\best_model_best_loss.pth (val_loss improved to 0.6144)\n",
      "Saved Best-AUC model to F:\\Capstone\\DFCA\\checkpoints\\Fused\\best_model.pth (val_auc improved to 0.9301)\n",
      "\n",
      "Epoch 4/50\n"
     ]
    },
    {
     "name": "stderr",
     "output_type": "stream",
     "text": [
      "Train: 100%|██████████| 92/92 [08:22<00:00,  5.46s/it]\n"
     ]
    },
    {
     "name": "stdout",
     "output_type": "stream",
     "text": [
      "Train -> Loss: 0.3391 | AUC: 0.9785 | ACC: 0.9208 | BACC: 0.9239\n"
     ]
    },
    {
     "name": "stderr",
     "output_type": "stream",
     "text": [
      "Validation: 100%|██████████| 20/20 [00:18<00:00,  1.07it/s]\n"
     ]
    },
    {
     "name": "stdout",
     "output_type": "stream",
     "text": [
      "Optimal Threshold found: 0.99 (Best F1-score: 0.6622)\n",
      "Validation -> Loss: 1.1048 | AUC: 0.9085 | ACC: 0.9208 | BACC: 0.8284 | F1: 0.6622\n",
      "Prediction Distribution: {np.int64(1): 79, np.int64(0): 552}\n",
      "Saved Best-BACC model to F:\\Capstone\\DFCA\\checkpoints\\Fused\\best_model_best_bacc.pth (val_bacc improved to 0.8284\n",
      "Val AUC 0.9085 did not improve from best 0.9301\n",
      "\n",
      "Epoch 5/50\n"
     ]
    },
    {
     "name": "stderr",
     "output_type": "stream",
     "text": [
      "Train: 100%|██████████| 92/92 [08:31<00:00,  5.56s/it]\n"
     ]
    },
    {
     "name": "stdout",
     "output_type": "stream",
     "text": [
      "Train -> Loss: 0.2179 | AUC: 0.9900 | ACC: 0.9565 | BACC: 0.9618\n"
     ]
    },
    {
     "name": "stderr",
     "output_type": "stream",
     "text": [
      "Validation: 100%|██████████| 20/20 [00:18<00:00,  1.06it/s]\n"
     ]
    },
    {
     "name": "stdout",
     "output_type": "stream",
     "text": [
      "Optimal Threshold found: 0.93 (Best F1-score: 0.7669)\n",
      "Validation -> Loss: 0.5452 | AUC: 0.9517 | ACC: 0.9509 | BACC: 0.8580 | F1: 0.7669\n",
      "Prediction Distribution: {np.int64(0): 567, np.int64(1): 64}\n",
      "Saved Best-BACC model to F:\\Capstone\\DFCA\\checkpoints\\Fused\\best_model_best_bacc.pth (val_bacc improved to 0.8580\n",
      "Saved Best-Loss model to F:\\Capstone\\DFCA\\checkpoints\\Fused\\best_model_best_loss.pth (val_loss improved to 0.5452)\n",
      "Saved Best-AUC model to F:\\Capstone\\DFCA\\checkpoints\\Fused\\best_model.pth (val_auc improved to 0.9517)\n",
      "\n",
      "Epoch 6/50\n"
     ]
    },
    {
     "name": "stderr",
     "output_type": "stream",
     "text": [
      "Train: 100%|██████████| 92/92 [08:28<00:00,  5.53s/it]\n"
     ]
    },
    {
     "name": "stdout",
     "output_type": "stream",
     "text": [
      "Train -> Loss: 0.1296 | AUC: 0.9971 | ACC: 0.9715 | BACC: 0.9771\n"
     ]
    },
    {
     "name": "stderr",
     "output_type": "stream",
     "text": [
      "Validation: 100%|██████████| 20/20 [00:18<00:00,  1.08it/s]\n"
     ]
    },
    {
     "name": "stdout",
     "output_type": "stream",
     "text": [
      "Optimal Threshold found: 0.94 (Best F1-score: 0.6829)\n",
      "Validation -> Loss: 0.6555 | AUC: 0.9314 | ACC: 0.9382 | BACC: 0.7937 | F1: 0.6829\n",
      "Prediction Distribution: {np.int64(0): 577, np.int64(1): 54}\n",
      "Val BACC 0.7937 did not improve from 0.8580. Patience: 1/5\n",
      "Val AUC 0.9314 did not improve from best 0.9517\n",
      "\n",
      "Epoch 7/50\n"
     ]
    },
    {
     "name": "stderr",
     "output_type": "stream",
     "text": [
      "Train: 100%|██████████| 92/92 [08:28<00:00,  5.53s/it]\n"
     ]
    },
    {
     "name": "stdout",
     "output_type": "stream",
     "text": [
      "Train -> Loss: 0.0940 | AUC: 0.9986 | ACC: 0.9783 | BACC: 0.9809\n"
     ]
    },
    {
     "name": "stderr",
     "output_type": "stream",
     "text": [
      "Validation: 100%|██████████| 20/20 [00:18<00:00,  1.08it/s]\n"
     ]
    },
    {
     "name": "stdout",
     "output_type": "stream",
     "text": [
      "Optimal Threshold found: 0.90 (Best F1-score: 0.7899)\n",
      "Validation -> Loss: 0.7809 | AUC: 0.9404 | ACC: 0.9604 | BACC: 0.8379 | F1: 0.7899\n",
      "Prediction Distribution: {np.int64(0): 581, np.int64(1): 50}\n",
      "Val BACC 0.8379 did not improve from 0.8580. Patience: 2/5\n",
      "Val AUC 0.9404 did not improve from best 0.9517\n",
      "\n",
      "Epoch 8/50\n"
     ]
    },
    {
     "name": "stderr",
     "output_type": "stream",
     "text": [
      "Train: 100%|██████████| 92/92 [08:32<00:00,  5.57s/it]\n"
     ]
    },
    {
     "name": "stdout",
     "output_type": "stream",
     "text": [
      "Train -> Loss: 0.0725 | AUC: 0.9990 | ACC: 0.9854 | BACC: 0.9849\n"
     ]
    },
    {
     "name": "stderr",
     "output_type": "stream",
     "text": [
      "Validation: 100%|██████████| 20/20 [00:18<00:00,  1.07it/s]\n"
     ]
    },
    {
     "name": "stdout",
     "output_type": "stream",
     "text": [
      "Optimal Threshold found: 0.96 (Best F1-score: 0.7642)\n",
      "Validation -> Loss: 0.6011 | AUC: 0.9497 | ACC: 0.9540 | BACC: 0.8344 | F1: 0.7642\n",
      "Prediction Distribution: {np.int64(0): 577, np.int64(1): 54}\n",
      "Val BACC 0.8344 did not improve from 0.8580. Patience: 3/5\n",
      "Val AUC 0.9497 did not improve from best 0.9517\n",
      "\n",
      "Epoch 9/50\n"
     ]
    },
    {
     "name": "stderr",
     "output_type": "stream",
     "text": [
      "Train: 100%|██████████| 92/92 [08:25<00:00,  5.50s/it]\n"
     ]
    },
    {
     "name": "stdout",
     "output_type": "stream",
     "text": [
      "Train -> Loss: 0.0843 | AUC: 0.9984 | ACC: 0.9861 | BACC: 0.9853\n"
     ]
    },
    {
     "name": "stderr",
     "output_type": "stream",
     "text": [
      "Validation: 100%|██████████| 20/20 [00:17<00:00,  1.11it/s]\n"
     ]
    },
    {
     "name": "stdout",
     "output_type": "stream",
     "text": [
      "Optimal Threshold found: 0.39 (Best F1-score: 0.7874)\n",
      "Validation -> Loss: 0.9536 | AUC: 0.9457 | ACC: 0.9572 | BACC: 0.8552 | F1: 0.7874\n",
      "Prediction Distribution: {np.int64(0): 573, np.int64(1): 58}\n",
      "Val BACC 0.8552 did not improve from 0.8580. Patience: 4/5\n",
      "Val AUC 0.9457 did not improve from best 0.9517\n",
      "\n",
      "Epoch 10/50\n"
     ]
    },
    {
     "name": "stderr",
     "output_type": "stream",
     "text": [
      "Train: 100%|██████████| 92/92 [08:14<00:00,  5.38s/it]\n"
     ]
    },
    {
     "name": "stdout",
     "output_type": "stream",
     "text": [
      "Train -> Loss: 0.0479 | AUC: 0.9993 | ACC: 0.9905 | BACC: 0.9919\n"
     ]
    },
    {
     "name": "stderr",
     "output_type": "stream",
     "text": [
      "Validation: 100%|██████████| 20/20 [00:18<00:00,  1.08it/s]\n"
     ]
    },
    {
     "name": "stdout",
     "output_type": "stream",
     "text": [
      "Optimal Threshold found: 0.24 (Best F1-score: 0.7846)\n",
      "Validation -> Loss: 1.0673 | AUC: 0.9419 | ACC: 0.9556 | BACC: 0.8607 | F1: 0.7846\n",
      "Prediction Distribution: {np.int64(0): 570, np.int64(1): 61}\n",
      "Saved Best-BACC model to F:\\Capstone\\DFCA\\checkpoints\\Fused\\best_model_best_bacc.pth (val_bacc improved to 0.8607\n",
      "Val AUC 0.9419 did not improve from best 0.9517\n",
      "\n",
      "Epoch 11/50\n"
     ]
    },
    {
     "name": "stderr",
     "output_type": "stream",
     "text": [
      "Train: 100%|██████████| 92/92 [08:33<00:00,  5.58s/it]\n"
     ]
    },
    {
     "name": "stdout",
     "output_type": "stream",
     "text": [
      "Train -> Loss: 0.0287 | AUC: 0.9996 | ACC: 0.9956 | BACC: 0.9961\n"
     ]
    },
    {
     "name": "stderr",
     "output_type": "stream",
     "text": [
      "Validation: 100%|██████████| 20/20 [00:18<00:00,  1.07it/s]\n"
     ]
    },
    {
     "name": "stdout",
     "output_type": "stream",
     "text": [
      "Optimal Threshold found: 0.49 (Best F1-score: 0.7478)\n",
      "Validation -> Loss: 1.3849 | AUC: 0.9274 | ACC: 0.9540 | BACC: 0.8089 | F1: 0.7478\n",
      "Prediction Distribution: {np.int64(0): 585, np.int64(1): 46}\n",
      "Val BACC 0.8089 did not improve from 0.8607. Patience: 1/5\n",
      "Val AUC 0.9274 did not improve from best 0.9517\n",
      "\n",
      "Epoch 12/50\n"
     ]
    },
    {
     "name": "stderr",
     "output_type": "stream",
     "text": [
      "Train: 100%|██████████| 92/92 [08:52<00:00,  5.78s/it]\n"
     ]
    },
    {
     "name": "stdout",
     "output_type": "stream",
     "text": [
      "Train -> Loss: 0.0104 | AUC: 1.0000 | ACC: 0.9993 | BACC: 0.9996\n"
     ]
    },
    {
     "name": "stderr",
     "output_type": "stream",
     "text": [
      "Validation: 100%|██████████| 20/20 [00:19<00:00,  1.01it/s]\n"
     ]
    },
    {
     "name": "stdout",
     "output_type": "stream",
     "text": [
      "Optimal Threshold found: 0.86 (Best F1-score: 0.7544)\n",
      "Validation -> Loss: 1.0721 | AUC: 0.9358 | ACC: 0.9556 | BACC: 0.8098 | F1: 0.7544\n",
      "Prediction Distribution: {np.int64(0): 586, np.int64(1): 45}\n",
      "Val BACC 0.8098 did not improve from 0.8607. Patience: 2/5\n",
      "Val AUC 0.9358 did not improve from best 0.9517\n",
      "\n",
      "Epoch 13/50\n"
     ]
    },
    {
     "name": "stderr",
     "output_type": "stream",
     "text": [
      "Train: 100%|██████████| 92/92 [08:04<00:00,  5.27s/it]\n"
     ]
    },
    {
     "name": "stdout",
     "output_type": "stream",
     "text": [
      "Train -> Loss: 0.0135 | AUC: 1.0000 | ACC: 0.9983 | BACC: 0.9977\n"
     ]
    },
    {
     "name": "stderr",
     "output_type": "stream",
     "text": [
      "Validation: 100%|██████████| 20/20 [00:19<00:00,  1.04it/s]\n"
     ]
    },
    {
     "name": "stdout",
     "output_type": "stream",
     "text": [
      "Optimal Threshold found: 0.46 (Best F1-score: 0.7692)\n",
      "Validation -> Loss: 1.1478 | AUC: 0.9543 | ACC: 0.9525 | BACC: 0.8525 | F1: 0.7692\n",
      "Prediction Distribution: {np.int64(0): 570, np.int64(1): 61}\n",
      "Val BACC 0.8525 did not improve from 0.8607. Patience: 3/5\n",
      "Saved Best-AUC model to F:\\Capstone\\DFCA\\checkpoints\\Fused\\best_model.pth (val_auc improved to 0.9543)\n",
      "\n",
      "Epoch 14/50\n"
     ]
    },
    {
     "name": "stderr",
     "output_type": "stream",
     "text": [
      "Train: 100%|██████████| 92/92 [08:05<00:00,  5.28s/it]\n"
     ]
    },
    {
     "name": "stdout",
     "output_type": "stream",
     "text": [
      "Train -> Loss: 0.0160 | AUC: 0.9999 | ACC: 0.9969 | BACC: 0.9983\n"
     ]
    },
    {
     "name": "stderr",
     "output_type": "stream",
     "text": [
      "Validation: 100%|██████████| 20/20 [00:18<00:00,  1.09it/s]\n"
     ]
    },
    {
     "name": "stdout",
     "output_type": "stream",
     "text": [
      "Optimal Threshold found: 0.10 (Best F1-score: 0.7500)\n",
      "Validation -> Loss: 1.4248 | AUC: 0.9308 | ACC: 0.9461 | BACC: 0.8553 | F1: 0.7500\n",
      "Prediction Distribution: {np.int64(0): 564, np.int64(1): 67}\n",
      "Val BACC 0.8553 did not improve from 0.8607. Patience: 4/5\n",
      "Val AUC 0.9308 did not improve from best 0.9543\n",
      "\n",
      "Epoch 15/50\n"
     ]
    },
    {
     "name": "stderr",
     "output_type": "stream",
     "text": [
      "Train: 100%|██████████| 92/92 [07:52<00:00,  5.13s/it]\n"
     ]
    },
    {
     "name": "stdout",
     "output_type": "stream",
     "text": [
      "Train -> Loss: 0.0168 | AUC: 0.9999 | ACC: 0.9980 | BACC: 0.9989\n"
     ]
    },
    {
     "name": "stderr",
     "output_type": "stream",
     "text": [
      "Validation: 100%|██████████| 20/20 [00:17<00:00,  1.13it/s]\n"
     ]
    },
    {
     "name": "stdout",
     "output_type": "stream",
     "text": [
      "Optimal Threshold found: 0.27 (Best F1-score: 0.7770)\n",
      "Validation -> Loss: 1.2317 | AUC: 0.9268 | ACC: 0.9509 | BACC: 0.8771 | F1: 0.7770\n",
      "Prediction Distribution: {np.int64(0): 561, np.int64(1): 70}\n",
      "Saved Best-BACC model to F:\\Capstone\\DFCA\\checkpoints\\Fused\\best_model_best_bacc.pth (val_bacc improved to 0.8771\n",
      "Val AUC 0.9268 did not improve from best 0.9543\n",
      "\n",
      "Epoch 16/50\n"
     ]
    },
    {
     "name": "stderr",
     "output_type": "stream",
     "text": [
      "Train: 100%|██████████| 92/92 [07:56<00:00,  5.18s/it]\n"
     ]
    },
    {
     "name": "stdout",
     "output_type": "stream",
     "text": [
      "Train -> Loss: 0.0070 | AUC: 1.0000 | ACC: 0.9986 | BACC: 0.9992\n"
     ]
    },
    {
     "name": "stderr",
     "output_type": "stream",
     "text": [
      "Validation: 100%|██████████| 20/20 [00:18<00:00,  1.09it/s]\n"
     ]
    },
    {
     "name": "stdout",
     "output_type": "stream",
     "text": [
      "Optimal Threshold found: 0.61 (Best F1-score: 0.7603)\n",
      "Validation -> Loss: 1.1758 | AUC: 0.9371 | ACC: 0.9540 | BACC: 0.8280 | F1: 0.7603\n",
      "Prediction Distribution: {np.int64(0): 579, np.int64(1): 52}\n",
      "Val BACC 0.8280 did not improve from 0.8771. Patience: 1/5\n",
      "Val AUC 0.9371 did not improve from best 0.9543\n",
      "\n",
      "Epoch 17/50\n"
     ]
    },
    {
     "name": "stderr",
     "output_type": "stream",
     "text": [
      "Train: 100%|██████████| 92/92 [08:04<00:00,  5.26s/it]\n"
     ]
    },
    {
     "name": "stdout",
     "output_type": "stream",
     "text": [
      "Train -> Loss: 0.0096 | AUC: 1.0000 | ACC: 0.9986 | BACC: 0.9992\n"
     ]
    },
    {
     "name": "stderr",
     "output_type": "stream",
     "text": [
      "Validation: 100%|██████████| 20/20 [00:18<00:00,  1.09it/s]\n"
     ]
    },
    {
     "name": "stdout",
     "output_type": "stream",
     "text": [
      "Optimal Threshold found: 0.58 (Best F1-score: 0.7288)\n",
      "Validation -> Loss: 1.6318 | AUC: 0.9264 | ACC: 0.9493 | BACC: 0.8063 | F1: 0.7288\n",
      "Prediction Distribution: {np.int64(0): 582, np.int64(1): 49}\n",
      "Val BACC 0.8063 did not improve from 0.8771. Patience: 2/5\n",
      "Val AUC 0.9264 did not improve from best 0.9543\n",
      "\n",
      "Epoch 18/50\n"
     ]
    },
    {
     "name": "stderr",
     "output_type": "stream",
     "text": [
      "Train: 100%|██████████| 92/92 [08:05<00:00,  5.27s/it]\n"
     ]
    },
    {
     "name": "stdout",
     "output_type": "stream",
     "text": [
      "Train -> Loss: 0.0271 | AUC: 0.9998 | ACC: 0.9966 | BACC: 0.9953\n"
     ]
    },
    {
     "name": "stderr",
     "output_type": "stream",
     "text": [
      "Validation: 100%|██████████| 20/20 [00:18<00:00,  1.10it/s]\n"
     ]
    },
    {
     "name": "stdout",
     "output_type": "stream",
     "text": [
      "Optimal Threshold found: 0.86 (Best F1-score: 0.7478)\n",
      "Validation -> Loss: 1.4694 | AUC: 0.9142 | ACC: 0.9540 | BACC: 0.8089 | F1: 0.7478\n",
      "Prediction Distribution: {np.int64(0): 585, np.int64(1): 46}\n",
      "Val BACC 0.8089 did not improve from 0.8771. Patience: 3/5\n",
      "Val AUC 0.9142 did not improve from best 0.9543\n",
      "\n",
      "Epoch 19/50\n"
     ]
    },
    {
     "name": "stderr",
     "output_type": "stream",
     "text": [
      "Train: 100%|██████████| 92/92 [07:59<00:00,  5.22s/it]\n"
     ]
    },
    {
     "name": "stdout",
     "output_type": "stream",
     "text": [
      "Train -> Loss: 0.0040 | AUC: 1.0000 | ACC: 1.0000 | BACC: 1.0000\n"
     ]
    },
    {
     "name": "stderr",
     "output_type": "stream",
     "text": [
      "Validation: 100%|██████████| 20/20 [00:17<00:00,  1.12it/s]\n"
     ]
    },
    {
     "name": "stdout",
     "output_type": "stream",
     "text": [
      "Optimal Threshold found: 0.67 (Best F1-score: 0.7368)\n",
      "Validation -> Loss: 1.6346 | AUC: 0.9256 | ACC: 0.9525 | BACC: 0.8017 | F1: 0.7368\n",
      "Prediction Distribution: {np.int64(0): 586, np.int64(1): 45}\n",
      "Val BACC 0.8017 did not improve from 0.8771. Patience: 4/5\n",
      "Val AUC 0.9256 did not improve from best 0.9543\n",
      "\n",
      "Epoch 20/50\n"
     ]
    },
    {
     "name": "stderr",
     "output_type": "stream",
     "text": [
      "Train: 100%|██████████| 92/92 [07:58<00:00,  5.20s/it]\n"
     ]
    },
    {
     "name": "stdout",
     "output_type": "stream",
     "text": [
      "Train -> Loss: 0.0034 | AUC: 1.0000 | ACC: 1.0000 | BACC: 1.0000\n"
     ]
    },
    {
     "name": "stderr",
     "output_type": "stream",
     "text": [
      "Validation: 100%|██████████| 20/20 [00:17<00:00,  1.12it/s]\n"
     ]
    },
    {
     "name": "stdout",
     "output_type": "stream",
     "text": [
      "Optimal Threshold found: 0.09 (Best F1-score: 0.7717)\n",
      "Validation -> Loss: 1.9109 | AUC: 0.9289 | ACC: 0.9540 | BACC: 0.8471 | F1: 0.7717\n",
      "Prediction Distribution: {np.int64(0): 573, np.int64(1): 58}\n",
      "Val BACC 0.8471 did not improve from 0.8771. Patience: 5/5\n",
      "Val AUC 0.9289 did not improve from best 0.9543\n",
      "Early stopping triggered after 20 epochs\n"
     ]
    },
    {
     "data": {
      "image/png": "[encoded data removed]",
      "text/plain": [
       "<Figure size 1800x500 with 4 Axes>"
      ]
     },
     "metadata": {},
     "output_type": "display_data"
    },
    {
     "name": "stdout",
     "output_type": "stream",
     "text": [
      "\n",
      "--- Final Test Evaluation ---\n",
      "Evaluating test set with optimal threshold: 0.46\n"
     ]
    },
    {
     "name": "stderr",
     "output_type": "stream",
     "text": [
      "Test: 100%|██████████| 20/20 [00:19<00:00,  1.01it/s]\n"
     ]
    },
    {
     "name": "stdout",
     "output_type": "stream",
     "text": [
      "Test -> Loss: 1.2712 | AUC: 0.9293 | ACC: 0.9287 | BACC: 0.8372 | F1: 0.6853\n",
      "Prediction Distribution: {np.int64(0): 556, np.int64(1): 75}\n",
      "\n",
      "Final Test Metrics (Threshold = 0.46):\n",
      "  -> Accuracy (ACC)         : 0.9287\n",
      "  -> Balanced Accuracy (BACC): 0.8372\n",
      "  -> AUC                    : 0.9293\n",
      "  -> pAUC (FPR<=0.2)        : 0.7719\n",
      "  -> F1-Score               : 0.6853\n"
     ]
    },
    {
     "data": {
      "image/png": "[encoded data removed]",
      "text/plain": [
       "<Figure size 600x600 with 1 Axes>"
      ]
     },
     "metadata": {},
     "output_type": "display_data"
    },
    {
     "name": "stdout",
     "output_type": "stream",
     "text": [
      "TP: 49 | TN: 537 | FP: 26 | FN: 19 | Precision: 0.6533 | Recall: 0.7206 | Specificity: 0.9538\n"
     ]
    },
    {
     "data": {
      "image/png": "[encoded data removed]",
      "text/plain": [
       "<Figure size 800x800 with 2 Axes>"
      ]
     },
     "metadata": {},
     "output_type": "display_data"
    }
   ],
   "source": [
    "def main():\n",
    "    # --- Configuration ---\n",
    "    SEED = 42\n",
    "    np.random.seed(SEED)\n",
    "    torch.manual_seed(SEED)\n",
    "    torch.cuda.manual_seed(SEED)\n",
    "    torch.backends.cudnn.deterministic = True\n",
    "    torch.backends.cudnn.benchmark = False\n",
    "\n",
    "    # --- Data Transformations ---\n",
    "    train_transform = transforms.Compose([\n",
    "        ZScoreNormalizeSpectrogram(),\n",
    "        AugmentSpectrogram(time_mask_param=2, freq_mask_param=2) \n",
    "    ])\n",
    "    val_test_transform = transforms.Compose([\n",
    "        ZScoreNormalizeSpectrogram(),\n",
    "    ])\n",
    "    # --- Dataset Loading ---\n",
    "    print(\"Loading datasets for CQT spectrograms...\")\n",
    "    full_dataset_aug = PairedSpectrogramDataset(base_dir=FEATURES_DIR, transform=train_transform)\n",
    "    full_dataset_norm = PairedSpectrogramDataset(base_dir=FEATURES_DIR, transform=val_test_transform)\n",
    "    all_labels = full_dataset_aug.labels\n",
    "    \n",
    "    indices = list(range(len(all_labels)))\n",
    "    train_idx, temp_idx = train_test_split(indices, test_size=0.3, stratify=all_labels, random_state=SEED)\n",
    "    val_idx, test_idx = train_test_split(temp_idx, test_size=0.5, stratify=[all_labels[i] for i in temp_idx], random_state=SEED)\n",
    "    \n",
    "    train_set = Subset(full_dataset_aug, train_idx)\n",
    "    val_set = Subset(full_dataset_norm, val_idx)\n",
    "    test_set = Subset(full_dataset_norm, test_idx)\n",
    "\n",
    "    print(f\"Split Sizes => Train: {len(train_set)}, Val: {len(val_set)}, Test: {len(test_set)}\")\n",
    "    print(f\"Label Distribution (Train): {Counter([all_labels[i] for i in train_idx])}\")\n",
    "    print(f\"Label Distribution (Validation): {Counter([all_labels[i] for i in val_idx])}\")\n",
    "    print(f\"Label Distribution (Test): {Counter([all_labels[i] for i in test_idx])}\")\n",
    "\n",
    "    # --- Data Loaders ---\n",
    "    train_loader = DataLoader(train_set, batch_size=BATCH_SIZE, shuffle=True)\n",
    "    val_loader = DataLoader(val_set, batch_size=BATCH_SIZE, shuffle=False)\n",
    "    test_loader = DataLoader(test_set, batch_size=BATCH_SIZE, shuffle=False)\n",
    "\n",
    "    print(f\"Data split => Train: {len(train_set)}, Validation: {len(val_set)}, Test: {len(test_set)}\")\n",
    "    print(f\"Label Distribution (Train): {Counter([all_labels[i] for i in train_idx])}\")\n",
    "\n",
    "    # --- Model, Criterion, and Optimizer Setup ---\n",
    "    # ResNet18 (STFT) -> 512, MobileViT-XXS (CQT) -> 320. Total = 832.\n",
    "    head = AnomalyScorer(in_dim=832, dropout=0.4, mode='classifier-1')\n",
    "    model = SimpleFusedModel(head=head).to(device)\n",
    "\n",
    "    # Use weighted Binary Cross-Entropy loss for imbalanced data\n",
    "    pos_weight = torch.tensor([all_labels.count(0) / all_labels.count(1)], dtype=torch.float32).to(device)\n",
    "    criterion = nn.BCEWithLogitsLoss(pos_weight=pos_weight)\n",
    "    print(f\"\\nUsing BCEWithLogitsLoss with pos_weight: {pos_weight.item():.2f}\")\n",
    "\n",
    "    optimizer = optim.AdamW(model.parameters(), lr=LR, weight_decay=WEIGHT_DECAY)\n",
    "    scheduler = optim.lr_scheduler.CosineAnnealingLR(optimizer=optimizer, T_max=NUM_EPOCHS, eta_min=1e-6)\n",
    "\n",
    "    model_path = os.path.join(CHECKPOINT_DIR, \"best_model.pth\")\n",
    "    os.makedirs(os.path.dirname(model_path), exist_ok=True)\n",
    "\n",
    "    # --- Training ---\n",
    "    print(\"\\nStarting model training...\")\n",
    "    best_threshold = train_model(\n",
    "        model=model,\n",
    "        train_loader=train_loader,\n",
    "        val_loader=val_loader,\n",
    "        criterion=criterion,\n",
    "        optimizer=optimizer,\n",
    "        scheduler=scheduler,\n",
    "        num_epochs=NUM_EPOCHS,\n",
    "        model_save_path=model_path,\n",
    "        device=device,\n",
    "        save_plots=True,\n",
    "        patience=PATIENCE\n",
    "    )\n",
    "    \n",
    "    # --- Final Test Evaluation ---\n",
    "    print(\"\\n--- Final Test Evaluation ---\")\n",
    "    model.load_state_dict(torch.load(model_path, map_location=device))\n",
    "\n",
    "    # Evaluate using the best threshold found during validation\n",
    "    print(f\"Evaluating test set with optimal threshold: {best_threshold:.2f}\")\n",
    "    \n",
    "    # The simplified evaluate_model now returns the f1 score directly\n",
    "    _, test_auc, test_acc, test_bacc, test_f1, all_labels_test, all_probs_test, _ = evaluate_model(\n",
    "        model=model, data_loader=test_loader, criterion=criterion, phase=\"Test\", device=device, threshold=best_threshold\n",
    "    )\n",
    "    \n",
    "    # We must set the threshold for the test evaluation predictions.\n",
    "    # The new evaluate_model does not take threshold as an argument, so we apply it manually for the final report.\n",
    "    all_preds_test = (np.array(all_probs_test) > best_threshold).astype(int)\n",
    "    final_acc = accuracy_score(all_labels_test, all_preds_test)\n",
    "    final_bacc = balanced_accuracy_score(all_labels_test, all_preds_test)\n",
    "    final_f1 = f1_score(all_labels_test, all_preds_test)\n",
    "    final_pauc = calculate_pAUC(labels=all_labels_test, preds=all_probs_test, max_fpr=0.2)\n",
    "\n",
    "    print(f\"\\nFinal Test Metrics (Threshold = {best_threshold:.2f}):\")\n",
    "    print(f\"  -> Accuracy (ACC)         : {final_acc:.4f}\")\n",
    "    print(f\"  -> Balanced Accuracy (BACC): {final_bacc:.4f}\")\n",
    "    print(f\"  -> AUC                    : {test_auc:.4f}\")\n",
    "    print(f\"  -> pAUC (FPR<=0.2)        : {final_pauc:.4f}\")\n",
    "    print(f\"  -> F1-Score               : {final_f1:.4f}\")\n",
    "\n",
    "    # --- Plotting ---\n",
    "    # ROC Curve\n",
    "    fpr, tpr, _ = roc_curve(y_true=all_labels_test, y_score=all_probs_test)\n",
    "    plt.figure(figsize=(6, 6))\n",
    "    plt.plot(fpr, tpr, lw=2, label=f\"AUC = {test_auc:.4f}\")\n",
    "    plt.plot([0, 1], [0, 1], linestyle='--', lw=1, color='gray')\n",
    "    plt.xlabel(\"False Positive Rate\")\n",
    "    plt.ylabel(\"True Positive Rate\")\n",
    "    plt.title(\"Test ROC With Optimal Threshold\")\n",
    "    plt.legend()\n",
    "    plt.grid(True)\n",
    "    plt.tight_layout()\n",
    "    plt.savefig(os.path.join(CHECKPOINT_DIR, \"roc_test_optimal.png\"))\n",
    "    plt.show()\n",
    "    plt.close()\n",
    "\n",
    "    class_labels = [\"Normal\", \"Abnormal\"]\n",
    "    plot_confusion_matrix(y_true=all_labels_test, y_pred=all_preds_test, labels=class_labels, save_path=CHECKPOINT_DIR, title=\"Test Set Confusion Matrix\")\n",
    "\n",
    "\n",
    "if __name__ == \"__main__\":\n",
    "    main()"
   ]
  }
 ],
 "metadata": {
  "kernelspec": {
   "display_name": "capstone",
   "language": "python",
   "name": "python3"
  },
  "language_info": {
   "codemirror_mode": {
    "name": "ipython",
    "version": 3
   },
   "file_extension": ".py",
   "mimetype": "text/x-python",
   "name": "python",
   "nbconvert_exporter": "python",
   "pygments_lexer": "ipython3",
   "version": "3.12.10"
  }
 },
 "nbformat": 4,
 "nbformat_minor": 5
}
